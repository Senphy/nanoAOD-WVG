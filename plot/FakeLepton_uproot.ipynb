{
 "cells": [
  {
   "cell_type": "code",
   "execution_count": 1,
   "id": "sublime-shore",
   "metadata": {},
   "outputs": [
    {
     "name": "stdout",
     "output_type": "stream",
     "text": [
      "Welcome to JupyROOT 6.22/06\n"
     ]
    }
   ],
   "source": [
    "import matplotlib\n",
    "import uproot, uproot3\n",
    "import numpy\n",
    "import awkward\n",
    "import numba\n",
    "import numpy as np\n",
    "import matplotlib.pyplot as plt\n",
    "import mplhep as hep\n",
    "import pandas as pd\n",
    "from tqdm import trange\n",
    "import ROOT\n",
    "import os,sys\n",
    "from array import array"
   ]
  },
  {
   "cell_type": "markdown",
   "id": "operating-guitar",
   "metadata": {},
   "source": [
    "## Lumi"
   ]
  },
  {
   "cell_type": "code",
   "execution_count": 2,
   "id": "super-breakdown",
   "metadata": {},
   "outputs": [],
   "source": [
    "# CMS_lumi\n",
    "#   Initiated by: Gautier Hamel de Monchenault (Saclay)\n",
    "#   Translated in Python by: Joshua Hardenbrook (Princeton)\n",
    "#   Updated by:   Dinko Ferencek (Rutgers)\n",
    "#\n",
    "\n",
    "cmsText     = \"CMS\";\n",
    "cmsTextFont   = 62  \n",
    "\n",
    "writeExtraText = True\n",
    "extraText   = \"Preliminary\"\n",
    "extraTextFont = 52 \n",
    "\n",
    "lumiTextSize     = 0.4\n",
    "lumiTextOffset   = 0.2\n",
    "\n",
    "cmsTextSize      = 0.45\n",
    "cmsTextOffset    = 0.1\n",
    "\n",
    "relPosX    = 0.045\n",
    "relPosY    = 0.035\n",
    "relExtraDY = 1.2\n",
    "\n",
    "extraOverCmsTextSize  = 0.76\n",
    "\n",
    "lumi_13TeV = \"20.1 fb^{-1}\"\n",
    "lumi_8TeV  = \"19.7 fb^{-1}\" \n",
    "lumi_7TeV  = \"5.1 fb^{-1}\"\n",
    "lumi_sqrtS = \"59.7 fb^{-1} (13 TeV)\"\n",
    "\n",
    "drawLogo      = False\n",
    "\n",
    "def CMS_lumi(pad,  iPeriod,  iPosX ):\n",
    "    outOfFrame    = False\n",
    "    if(iPosX/10==0 ): outOfFrame = True\n",
    "\n",
    "    alignY_=3\n",
    "    alignX_=2\n",
    "    if( iPosX/10==0 ): alignX_=1\n",
    "    if( iPosX==0    ): alignY_=1\n",
    "    if( iPosX/10==1 ): alignX_=1\n",
    "    if( iPosX/10==2 ): alignX_=2\n",
    "    if( iPosX/10==3 ): alignX_=3\n",
    "    align_ = 10*alignX_ + alignY_\n",
    "\n",
    "    H = pad.GetWh()\n",
    "    W = pad.GetWw()\n",
    "    l = pad.GetLeftMargin()\n",
    "    t = pad.GetTopMargin()\n",
    "    r = pad.GetRightMargin()\n",
    "    b = pad.GetBottomMargin()\n",
    "    e = 0.025\n",
    "\n",
    "    pad.cd()\n",
    "\n",
    "    lumiText = \"\"\n",
    "    if( iPeriod==1 ):\n",
    "        lumiText += lumi_7TeV\n",
    "        lumiText += \" (7 TeV)\"\n",
    "    elif ( iPeriod==2 ):\n",
    "        lumiText += lumi_8TeV\n",
    "        lumiText += \" (8 TeV)\"\n",
    "\n",
    "    elif( iPeriod==3 ):      \n",
    "        lumiText = lumi_8TeV \n",
    "        lumiText += \" (8 TeV)\"\n",
    "        lumiText += \" + \"\n",
    "        lumiText += lumi_7TeV\n",
    "        lumiText += \" (7 TeV)\"\n",
    "    elif ( iPeriod==4 ):\n",
    "        lumiText += lumi_13TeV\n",
    "        lumiText += \" (13 TeV)\"\n",
    "    elif ( iPeriod==7 ):\n",
    "        if( outOfFrame ):lumiText += \"#scale[0.85]{\"\n",
    "        lumiText += lumi_13TeV \n",
    "        lumiText += \" (13 TeV)\"\n",
    "        lumiText += \" + \"\n",
    "        lumiText += lumi_8TeV \n",
    "        lumiText += \" (8 TeV)\"\n",
    "        lumiText += \" + \"\n",
    "        lumiText += lumi_7TeV\n",
    "        lumiText += \" (7 TeV)\"\n",
    "        if( outOfFrame): lumiText += \"}\"\n",
    "    elif ( iPeriod==12 ):\n",
    "        lumiText += \"8 TeV\"\n",
    "    elif ( iPeriod==0 ):\n",
    "        lumiText += lumi_sqrtS\n",
    "            \n",
    "    print (lumiText)\n",
    "\n",
    "    latex = ROOT.TLatex()\n",
    "    latex.SetNDC()\n",
    "    latex.SetTextAngle(0)\n",
    "    latex.SetTextColor(ROOT.kBlack)    \n",
    "    \n",
    "    extraTextSize = extraOverCmsTextSize*cmsTextSize\n",
    "    \n",
    "    latex.SetTextFont(42)\n",
    "    latex.SetTextAlign(31) \n",
    "    latex.SetTextSize(lumiTextSize*t)    \n",
    "\n",
    "    latex.DrawLatex(1-r,1-t+lumiTextOffset*t,lumiText)\n",
    "\n",
    "    if( outOfFrame ):\n",
    "        latex.SetTextFont(cmsTextFont)\n",
    "        latex.SetTextAlign(11) \n",
    "        latex.SetTextSize(cmsTextSize*t)    \n",
    "        latex.DrawLatex(l,1-t+lumiTextOffset*t,cmsText)\n",
    "  \n",
    "    pad.cd()\n",
    "\n",
    "    posX_ = 0\n",
    "    if( iPosX%10<=1 ):\n",
    "        posX_ =   l + relPosX*(1-l-r)\n",
    "    elif( iPosX%10==2 ):\n",
    "        posX_ =  l + 0.5*(1-l-r)\n",
    "    elif( iPosX%10==3 ):\n",
    "        posX_ =  1-r - relPosX*(1-l-r)\n",
    "\n",
    "    posY_ = 1-t - relPosY*(1-t-b)\n",
    "\n",
    "    if( not outOfFrame ):\n",
    "        if( drawLogo ):\n",
    "            posX_ =   l + 0.045*(1-l-r)*W/H\n",
    "            posY_ = 1-t - 0.045*(1-t-b)\n",
    "            xl_0 = posX_\n",
    "            yl_0 = posY_ - 0.15\n",
    "            xl_1 = posX_ + 0.15*H/W\n",
    "            yl_1 = posY_\n",
    "            CMS_logo = ROOT.TASImage(\"CMS-BW-label.png\")\n",
    "            pad_logo =  ROOT.TPad(\"logo\",\"logo\", xl_0, yl_0, xl_1, yl_1 )\n",
    "            pad_logo.Draw()\n",
    "            pad_logo.cd()\n",
    "            CMS_logo.Draw(\"X\")\n",
    "            pad_logo.Modified()\n",
    "            pad.cd()          \n",
    "        else:\n",
    "            latex.SetTextFont(cmsTextFont)\n",
    "            latex.SetTextSize(cmsTextSize*t)\n",
    "            latex.SetTextAlign(align_)\n",
    "            latex.DrawLatex(posX_, posY_, cmsText)\n",
    "            if( writeExtraText ) :\n",
    "                latex.SetTextFont(extraTextFont)\n",
    "                latex.SetTextAlign(align_)\n",
    "                latex.SetTextSize(extraTextSize*t)\n",
    "                latex.DrawLatex(posX_, posY_- relExtraDY*cmsTextSize*t, extraText)\n",
    "    elif( writeExtraText ):\n",
    "        if( iPosX==0):\n",
    "            posX_ =   l +  relPosX*(1-l-r)\n",
    "            posY_ =   1-t+lumiTextOffset*t\n",
    "\n",
    "        latex.SetTextFont(extraTextFont)\n",
    "        latex.SetTextSize(extraTextSize*t)\n",
    "        latex.SetTextAlign(align_)\n",
    "        latex.DrawLatex(posX_*1.20, posY_, extraText)      \n",
    "\n",
    "    pad.Update()"
   ]
  },
  {
   "cell_type": "markdown",
   "id": "comparative-routine",
   "metadata": {},
   "source": [
    "## tdrstyle"
   ]
  },
  {
   "cell_type": "code",
   "execution_count": 3,
   "id": "coordinated-tampa",
   "metadata": {
    "ExecuteTime": {
     "end_time": "2021-03-14T13:18:11.397209Z",
     "start_time": "2021-03-14T13:18:11.043090Z"
    }
   },
   "outputs": [],
   "source": [
    "tdrStyle =  ROOT.TStyle(\"\",\"\")\n",
    "\n",
    "#for the canvas:\n",
    "tdrStyle.SetCanvasBorderMode(0)\n",
    "tdrStyle.SetCanvasColor(ROOT.kWhite)\n",
    "tdrStyle.SetCanvasDefH(1000) #Height of canvas\n",
    "tdrStyle.SetCanvasDefW(800) #Width of canvas\n",
    "tdrStyle.SetCanvasDefX(0)   #POsition on screen\n",
    "tdrStyle.SetCanvasDefY(0)\n",
    "\n",
    "\n",
    "tdrStyle.SetPadBorderMode(0)\n",
    "#tdrStyle.SetPadBorderSize(Width_t size = 1)\n",
    "tdrStyle.SetPadColor(ROOT.kWhite)\n",
    "tdrStyle.SetPadGridX(False)\n",
    "tdrStyle.SetPadGridY(False)\n",
    "tdrStyle.SetGridColor(0)\n",
    "tdrStyle.SetGridStyle(3)\n",
    "tdrStyle.SetGridWidth(1)\n",
    "\n",
    "#For the frame:\n",
    "tdrStyle.SetFrameBorderMode(1)\n",
    "tdrStyle.SetFrameBorderSize(1)\n",
    "tdrStyle.SetFrameFillColor(0)\n",
    "tdrStyle.SetFrameFillStyle(0)\n",
    "tdrStyle.SetFrameLineColor(1)\n",
    "tdrStyle.SetFrameLineStyle(1)\n",
    "tdrStyle.SetFrameLineWidth(1)\n",
    "\n",
    "#For the histo:\n",
    "#tdrStyle.SetHistFillColor(1)\n",
    "#tdrStyle.SetHistFillStyle(0)\n",
    "tdrStyle.SetHistLineColor(1)\n",
    "tdrStyle.SetHistLineStyle(0)\n",
    "tdrStyle.SetHistLineWidth(1)\n",
    "#tdrStyle.SetLegoInnerR(Float_t rad = 0.5)\n",
    "#tdrStyle.SetNumberContours(Int_t number = 20)\n",
    "\n",
    "tdrStyle.SetEndErrorSize(2)\n",
    "#tdrStyle.SetErrorMarker(20)\n",
    "#tdrStyle.SetErrorX(0.)\n",
    "\n",
    "tdrStyle.SetMarkerStyle(20)\n",
    "\n",
    "#For the fit/function:\n",
    "tdrStyle.SetOptFit(1)\n",
    "tdrStyle.SetFitFormat(\"5.4g\")\n",
    "tdrStyle.SetFuncColor(2)\n",
    "tdrStyle.SetFuncStyle(1)\n",
    "tdrStyle.SetFuncWidth(1)\n",
    "\n",
    "#For the date:\n",
    "tdrStyle.SetOptDate(0)\n",
    "# tdrStyle.SetDateX(Float_t x = 0.01)\n",
    "# tdrStyle.SetDateY(Float_t y = 0.01)\n",
    "\n",
    "# For the statistics box:\n",
    "tdrStyle.SetOptFile(0)\n",
    "tdrStyle.SetOptStat(0) # To display the mean and RMS:   SetOptStat(\"mr\")\n",
    "tdrStyle.SetStatColor(ROOT.kWhite)\n",
    "tdrStyle.SetStatFont(42)\n",
    "tdrStyle.SetStatFontSize(0.025)\n",
    "tdrStyle.SetStatTextColor(1)\n",
    "tdrStyle.SetStatFormat(\"6.4g\")\n",
    "tdrStyle.SetStatBorderSize(1)\n",
    "tdrStyle.SetStatH(0.1)\n",
    "tdrStyle.SetStatW(0.15)\n",
    "# tdrStyle.SetStatStyle(Style_t style = 1001)\n",
    "# tdrStyle.SetStatX(Float_t x = 0)\n",
    "# tdrStyle.SetStatY(Float_t y = 0)\n",
    "\n",
    "# Margins:\n",
    "tdrStyle.SetPadTopMargin(0.11)\n",
    "tdrStyle.SetPadBottomMargin(0.11)\n",
    "tdrStyle.SetPadLeftMargin(0.11)\n",
    "tdrStyle.SetPadRightMargin(0.11)\n",
    "\n",
    "# For the Global title:\n",
    "\n",
    "tdrStyle.SetOptTitle(0)\n",
    "tdrStyle.SetTitleFont(42)\n",
    "tdrStyle.SetTitleColor(1)\n",
    "tdrStyle.SetTitleTextColor(1)\n",
    "tdrStyle.SetTitleFillColor(10)\n",
    "tdrStyle.SetTitleFontSize(0.05)\n",
    "# tdrStyle.SetTitleH(0) # Set the height of the title box\n",
    "# tdrStyle.SetTitleW(0) # Set the width of the title box\n",
    "# tdrStyle.SetTitleX(0) # Set the position of the title box\n",
    "# tdrStyle.SetTitleY(0.985) # Set the position of the title box\n",
    "# tdrStyle.SetTitleStyle(Style_t style = 1001)\n",
    "# tdrStyle.SetTitleBorderSize(2)\n",
    "\n",
    "# For the axis titles:\n",
    "\n",
    "tdrStyle.SetTitleColor(1, \"XYZ\")\n",
    "tdrStyle.SetTitleFont(42, \"XYZ\")\n",
    "tdrStyle.SetTitleSize(0.04, \"XYZ\")\n",
    "#   tdrStyle.SetTitleXSize(Float_t size = 0.02) # Another way to set the size?\n",
    "#   tdrStyle.SetTitleYSize(Float_t size = 0.02)\n",
    "tdrStyle.SetTitleXOffset(0.9)\n",
    "tdrStyle.SetTitleYOffset(1.25)\n",
    "# tdrStyle.SetTitleOffset(1.1, \"Y\") # Another way to set the Offset\n",
    "\n",
    "# For the axis labels:\n",
    "\n",
    "tdrStyle.SetLabelColor(1, \"XYZ\")\n",
    "tdrStyle.SetLabelFont(42, \"XYZ\")\n",
    "tdrStyle.SetLabelOffset(0.007, \"XYZ\")\n",
    "tdrStyle.SetLabelSize(0.03, \"XYZ\")\n",
    "\n",
    "# For the axis:\n",
    "\n",
    "tdrStyle.SetAxisColor(1, \"XYZ\")\n",
    "tdrStyle.SetStripDecimals(True)\n",
    "tdrStyle.SetTickLength(0.03, \"XYZ\")\n",
    "tdrStyle.SetNdivisions(510, \"XYZ\")\n",
    "tdrStyle.SetPadTickX(1)  # To get tick marks on the opposite side of the frame\n",
    "tdrStyle.SetPadTickY(1)\n",
    "\n",
    "# Change for log plots:\n",
    "tdrStyle.SetOptLogx(0)\n",
    "tdrStyle.SetOptLogy(0)\n",
    "tdrStyle.SetOptLogz(0)\n",
    "\n",
    "# Postscript options:\n",
    "# tdrStyle.SetPaperSize(20.,20.)\n",
    "# tdrStyle.SetLineScalePS(Float_t scale = 3)\n",
    "# tdrStyle.SetLineStyleString(Int_t i, const char* text)\n",
    "# tdrStyle.SetHeaderPS(const char* header)\n",
    "# tdrStyle.SetTitlePS(const char* pstitle)\n",
    "\n",
    "# tdrStyle.SetBarOffset(Float_t baroff = 0.5)\n",
    "# tdrStyle.SetBarWidth(Float_t barwidth = 0.5)\n",
    "# tdrStyle.SetPaintTextFormat(const char* format = \"g\")\n",
    "# tdrStyle.SetPalette(Int_t ncolors = 0, Int_t* colors = 0)\n",
    "# tdrStyle.SetTimeOffset(Double_t toffset)\n",
    "# tdrStyle.SetHistMinimumZero(kTRUE)\n",
    "\n",
    "tdrStyle.SetHatchesLineWidth(1)\n",
    "tdrStyle.SetHatchesSpacing(0.5)\n",
    "\n",
    "tdrStyle.cd()"
   ]
  },
  {
   "cell_type": "markdown",
   "id": "streaming-switch",
   "metadata": {},
   "source": [
    "## ratio function"
   ]
  },
  {
   "cell_type": "code",
   "execution_count": 156,
   "id": "medical-burke",
   "metadata": {},
   "outputs": [],
   "source": [
    "from ROOT import TCanvas, TColor, TGaxis, TH1F, TPad\n",
    "from ROOT import kBlack, kBlue, kRed\n",
    "\n",
    "def createRatio(h1, h2):\n",
    "    h3 = h1.Clone(\"h3\")\n",
    "    h3.SetLineColor(kBlack)\n",
    "    h3.SetMarkerStyle(21)\n",
    "    h3.SetTitle(\"\")\n",
    "    h3.SetMinimum(0.0)\n",
    "    h3.SetMaximum(2.10)\n",
    "    # Set up plot for markers and errors\n",
    "    h3.Sumw2()\n",
    "    h3.SetStats(0)\n",
    "    h3.Divide(h2)\n",
    "\n",
    "    # Adjust y-axis settings\n",
    "    y = h3.GetYaxis()\n",
    "    y.SetTitle(\"Data / MC \")\n",
    "    y.SetNdivisions(105)\n",
    "    y.SetTitleSize(20)\n",
    "    y.SetTitleFont(43)\n",
    "    y.SetTitleOffset(1.55)\n",
    "    y.SetLabelFont(43)\n",
    "    y.SetLabelSize(20)\n",
    "\n",
    "    # Adjust x-axis settings\n",
    "    x = h3.GetXaxis()\n",
    "    x.SetTitleSize(20)\n",
    "    x.SetTitleFont(43)\n",
    "    x.SetTitleOffset(4.0)\n",
    "    x.SetLabelFont(43)\n",
    "    x.SetLabelSize(20)\n",
    "\n",
    "    return h3\n"
   ]
  },
  {
   "cell_type": "markdown",
   "id": "southeast-conversation",
   "metadata": {
    "tags": []
   },
   "source": [
    "## Fake lepton plot\n",
    "\n",
    "- [Fake Rate](#Fake-Rate)\n",
    "- [Apply Weight](#Apply-Weight)\n",
    "- [Closure Test](#Closure-Test)"
   ]
  },
  {
   "cell_type": "code",
   "execution_count": null,
   "id": "comparative-orleans",
   "metadata": {},
   "outputs": [],
   "source": [
    "plt.style.use(hep.style.CMS)\n",
    "# import matplotlib as mpl\n",
    "# mpl.style.use(hep.style.CMS)"
   ]
  },
  {
   "cell_type": "code",
   "execution_count": 5,
   "id": "consistent-hotel",
   "metadata": {},
   "outputs": [],
   "source": [
    "@numba.njit\n",
    "def sgn(num):\n",
    "    if (num >= 0):\n",
    "        return 1\n",
    "    else:\n",
    "        return -1"
   ]
  },
  {
   "cell_type": "code",
   "execution_count": null,
   "id": "documentary-shirt",
   "metadata": {},
   "outputs": [],
   "source": [
    "# len(branches['gen_weight'])\n",
    "# true_events = file['nEventsGenWeighted'].values()[0]"
   ]
  },
  {
   "cell_type": "markdown",
   "id": "continuing-resident",
   "metadata": {
    "tags": []
   },
   "source": [
    "### Prescale HLT"
   ]
  },
  {
   "cell_type": "markdown",
   "id": "needed-petersburg",
   "metadata": {},
   "source": [
    "#### Prescale"
   ]
  },
  {
   "cell_type": "code",
   "execution_count": null,
   "id": "miniature-theme",
   "metadata": {},
   "outputs": [],
   "source": [
    "def GetHist_Prescale(file, hist, isData):\n",
    "    \n",
    "    if isData:\n",
    "        print('is Data')\n",
    "        branches = uproot.open(file+':Events').arrays(['dilepton_mass','HLT_IsoMu24','HLT_Mu8_TrkIsoVVL','HLT_Mu17_TrkIsoVVL'], library='pd')\n",
    "    else:\n",
    "        print('is MC')\n",
    "        branches = uproot.open(file+':Events').arrays(['dilepton_mass','gen_weight','HLT_IsoMu24','HLT_Mu8_TrkIsoVVL','HLT_Mu17_TrkIsoVVL'], library='pd')\n",
    "        true_events = uproot.open(file)['nEventsGenWeighted'].values()[0]\n",
    "        weight = (1000*lumi*xsec) / true_events\n",
    "    \n",
    "    mll_cut1 = branches.loc[:,'dilepton_mass'] > 60\n",
    "    mll_cut2 = branches.loc[:,'dilepton_mass'] < 120\n",
    "    \n",
    "    HLT_cut1 = branches.loc[:,'HLT_Mu8_TrkIsoVVL'] == True\n",
    "    HLT_cut2 = branches.loc[:,'HLT_Mu17_TrkIsoVVL'] == True\n",
    "    HLT_cut3 = branches.loc[:,'HLT_IsoMu24'] == True\n",
    "    \n",
    "    arrays = branches.loc[mll_cut1 & mll_cut2 & HLT_cut1,:]\n",
    "    \n",
    "    if isData:\n",
    "        for i in trange(0, len(arrays['dilepton_mass']), desc=f'fill mll for: {file}'):\n",
    "            hist.Fill(float(arrays['dilepton_mass'].values[i]))\n",
    "    else:\n",
    "        for i in trange(0, len(arrays['dilepton_mass']), desc=f'fill mll for: {file}'):\n",
    "            hist.Fill(float(arrays['dilepton_mass'].values[i]),weight*sgn(arrays['gen_weight'].values[i]))\n",
    "        \n",
    "        \n",
    "def Cal_Prescale_Factor(hist_DY, hist_DATA):\n",
    "    \n",
    "    # calculating sum sqrt error to get prescale factor\n",
    "    SSE = float('inf')\n",
    "    Prescale_Factor = 1\n",
    "    for i in trange(0, 10000, 100):\n",
    "        for j in trange(0, hist_DATA.GetNbinsX()):\n",
    "            SSE_temp = np.square(hist_DATA.GetBinContent(j+1)-hist_DY.GetBinContent(j+1)) * hist_DATA.GetBinContent(j+1)\n",
    "            if SSE_temp < SSE:\n",
    "                SSE = SSE_temp\n",
    "                Prescale_Factor = i\n",
    "    print(f\"Prescale_Factor: {Prescale_Factor}\")\n",
    "    return Prescale_Factor"
   ]
  },
  {
   "cell_type": "code",
   "execution_count": null,
   "id": "hispanic-hybrid",
   "metadata": {},
   "outputs": [],
   "source": [
    "xbins = 60\n",
    "xlow = 60\n",
    "xup = 120\n",
    "\n",
    "hist_DY_prescale = ROOT.TH1F(\"\",\"\",xbins,xlow,xup)\n",
    "hist_DATA_prescale = ROOT.TH1F(\"\",\"\",xbins,xlow,xup)\n",
    "\n",
    "file_DY_prescale = [\n",
    "    '/eos/user/s/sdeng/WZG_analysis/DY_test/DYJetsToLL_M-50_TuneCP5_13TeV-madgraphMLM-pythia8_2018.root',\n",
    "]\n",
    "\n",
    "file_DATA_prescale = [\n",
    "    '/eos/user/s/sdeng/WZG_analysis/DY_test/',\n",
    "]\n",
    "\n",
    "for file in file_DY_prescale:\n",
    "    GetHist_Prescale(file_DY_prescale, hist_DY_prescale, 0)\n",
    "for file in file_DATA_prescale:\n",
    "GetHist_Prescale(file_DATA_prescale, hist_DATA_prescale, 1)\n",
    "\n",
    "Prescale_Factor = Cal_Prescale_Factor(hist_DY_prescale, hist_DATA_prescale)"
   ]
  },
  {
   "cell_type": "code",
   "execution_count": null,
   "id": "sophisticated-ready",
   "metadata": {},
   "outputs": [],
   "source": [
    "def SetHistStyle_prescale(hist, color):\n",
    "    hist.SetMarkerStyle(20)\n",
    "    hist.SetMarkerColor(color)\n",
    "    hist.SetFillColor(color)\n",
    "    hist.SetYTitle('events/bin')\n",
    "    hist.SetXTitle('#M_ll [GeV]')\n",
    "    hist.SetStats(0)\n",
    "    \n",
    "c1 = ROOT.TCanvas(\"\",\"\",1000,800)\n",
    "\n",
    "hist1 = hist_DY_prescale.Clone()\n",
    "hist2 = hist_DATA_prescale.Clone()\n",
    "\n",
    "SetHistStyle_prescale(hist1, 2)\n",
    "SetHistStyle_prescale(hist2, 0)\n",
    "\n",
    "c1.Draw()\n",
    "hist1.Draw(\"HIST\")\n",
    "hist2.Draw(\"ep SAME\")"
   ]
  },
  {
   "cell_type": "markdown",
   "id": "considerable-numbers",
   "metadata": {},
   "source": [
    "#### Validation"
   ]
  },
  {
   "cell_type": "code",
   "execution_count": 6,
   "id": "fourth-chambers",
   "metadata": {},
   "outputs": [],
   "source": [
    "def AddHist_Prescale_valid(file, hist_pre1, hist_pre2, hist, hist_mu24):\n",
    "    \n",
    "#     branches = uproot.open(file+':Events').arrays(['mt','met','lepton_pt','lepton_pfRelIso04_all','lepton_pdgid','HLT_IsoMu24','HLT_Mu8_TrkIsoVVL','HLT_Mu17_TrkIsoVVL'], library='pd')\n",
    "#     branches = uproot.open(file+':Events').arrays(['dilepton_mass','lepton1_pt','lepton1_pdgId','HLT_IsoMu24','HLT_Mu8_TrkIsoVVL','HLT_Mu17_TrkIsoVVL'], library='pd')\n",
    "    branches = uproot.open(file+':Events').arrays(['HLT_Ele23_Ele12_CaloIdL_TrackIdL_IsoVL','is_lepton_tight','mt','met','lepton_pt','lepton_eta','lepton_pdgid','HLT_Ele8_CaloIdL_TrackIdL_IsoVL_PFJet30','HLT_Ele23_CaloIdL_TrackIdL_IsoVL_PFJet30','hlt'], library='pd')\n",
    "    \n",
    "#     HLT_cut1 = branches.loc[:,'HLT_Mu8_TrkIsoVVL'] == True\n",
    "#     HLT_cut2 = branches.loc[:,'HLT_Mu17_TrkIsoVVL'] == True\n",
    "#     HLT_cut3 = branches.loc[:,'HLT_IsoMu24'] == True\n",
    "    HLT_cut1 = branches.loc[:,'HLT_Ele8_CaloIdL_TrackIdL_IsoVL_PFJet30'] == True\n",
    "    HLT_cut2 = branches.loc[:,'HLT_Ele23_CaloIdL_TrackIdL_IsoVL_PFJet30'] == True\n",
    "    HLT_cut3 = branches.loc[:,'HLT_Ele23_Ele12_CaloIdL_TrackIdL_IsoVL'] == True\n",
    "    pf_cut = branches.loc[:,'is_lepton_tight'] == 1\n",
    "    \n",
    "#     pf_cut = branches.loc[:,'lepton_pfRelIso04_all'] < 0.4\n",
    "#     mll_cut1 = branches.loc[:,'dilepton_mass'] > 60\n",
    "#     mll_cut2 = branches.loc[:,'dilepton_mass'] < 120\n",
    "    lepton_cut = abs(branches.loc[:,'lepton_pdgid']) == 11\n",
    "    pt_edge = branches.loc[:,'lepton_pt'] < 25\n",
    "    mt_cut = branches.loc[:,'mt'] < 20\n",
    "    met_cut = branches.loc[:,'met'] < 20\n",
    "#     lepton_cut = abs(branches.loc[:,'lepton1_pdgId']) == 13\n",
    "#     pt_edge = branches.loc[:,'lepton1_pt'] < 25\n",
    "    \n",
    "    arrays_pre1 = branches.loc[ HLT_cut1 & lepton_cut & pf_cut & mt_cut & met_cut,:]\n",
    "    arrays_pre2 = branches.loc[ HLT_cut2 & lepton_cut & pf_cut & mt_cut & met_cut,:]\n",
    "#     arrays_mu24 = branches.loc[HLT_cut3 & lepton_cut & pf_cut & mt_cut & met_cut,:]\n",
    "    arrays = branches.loc[ lepton_cut & pf_cut & mt_cut & met_cut, :]\n",
    "    \n",
    "    for i in trange(0, len(arrays_pre1['lepton_pt']), desc=f'fill GeV region for HLT_Mu8_TrkIsoVVL in {file}'):\n",
    "        hist_pre1.Fill(float(arrays_pre1['lepton_pt'].values[i]))\n",
    "    for i in trange(0, len(arrays_pre2['lepton_pt']), desc=f'fill GeV region for HLT_Mu17_TrkIsoVVL in {file}'):\n",
    "        hist_pre2.Fill(float(arrays_pre2['lepton_pt'].values[i]))\n",
    "#     for i in trange(0, len(arrays_mu24['lepton_pt']), desc=f'fill for HLT_IsoMu24 in {file}'):\n",
    "#         hist_mu24.Fill(float(arrays_mu24['lepton_pt'].values[i]))\n",
    "    for i in trange(0, len(arrays['lepton_pt']), desc=f'fill for No HLT in {file}'):\n",
    "        hist.Fill(float(arrays['lepton_pt'].values[i]))\n",
    "    \n",
    "    print(\"DONE\")\n",
    "    \n",
    "    return True"
   ]
  },
  {
   "cell_type": "code",
   "execution_count": 7,
   "id": "authorized-collect",
   "metadata": {},
   "outputs": [
    {
     "name": "stderr",
     "output_type": "stream",
     "text": [
      "fill GeV region for HLT_Mu8_TrkIsoVVL in /eos/user/s/sdeng/WZG_analysis/fake_lepton_template/EGamma_Run2018A.root: 100%|██████████| 1018/1018 [00:05<00:00, 180.87it/s]\n",
      "fill GeV region for HLT_Mu17_TrkIsoVVL in /eos/user/s/sdeng/WZG_analysis/fake_lepton_template/EGamma_Run2018A.root: 100%|██████████| 1685/1685 [00:00<00:00, 147026.20it/s]\n",
      "fill for No HLT in /eos/user/s/sdeng/WZG_analysis/fake_lepton_template/EGamma_Run2018A.root: 100%|██████████| 2570692/2570692 [00:14<00:00, 172019.56it/s]\n"
     ]
    },
    {
     "name": "stdout",
     "output_type": "stream",
     "text": [
      "DONE\n"
     ]
    },
    {
     "name": "stderr",
     "output_type": "stream",
     "text": [
      "fill GeV region for HLT_Mu8_TrkIsoVVL in /eos/user/s/sdeng/WZG_analysis/fake_lepton_template/EGamma_Run2018B.root: 100%|██████████| 2324/2324 [00:00<00:00, 131916.34it/s]\n",
      "fill GeV region for HLT_Mu17_TrkIsoVVL in /eos/user/s/sdeng/WZG_analysis/fake_lepton_template/EGamma_Run2018B.root: 100%|██████████| 1776/1776 [00:00<00:00, 155617.20it/s]\n",
      "fill for No HLT in /eos/user/s/sdeng/WZG_analysis/fake_lepton_template/EGamma_Run2018B.root: 100%|██████████| 1258250/1258250 [00:07<00:00, 170372.66it/s]\n"
     ]
    },
    {
     "name": "stdout",
     "output_type": "stream",
     "text": [
      "DONE\n"
     ]
    },
    {
     "name": "stderr",
     "output_type": "stream",
     "text": [
      "fill GeV region for HLT_Mu8_TrkIsoVVL in /eos/user/s/sdeng/WZG_analysis/fake_lepton_template/EGamma_Run2018C.root: 100%|██████████| 2294/2294 [00:00<00:00, 142819.26it/s]\n",
      "fill GeV region for HLT_Mu17_TrkIsoVVL in /eos/user/s/sdeng/WZG_analysis/fake_lepton_template/EGamma_Run2018C.root: 100%|██████████| 1882/1882 [00:00<00:00, 150410.25it/s]\n",
      "fill for No HLT in /eos/user/s/sdeng/WZG_analysis/fake_lepton_template/EGamma_Run2018C.root: 100%|██████████| 1237157/1237157 [00:06<00:00, 180408.97it/s]\n"
     ]
    },
    {
     "name": "stdout",
     "output_type": "stream",
     "text": [
      "DONE\n"
     ]
    },
    {
     "name": "stderr",
     "output_type": "stream",
     "text": [
      "fill GeV region for HLT_Mu8_TrkIsoVVL in /eos/user/s/sdeng/WZG_analysis/fake_lepton_template/EGamma_Run2018D_part1.root: 100%|██████████| 3560/3560 [00:00<00:00, 173808.59it/s]\n",
      "fill GeV region for HLT_Mu17_TrkIsoVVL in /eos/user/s/sdeng/WZG_analysis/fake_lepton_template/EGamma_Run2018D_part1.root: 100%|██████████| 2896/2896 [00:00<00:00, 177479.61it/s]\n",
      "fill for No HLT in /eos/user/s/sdeng/WZG_analysis/fake_lepton_template/EGamma_Run2018D_part1.root: 100%|██████████| 2284118/2284118 [00:13<00:00, 174283.69it/s]\n"
     ]
    },
    {
     "name": "stdout",
     "output_type": "stream",
     "text": [
      "DONE\n"
     ]
    },
    {
     "name": "stderr",
     "output_type": "stream",
     "text": [
      "fill GeV region for HLT_Mu8_TrkIsoVVL in /eos/user/s/sdeng/WZG_analysis/fake_lepton_template/EGamma_Run2018D_part2.root: 100%|██████████| 3118/3118 [00:00<00:00, 150579.62it/s]\n",
      "fill GeV region for HLT_Mu17_TrkIsoVVL in /eos/user/s/sdeng/WZG_analysis/fake_lepton_template/EGamma_Run2018D_part2.root: 100%|██████████| 2489/2489 [00:00<00:00, 145579.10it/s]\n",
      "fill for No HLT in /eos/user/s/sdeng/WZG_analysis/fake_lepton_template/EGamma_Run2018D_part2.root: 100%|██████████| 1940030/1940030 [00:11<00:00, 175114.00it/s]\n"
     ]
    },
    {
     "name": "stdout",
     "output_type": "stream",
     "text": [
      "DONE\n"
     ]
    },
    {
     "name": "stderr",
     "output_type": "stream",
     "text": [
      "fill GeV region for HLT_Mu8_TrkIsoVVL in /eos/user/s/sdeng/WZG_analysis/fake_lepton_template/EGamma_Run2018D_part3.root: 100%|██████████| 4512/4512 [00:00<00:00, 143667.15it/s]\n",
      "fill GeV region for HLT_Mu17_TrkIsoVVL in /eos/user/s/sdeng/WZG_analysis/fake_lepton_template/EGamma_Run2018D_part3.root: 100%|██████████| 3420/3420 [00:00<00:00, 144952.70it/s]\n",
      "fill for No HLT in /eos/user/s/sdeng/WZG_analysis/fake_lepton_template/EGamma_Run2018D_part3.root: 100%|██████████| 2888173/2888173 [00:16<00:00, 176879.71it/s]\n"
     ]
    },
    {
     "name": "stdout",
     "output_type": "stream",
     "text": [
      "DONE\n"
     ]
    }
   ],
   "source": [
    "xbins = 200\n",
    "xlow = 0\n",
    "xup = 200\n",
    "\n",
    "hist_pre1 = ROOT.TH1F(\"\",\"\",xbins,xlow,xup)\n",
    "hist_pre2 = ROOT.TH1F(\"\",\"\",xbins,xlow,xup)\n",
    "hist = ROOT.TH1F(\"\",\"\",xbins,xlow,xup)\n",
    "hist_mu24 = ROOT.TH1F(\"\",\"\",xbins,xlow,xup)\n",
    "\n",
    "hist_pre1.Sumw2()\n",
    "hist_pre2.Sumw2()\n",
    "hist.Sumw2()\n",
    "hist_mu24.Sumw2()\n",
    "\n",
    "filelist_prescale_valid = [\n",
    "#     \"/eos/user/s/sdeng/WZG_analysis/fake_lepton_template/DoubleEG_Run2017B.root\",\n",
    "#     \"/eos/user/s/sdeng/WZG_analysis/fake_lepton_template/DoubleEG_Run2017C.root\",\n",
    "#     \"/eos/user/s/sdeng/WZG_analysis/fake_lepton_template/DoubleEG_Run2017D.root\",\n",
    "#     \"/eos/user/s/sdeng/WZG_analysis/fake_lepton_template/DoubleEG_Run2017E.root\",\n",
    "#     \"/eos/user/s/sdeng/WZG_analysis/fake_lepton_template/DoubleEG_Run2017F.root\",\n",
    "    \"/eos/user/s/sdeng/WZG_analysis/fake_lepton_template/EGamma_Run2018A.root\",\n",
    "    \"/eos/user/s/sdeng/WZG_analysis/fake_lepton_template/EGamma_Run2018B.root\",\n",
    "    \"/eos/user/s/sdeng/WZG_analysis/fake_lepton_template/EGamma_Run2018C.root\",\n",
    "    \"/eos/user/s/sdeng/WZG_analysis/fake_lepton_template/EGamma_Run2018D_part1.root\",\n",
    "    \"/eos/user/s/sdeng/WZG_analysis/fake_lepton_template/EGamma_Run2018D_part2.root\",\n",
    "    \"/eos/user/s/sdeng/WZG_analysis/fake_lepton_template/EGamma_Run2018D_part3.root\",\n",
    "#     \"/eos/user/s/sdeng/WZG_analysis/DY_test/SingleMuon_Run2018A.root\",\n",
    "#     \"/eos/user/s/sdeng/WZG_analysis/DY_test/SingleMuon_Run2018B.root\",\n",
    "#     \"/eos/user/s/sdeng/WZG_analysis/DY_test/SingleMuon_Run2018C.root\",\n",
    "#     \"/eos/user/s/sdeng/WZG_analysis/DY_test/SingleMuon_Run2018D.root\",\n",
    "#     \"/eos/user/s/sdeng/WZG_analysis/DY_test/DYJetsToLL_M-50_TuneCP5_13TeV-madgraphMLM-pythia8_2018.root\",\n",
    "#     \"/eos/user/s/sdeng/WZG_analysis/DY_test/DYJetsToLL_M-50_TuneCP5_13TeV-madgraphMLM-pythia8_2016.root\",\n",
    "#     \"/eos/user/s/sdeng/WZG_analysis/DY_test/SingleMuon_Run2016C.root\",\n",
    "#     \"/eos/user/s/sdeng/WZG_analysis/fake_lepton_template/test_diff_reco/SingleMuon_Run2016C-UL2016_MiniAODv1_NanoAODv2-v1.root\",\n",
    "#     \"/eos/user/s/sdeng/WZG_analysis/fake_lepton_template/SingleMuon_Run2018D-02Apr2020-v1_part1.root\",\n",
    "#     \"/eos/user/s/sdeng/WZG_analysis/fake_lepton_template/SingleMuon_Run2018D-02Apr2020-v1_part2.root\",\n",
    "#     \"/eos/user/s/sdeng/WZG_analysis/fake_lepton_template/SingleMuon_Run2018D-02Apr2020-v1_part3.root\",\n",
    "#     \"/eos/user/s/sdeng/WZG_analysis/fake_lepton_template/SingleMuon_Run2018D-14Sep2018_ver2-v1_part1.root\",\n",
    "#     \"/eos/user/s/sdeng/WZG_analysis/fake_lepton_template/DoubleMuon_Run2018A.root\",\n",
    "#     \"/eos/user/s/sdeng/WZG_analysis/fake_lepton_template/DoubleMuon_Run2018B.root\",\n",
    "#     \"/eos/user/s/sdeng/WZG_analysis/fake_lepton_template/DoubleMuon_Run2018C.root\",\n",
    "#     \"/eos/user/s/sdeng/WZG_analysis/fake_lepton_template/DoubleMuon_Run2018D.root\",\n",
    "]\n",
    "\n",
    "for file in filelist_prescale_valid:\n",
    "    AddHist_Prescale_valid(file, hist_pre1, hist_pre2, hist, hist_mu24)\n"
   ]
  },
  {
   "cell_type": "code",
   "execution_count": 9,
   "id": "beginning-harvard",
   "metadata": {},
   "outputs": [
    {
     "name": "stdout",
     "output_type": "stream",
     "text": [
      "59.7 fb^{-1} (13 TeV)\n"
     ]
    },
    {
     "data": {
      "image/png": "[encoded data removed]",
      "text/plain": [
       "<IPython.core.display.Image object>"
      ]
     },
     "metadata": {},
     "output_type": "display_data"
    }
   ],
   "source": [
    "def SetHistStyle_prescale_valid(hist, color):\n",
    "    hist.SetMarkerStyle(20)\n",
    "    hist.SetMarkerColor(color)\n",
    "    hist.SetLineColor(color)\n",
    "    hist.SetYTitle('events/bin')\n",
    "    hist.SetXTitle('Electron P_{T} [GeV]')\n",
    "    hist.SetStats(0)\n",
    "    \n",
    "c1 = ROOT.TCanvas(\"\",\"\",1000,800)\n",
    "\n",
    "SetHistStyle_prescale_valid(hist, 1)\n",
    "SetHistStyle_prescale_valid(hist_mu24, 11)\n",
    "SetHistStyle_prescale_valid(hist_pre1, 2)\n",
    "SetHistStyle_prescale_valid(hist_pre2, 4)\n",
    "\n",
    "hist_pre1_clone = hist_pre1.Clone()\n",
    "hist_pre2_clone = hist_pre2.Clone()\n",
    "hist_clone = hist.Clone()\n",
    "hist_mu24_clone = hist_mu24.Clone()\n",
    "# hist_pre1_clone.Scale(59.7/0.00856)\n",
    "# hist_pre2_clone.Scale(59.7/0.04578)\n",
    "# hist_pre1_clone.Scale(36.9/0.00780)\n",
    "# hist_pre2_clone.Scale(36.9/0.21675)\n",
    "\n",
    "hist_pre1_clone.Scale(59.7/0.00641)\n",
    "hist_pre2_clone.Scale(59.7/0.03891)\n",
    "# hist_pre1_clone.Scale(41.54/0.00397)\n",
    "# hist_pre2_clone.Scale(41.54/0.04347)\n",
    "\n",
    "c1.Draw()\n",
    "hist_pre2_clone.Draw(\"pe SAME\")\n",
    "hist_pre1_clone.Draw(\"SAME pe\")\n",
    "hist_clone.Draw(\"pe SAME\")\n",
    "# hist_mu24_clone.Draw(\"pe SAME\")\n",
    "\n",
    "hist_pre2_clone.SetMinimum(1)\n",
    "# hist_pre2_clone.SetMaximum(hist_pre2_clone.GetMaximum()*1.8)\n",
    "hist_pre2_clone.SetMaximum(10000000000)\n",
    "# hist_pre2_clone.SetMaximum(hist_pre2_clone.GetMaximum()*1.8)\n",
    "# Line = ROOT.TLine(25, c1.GetUymin(), 25, hist_pre2_clone.GetMaximum())\n",
    "# Line = ROOT.TLine(25, c1.GetUymin(), 25, hist_mu24_clone.GetMaximum()*1.0)\n",
    "# Line.SetLineStyle(2)\n",
    "# Line.Draw(\"SAME\")\n",
    "# Line.Print()\n",
    "\n",
    "legend = ROOT.TLegend(0.30, 0.65, 0.50, 0.85)\n",
    "legend.SetBorderSize(0)\n",
    "legend.SetFillColor(0)\n",
    "legend.SetTextSize(0.035)\n",
    "legend.SetLineWidth(1)\n",
    "legend.SetLineStyle(2)\n",
    "legend.AddEntry(hist,'No HLT')\n",
    "# legend.AddEntry(hist_mu24,'HLT_IsoMu24')\n",
    "legend.AddEntry(hist_pre1,'HLT_Ele8_CaloIdL_TrackIdL_IsoVL_PFJet30')\n",
    "legend.AddEntry(hist_pre2,'HLT_Ele23_CaloIdL_TrackIdL_IsoVL_PFJet30')\n",
    "legend.Draw(\"SAME\")\n",
    "\n",
    "ROOT.gPad.SetLogy()\n",
    "# ROOT.gPad.SetGrid()\n",
    "CMS_lumi(c1, 0, 0)\n",
    "# c1.SaveAs('Fake_Lepton/PreScale_valid_Mu_addfactor_2018.pdf')\n",
    "# c1.SaveAs('Fake_Lepton/PreScale_valid_Mu_addfactor_2018.png')"
   ]
  },
  {
   "cell_type": "markdown",
   "id": "respiratory-swedish",
   "metadata": {
    "tags": []
   },
   "source": [
    "### Fake Template distribution"
   ]
  },
  {
   "cell_type": "code",
   "execution_count": 239,
   "id": "forced-pharmacy",
   "metadata": {},
   "outputs": [],
   "source": [
    "def AddHist_FTdist(file, branch, hist_pre1, hist_pre2, isData, xsec):\n",
    "    \n",
    "    if isData:\n",
    "        print('is Data')\n",
    "        init_branches = ['is_lepton_tight','jet_pt','mt','met','lepton_pt','lepton_eta','lepton_pdgid','lepton_pfRelIso04_all',\\\n",
    "                                                       'HLT_IsoMu24','HLT_Mu8_TrkIsoVVL','HLT_Mu17_TrkIsoVVL','hlt',\\\n",
    "                                                      'HLT_Ele8_CaloIdL_TrackIdL_IsoVL_PFJet30','HLT_Ele23_CaloIdL_TrackIdL_IsoVL_PFJet30']\n",
    "        if not (branch in init_branches):\n",
    "            init_branches.append(branch)\n",
    "        branches = uproot.open(file+':Events').arrays(init_branches, library='pd')\n",
    "#         branches = uproot.open(file+':Events').arrays(['jet_pt','HLT_Ele32_WPTight_Gsf','is_lepton_tight','mt','met','lepton_pt','lepton_eta','lepton_pdgid','HLT_Ele8_CaloIdL_TrackIdL_IsoVL_PFJet30','HLT_Ele23_CaloIdL_TrackIdL_IsoVL_PFJet30','hlt'], library='pd')\n",
    "    else:\n",
    "        print('is MC')\n",
    "        init_branches = ['is_lepton_tight','jet_pt','mt','met','lepton_pt','lepton_eta','lepton_pdgid','lepton_pfRelIso04_all','lepton_gen_matching','gen_weight',\\\n",
    "                                                       'HLT_IsoMu24','HLT_Mu8_TrkIsoVVL','HLT_Mu17_TrkIsoVVL','hlt',\\\n",
    "                                                      'HLT_Ele8_CaloIdL_TrackIdL_IsoVL_PFJet30','HLT_Ele23_CaloIdL_TrackIdL_IsoVL_PFJet30']\n",
    "        if not (branch in init_branches):\n",
    "            init_branches.append(branch)\n",
    "        branches = uproot.open(file+':Events').arrays(init_branches, library='pd')\n",
    "#         branches = uproot.open(file+':Events').arrays([,'HLT_Ele32_WPTight_Gsf','is_lepton_tight','mt','met','lepton_pt','lepton_eta','lepton_pdgid','lepton_gen_matching','HLT_Ele8_CaloIdL_TrackIdL_IsoVL_PFJet30','HLT_Ele23_CaloIdL_TrackIdL_IsoVL_PFJet30','hlt','gen_weight'], library='pd')\n",
    "        true_events = uproot.open(file)['nEventsGenWeighted'].values()[0]\n",
    "#         print (true_events)\n",
    "        weight_lowpt = (1000*xsec*0.00856) / true_events\n",
    "        weight_highpt = (1000*xsec*0.04578) / true_events\n",
    "#         weight_lowpt = (1000*xsec*0.00641) / true_events\n",
    "#         weight_highpt = (1000*xsec*0.03891) / true_events\n",
    "#         weight_lowpt = (1000*xsec*59.7) / true_events\n",
    "#         weight_highpt = (1000*xsec*59.7) / true_events\n",
    "        lepton_gen_cut1 = branches.loc[:,'lepton_gen_matching'] == 1\n",
    "        lepton_gen_cut2 = branches.loc[:,'lepton_gen_matching'] == 15\n",
    "        \n",
    "    HLT_cut1 = branches.loc[:,'HLT_Mu8_TrkIsoVVL'] == True\n",
    "    HLT_cut2 = branches.loc[:,'HLT_Mu17_TrkIsoVVL'] == True\n",
    "#     HLT_cut1 = branches.loc[:,'HLT_IsoMu24'] == True\n",
    "#     HLT_cut2 = branches.loc[:,'HLT_IsoMu24'] == True\n",
    "#     HLT_cut1 = branches.loc[:,'HLT_Ele8_CaloIdL_TrackIdL_IsoVL_PFJet30'] == True\n",
    "#     HLT_cut2 = branches.loc[:,'HLT_Ele23_CaloIdL_TrackIdL_IsoVL_PFJet30'] == True\n",
    "#     HLT_cut2 = branches.loc[:,'HLT_Ele32_WPTight_Gsf'] == True\n",
    "#     HLT_cut1 = branches.loc[:,'HLT_Ele32_WPTight_Gsf'] == True\n",
    "    \n",
    "    met_cut = branches.loc[:,'met'] < 20\n",
    "    mt_cut = branches.loc[:,'mt'] < 20\n",
    "    lepton_cut = abs(branches.loc[:,'lepton_pdgid']) == 13\n",
    "    pf_cut = branches.loc[:,'lepton_pfRelIso04_all'] < 0.4\n",
    "#     pf_cut = branches.loc[:,'is_lepton_tight'] == 0\n",
    "    pt_edge = branches.loc[:,'lepton_pt'] < 25\n",
    "    jet_pt = branches.loc[:,'jet_pt'] >35\n",
    "    \n",
    "    if isData:\n",
    "        arrays_0_25 = branches.loc[HLT_cut1 & lepton_cut & pf_cut & pt_edge & met_cut & mt_cut & jet_pt,:] \n",
    "        arrays_25_Inf = branches.loc[HLT_cut2 & lepton_cut & pf_cut & ~pt_edge & met_cut & mt_cut & jet_pt,:] \n",
    "        for i in trange(0, len(arrays_0_25[branch]), desc=f'fill pt<25 part for {file}'):\n",
    "            hist_pre1.Fill(float(arrays_0_25[branch].values[i]))\n",
    "        for i in trange(0, len(arrays_25_Inf[branch]), desc=f'fill pt>25 part for {file}'):\n",
    "            hist_pre2.Fill(float(arrays_25_Inf[branch].values[i]))\n",
    "    \n",
    "    else:\n",
    "        if ('TTbar' in file) or ('QCD' in file):\n",
    "            print (\"QCD process\\n\")\n",
    "            arrays_0_25 = branches.loc[HLT_cut1 & lepton_cut & pf_cut & pt_edge & met_cut & mt_cut & jet_pt,:] \n",
    "            arrays_25_Inf = branches.loc[HLT_cut2 & lepton_cut & pf_cut & ~pt_edge & met_cut & mt_cut & jet_pt,:] \n",
    "        else:\n",
    "            arrays_0_25 = branches.loc[HLT_cut1 & lepton_cut & pf_cut & pt_edge & met_cut & mt_cut & (lepton_gen_cut1 | lepton_gen_cut2) & jet_pt,:] \n",
    "            arrays_25_Inf = branches.loc[HLT_cut2 & lepton_cut & pf_cut & ~pt_edge & met_cut & mt_cut & (lepton_gen_cut1 | lepton_gen_cut2) & jet_pt,:] \n",
    "        for i in trange(0, len(arrays_0_25[branch]), desc=f'fill pt<25 part for {file}'):\n",
    "            hist_pre1.Fill(float(arrays_0_25[branch].values[i]), weight_lowpt*sgn(arrays_0_25['gen_weight'].values[i]))\n",
    "        for i in trange(0, len(arrays_25_Inf[branch]), desc=f'fill pt>25 part for {file}'):\n",
    "            hist_pre2.Fill(float(arrays_25_Inf[branch].values[i]), weight_highpt*sgn(arrays_25_Inf['gen_weight'].values[i]))\n",
    "        \n",
    "    print(\"DONE\")\n",
    "    return True\n",
    "    "
   ]
  },
  {
   "cell_type": "code",
   "execution_count": 243,
   "id": "0f7b57d1-2459-4428-9151-cf7986d1d250",
   "metadata": {},
   "outputs": [
    {
     "name": "stdout",
     "output_type": "stream",
     "text": [
      "is Data\n"
     ]
    },
    {
     "name": "stderr",
     "output_type": "stream",
     "text": [
      "fill pt<25 part for /eos/user/s/sdeng/WZG_analysis/fake_lepton_template/2018/DoubleMuon_Run2018A_0000.root: 100%|██████████| 4620/4620 [00:00<00:00, 177125.30it/s]\n",
      "fill pt>25 part for /eos/user/s/sdeng/WZG_analysis/fake_lepton_template/2018/DoubleMuon_Run2018A_0000.root: 100%|██████████| 4749/4749 [00:00<00:00, 175593.06it/s]\n"
     ]
    },
    {
     "name": "stdout",
     "output_type": "stream",
     "text": [
      "DONE\n",
      "is Data\n"
     ]
    },
    {
     "name": "stderr",
     "output_type": "stream",
     "text": [
      "fill pt<25 part for /eos/user/s/sdeng/WZG_analysis/fake_lepton_template/2018/DoubleMuon_Run2018B_0000.root: 100%|██████████| 2453/2453 [00:00<00:00, 181687.99it/s]\n",
      "fill pt>25 part for /eos/user/s/sdeng/WZG_analysis/fake_lepton_template/2018/DoubleMuon_Run2018B_0000.root: 100%|██████████| 2265/2265 [00:00<00:00, 175833.32it/s]\n"
     ]
    },
    {
     "name": "stdout",
     "output_type": "stream",
     "text": [
      "DONE\n",
      "is Data\n"
     ]
    },
    {
     "name": "stderr",
     "output_type": "stream",
     "text": [
      "fill pt<25 part for /eos/user/s/sdeng/WZG_analysis/fake_lepton_template/2018/DoubleMuon_Run2018C_0000.root: 100%|██████████| 5503/5503 [00:00<00:00, 183142.41it/s]\n",
      "fill pt>25 part for /eos/user/s/sdeng/WZG_analysis/fake_lepton_template/2018/DoubleMuon_Run2018C_0000.root: 100%|██████████| 2073/2073 [00:00<00:00, 181751.13it/s]\n"
     ]
    },
    {
     "name": "stdout",
     "output_type": "stream",
     "text": [
      "DONE\n",
      "is Data\n"
     ]
    },
    {
     "name": "stderr",
     "output_type": "stream",
     "text": [
      "fill pt<25 part for /eos/user/s/sdeng/WZG_analysis/fake_lepton_template/2018/DoubleMuon_Run2018D_0000.root: 100%|██████████| 23008/23008 [00:00<00:00, 180647.03it/s]\n",
      "fill pt>25 part for /eos/user/s/sdeng/WZG_analysis/fake_lepton_template/2018/DoubleMuon_Run2018D_0000.root: 100%|██████████| 6547/6547 [00:00<00:00, 174800.49it/s]\n"
     ]
    },
    {
     "name": "stdout",
     "output_type": "stream",
     "text": [
      "DONE\n",
      "is Data\n"
     ]
    },
    {
     "name": "stderr",
     "output_type": "stream",
     "text": [
      "fill pt<25 part for /eos/user/s/sdeng/WZG_analysis/fake_lepton_template/2018/DoubleMuon_Run2018D_0001.root: 100%|██████████| 13394/13394 [00:00<00:00, 185044.25it/s]\n",
      "fill pt>25 part for /eos/user/s/sdeng/WZG_analysis/fake_lepton_template/2018/DoubleMuon_Run2018D_0001.root: 100%|██████████| 3830/3830 [00:00<00:00, 177477.34it/s]\n"
     ]
    },
    {
     "name": "stdout",
     "output_type": "stream",
     "text": [
      "DONE\n",
      "is MC\n"
     ]
    },
    {
     "name": "stderr",
     "output_type": "stream",
     "text": [
      "fill pt<25 part for /eos/user/s/sdeng/WZG_analysis/fake_lepton_template/2018/WJetsToLNu_TuneCP5_13TeV-madgraphMLM-pythia8_2018_0000.root: 100%|██████████| 18415/18415 [00:00<00:00, 97347.47it/s]\n",
      "fill pt>25 part for /eos/user/s/sdeng/WZG_analysis/fake_lepton_template/2018/WJetsToLNu_TuneCP5_13TeV-madgraphMLM-pythia8_2018_0000.root: 100%|██████████| 44980/44980 [00:00<00:00, 97720.51it/s]\n"
     ]
    },
    {
     "name": "stdout",
     "output_type": "stream",
     "text": [
      "DONE\n",
      "is MC\n"
     ]
    },
    {
     "name": "stderr",
     "output_type": "stream",
     "text": [
      "fill pt<25 part for /eos/user/s/sdeng/WZG_analysis/fake_lepton_template/2018/DYJetsToLL_M-50_TuneCP5_13TeV-madgraphMLM-pythia8_2018_0000.root: 100%|██████████| 97253/97253 [00:00<00:00, 98396.11it/s]\n",
      "fill pt>25 part for /eos/user/s/sdeng/WZG_analysis/fake_lepton_template/2018/DYJetsToLL_M-50_TuneCP5_13TeV-madgraphMLM-pythia8_2018_0000.root: 100%|██████████| 116265/116265 [00:01<00:00, 96651.66it/s]\n"
     ]
    },
    {
     "name": "stdout",
     "output_type": "stream",
     "text": [
      "DONE\n",
      "is MC\n"
     ]
    },
    {
     "name": "stderr",
     "output_type": "stream",
     "text": [
      "fill pt<25 part for /eos/user/s/sdeng/WZG_analysis/fake_lepton_template/2018/DYJetsToLL_M-10to50_TuneCP5_13TeV-madgraphMLM-pythia8_2018_0000.root: 100%|██████████| 16854/16854 [00:00<00:00, 98158.63it/s]\n",
      "fill pt>25 part for /eos/user/s/sdeng/WZG_analysis/fake_lepton_template/2018/DYJetsToLL_M-10to50_TuneCP5_13TeV-madgraphMLM-pythia8_2018_0000.root: 100%|██████████| 7257/7257 [00:00<00:00, 98254.81it/s]\n"
     ]
    },
    {
     "name": "stdout",
     "output_type": "stream",
     "text": [
      "DONE\n",
      "is MC\n"
     ]
    },
    {
     "name": "stderr",
     "output_type": "stream",
     "text": [
      "fill pt<25 part for /eos/user/s/sdeng/WZG_analysis/fake_lepton_template/2018/QCD_Pt-15to20_MuEnrichedPt5_TuneCP5_13TeV_pythia8_2018_0000.root: 100%|██████████| 328/328 [00:00<00:00, 91313.67it/s]\n",
      "fill pt>25 part for /eos/user/s/sdeng/WZG_analysis/fake_lepton_template/2018/QCD_Pt-15to20_MuEnrichedPt5_TuneCP5_13TeV_pythia8_2018_0000.root: 100%|██████████| 1/1 [00:00<00:00, 2483.31it/s]"
     ]
    },
    {
     "name": "stdout",
     "output_type": "stream",
     "text": [
      "QCD process\n",
      "\n",
      "DONE\n",
      "is MC\n"
     ]
    },
    {
     "name": "stderr",
     "output_type": "stream",
     "text": [
      "\n",
      "fill pt<25 part for /eos/user/s/sdeng/WZG_analysis/fake_lepton_template/2018/QCD_Pt-20to30_MuEnrichedPt5_TuneCP5_13TeV_pythia8_2018_0000.root: 100%|██████████| 15639/15639 [00:00<00:00, 96045.31it/s]\n",
      "fill pt>25 part for /eos/user/s/sdeng/WZG_analysis/fake_lepton_template/2018/QCD_Pt-20to30_MuEnrichedPt5_TuneCP5_13TeV_pythia8_2018_0000.root: 100%|██████████| 84/84 [00:00<00:00, 78713.48it/s]"
     ]
    },
    {
     "name": "stdout",
     "output_type": "stream",
     "text": [
      "QCD process\n",
      "\n",
      "DONE\n",
      "is MC\n"
     ]
    },
    {
     "name": "stderr",
     "output_type": "stream",
     "text": [
      "\n",
      "fill pt<25 part for /eos/user/s/sdeng/WZG_analysis/fake_lepton_template/2018/QCD_Pt-30to50_MuEnrichedPt5_TuneCP5_13TeV_pythia8_2018_0000.root:  13%|█▎        | 9938/75330 [00:00<00:00, 99369.67it/s]"
     ]
    },
    {
     "name": "stdout",
     "output_type": "stream",
     "text": [
      "QCD process\n",
      "\n"
     ]
    },
    {
     "name": "stderr",
     "output_type": "stream",
     "text": [
      "fill pt<25 part for /eos/user/s/sdeng/WZG_analysis/fake_lepton_template/2018/QCD_Pt-30to50_MuEnrichedPt5_TuneCP5_13TeV_pythia8_2018_0000.root: 100%|██████████| 75330/75330 [00:00<00:00, 98151.71it/s]\n",
      "fill pt>25 part for /eos/user/s/sdeng/WZG_analysis/fake_lepton_template/2018/QCD_Pt-30to50_MuEnrichedPt5_TuneCP5_13TeV_pythia8_2018_0000.root: 100%|██████████| 4273/4273 [00:00<00:00, 94502.77it/s]\n"
     ]
    },
    {
     "name": "stdout",
     "output_type": "stream",
     "text": [
      "DONE\n",
      "is MC\n"
     ]
    },
    {
     "name": "stderr",
     "output_type": "stream",
     "text": [
      "fill pt<25 part for /eos/user/s/sdeng/WZG_analysis/fake_lepton_template/2018/QCD_Pt-50to80_MuEnrichedPt5_TuneCP5_13TeV_pythia8_2018_0000.root:  17%|█▋        | 10032/59791 [00:00<00:00, 100308.62it/s]"
     ]
    },
    {
     "name": "stdout",
     "output_type": "stream",
     "text": [
      "QCD process\n",
      "\n"
     ]
    },
    {
     "name": "stderr",
     "output_type": "stream",
     "text": [
      "fill pt<25 part for /eos/user/s/sdeng/WZG_analysis/fake_lepton_template/2018/QCD_Pt-50to80_MuEnrichedPt5_TuneCP5_13TeV_pythia8_2018_0000.root: 100%|██████████| 59791/59791 [00:00<00:00, 100008.59it/s]\n",
      "fill pt>25 part for /eos/user/s/sdeng/WZG_analysis/fake_lepton_template/2018/QCD_Pt-50to80_MuEnrichedPt5_TuneCP5_13TeV_pythia8_2018_0000.root: 100%|██████████| 15206/15206 [00:00<00:00, 98731.37it/s]\n"
     ]
    },
    {
     "name": "stdout",
     "output_type": "stream",
     "text": [
      "DONE\n",
      "is MC\n"
     ]
    },
    {
     "name": "stderr",
     "output_type": "stream",
     "text": [
      "fill pt<25 part for /eos/user/s/sdeng/WZG_analysis/fake_lepton_template/2018/QCD_Pt-80to120_MuEnrichedPt5_TuneCP5_13TeV_pythia8_2018_0000.root:  22%|██▏       | 9844/44757 [00:00<00:00, 98433.99it/s]"
     ]
    },
    {
     "name": "stdout",
     "output_type": "stream",
     "text": [
      "QCD process\n",
      "\n"
     ]
    },
    {
     "name": "stderr",
     "output_type": "stream",
     "text": [
      "fill pt<25 part for /eos/user/s/sdeng/WZG_analysis/fake_lepton_template/2018/QCD_Pt-80to120_MuEnrichedPt5_TuneCP5_13TeV_pythia8_2018_0000.root: 100%|██████████| 44757/44757 [00:00<00:00, 96922.66it/s]\n",
      "fill pt>25 part for /eos/user/s/sdeng/WZG_analysis/fake_lepton_template/2018/QCD_Pt-80to120_MuEnrichedPt5_TuneCP5_13TeV_pythia8_2018_0000.root: 100%|██████████| 19163/19163 [00:00<00:00, 98529.15it/s]\n"
     ]
    },
    {
     "name": "stdout",
     "output_type": "stream",
     "text": [
      "DONE\n",
      "is MC\n"
     ]
    },
    {
     "name": "stderr",
     "output_type": "stream",
     "text": [
      "fill pt<25 part for /eos/user/s/sdeng/WZG_analysis/fake_lepton_template/2018/QCD_Pt-120to170_MuEnrichedPt5_TuneCP5_13TeV_pythia8_2018_0000.root:  43%|████▎     | 9782/22680 [00:00<00:00, 97807.73it/s]"
     ]
    },
    {
     "name": "stdout",
     "output_type": "stream",
     "text": [
      "QCD process\n",
      "\n"
     ]
    },
    {
     "name": "stderr",
     "output_type": "stream",
     "text": [
      "fill pt<25 part for /eos/user/s/sdeng/WZG_analysis/fake_lepton_template/2018/QCD_Pt-120to170_MuEnrichedPt5_TuneCP5_13TeV_pythia8_2018_0000.root: 100%|██████████| 22680/22680 [00:00<00:00, 96453.92it/s]\n",
      "fill pt>25 part for /eos/user/s/sdeng/WZG_analysis/fake_lepton_template/2018/QCD_Pt-120to170_MuEnrichedPt5_TuneCP5_13TeV_pythia8_2018_0000.root: 100%|██████████| 10233/10233 [00:00<00:00, 96903.52it/s]\n"
     ]
    },
    {
     "name": "stdout",
     "output_type": "stream",
     "text": [
      "DONE\n",
      "is MC\n"
     ]
    },
    {
     "name": "stderr",
     "output_type": "stream",
     "text": [
      "fill pt<25 part for /eos/user/s/sdeng/WZG_analysis/fake_lepton_template/2018/QCD_Pt-170to300_MuEnrichedPt5_TuneCP5_13TeV_pythia8_2018_0000.root:  38%|███▊      | 9784/25867 [00:00<00:00, 97827.73it/s]"
     ]
    },
    {
     "name": "stdout",
     "output_type": "stream",
     "text": [
      "QCD process\n",
      "\n"
     ]
    },
    {
     "name": "stderr",
     "output_type": "stream",
     "text": [
      "fill pt<25 part for /eos/user/s/sdeng/WZG_analysis/fake_lepton_template/2018/QCD_Pt-170to300_MuEnrichedPt5_TuneCP5_13TeV_pythia8_2018_0000.root: 100%|██████████| 25867/25867 [00:00<00:00, 97280.80it/s]\n",
      "fill pt>25 part for /eos/user/s/sdeng/WZG_analysis/fake_lepton_template/2018/QCD_Pt-170to300_MuEnrichedPt5_TuneCP5_13TeV_pythia8_2018_0000.root: 100%|██████████| 10215/10215 [00:00<00:00, 96294.77it/s]\n"
     ]
    },
    {
     "name": "stdout",
     "output_type": "stream",
     "text": [
      "DONE\n",
      "is MC\n"
     ]
    },
    {
     "name": "stderr",
     "output_type": "stream",
     "text": [
      "fill pt<25 part for /eos/user/s/sdeng/WZG_analysis/fake_lepton_template/2018/QCD_Pt-300to470_MuEnrichedPt5_TuneCP5_13TeV_pythia8_2018_0000.root: 100%|██████████| 13211/13211 [00:00<00:00, 97298.57it/s]\n",
      "fill pt>25 part for /eos/user/s/sdeng/WZG_analysis/fake_lepton_template/2018/QCD_Pt-300to470_MuEnrichedPt5_TuneCP5_13TeV_pythia8_2018_0000.root: 100%|██████████| 4571/4571 [00:00<00:00, 97827.64it/s]"
     ]
    },
    {
     "name": "stdout",
     "output_type": "stream",
     "text": [
      "QCD process\n",
      "\n",
      "DONE\n",
      "is MC\n"
     ]
    },
    {
     "name": "stderr",
     "output_type": "stream",
     "text": [
      "\n",
      "fill pt<25 part for /eos/user/s/sdeng/WZG_analysis/fake_lepton_template/2018/QCD_Pt-470to600_MuEnrichedPt5_TuneCP5_13TeV_pythia8_2018_0000.root: 100%|██████████| 5587/5587 [00:00<00:00, 99413.18it/s]\n",
      "fill pt>25 part for /eos/user/s/sdeng/WZG_analysis/fake_lepton_template/2018/QCD_Pt-470to600_MuEnrichedPt5_TuneCP5_13TeV_pythia8_2018_0000.root: 100%|██████████| 1682/1682 [00:00<00:00, 95200.31it/s]"
     ]
    },
    {
     "name": "stdout",
     "output_type": "stream",
     "text": [
      "QCD process\n",
      "\n",
      "DONE\n",
      "is MC\n"
     ]
    },
    {
     "name": "stderr",
     "output_type": "stream",
     "text": [
      "\n",
      "fill pt<25 part for /eos/user/s/sdeng/WZG_analysis/fake_lepton_template/2018/QCD_Pt-600to800_MuEnrichedPt5_TuneCP5_13TeV_pythia8_2018_0000.root: 100%|██████████| 3410/3410 [00:00<00:00, 97442.27it/s]\n",
      "fill pt>25 part for /eos/user/s/sdeng/WZG_analysis/fake_lepton_template/2018/QCD_Pt-600to800_MuEnrichedPt5_TuneCP5_13TeV_pythia8_2018_0000.root: 100%|██████████| 1037/1037 [00:00<00:00, 97325.87it/s]"
     ]
    },
    {
     "name": "stdout",
     "output_type": "stream",
     "text": [
      "QCD process\n",
      "\n",
      "DONE\n",
      "is MC\n"
     ]
    },
    {
     "name": "stderr",
     "output_type": "stream",
     "text": [
      "\n",
      "fill pt<25 part for /eos/user/s/sdeng/WZG_analysis/fake_lepton_template/2018/QCD_Pt-800to1000_MuEnrichedPt5_TuneCP5_13TeV_pythia8_2018_0000.root: 100%|██████████| 2561/2561 [00:00<00:00, 95470.82it/s]\n",
      "fill pt>25 part for /eos/user/s/sdeng/WZG_analysis/fake_lepton_template/2018/QCD_Pt-800to1000_MuEnrichedPt5_TuneCP5_13TeV_pythia8_2018_0000.root: 100%|██████████| 757/757 [00:00<00:00, 94812.71it/s]"
     ]
    },
    {
     "name": "stdout",
     "output_type": "stream",
     "text": [
      "QCD process\n",
      "\n",
      "DONE\n",
      "is MC\n"
     ]
    },
    {
     "name": "stderr",
     "output_type": "stream",
     "text": [
      "\n",
      "fill pt<25 part for /eos/user/s/sdeng/WZG_analysis/fake_lepton_template/2018/QCD_Pt-1000toInf_MuEnrichedPt5_TuneCP5_13TeV_pythia8_2018_0000.root: 100%|██████████| 1671/1671 [00:00<00:00, 95460.12it/s]\n",
      "fill pt>25 part for /eos/user/s/sdeng/WZG_analysis/fake_lepton_template/2018/QCD_Pt-1000toInf_MuEnrichedPt5_TuneCP5_13TeV_pythia8_2018_0000.root: 100%|██████████| 416/416 [00:00<00:00, 95377.20it/s]"
     ]
    },
    {
     "name": "stdout",
     "output_type": "stream",
     "text": [
      "QCD process\n",
      "\n",
      "DONE\n"
     ]
    },
    {
     "name": "stderr",
     "output_type": "stream",
     "text": [
      "\n",
      "Warning in <TH1D::Sumw2>: Sum of squares of weights structure already created\n",
      "Warning in <TH1D::Sumw2>: Sum of squares of weights structure already created\n",
      "Warning in <TH1D::Sumw2>: Sum of squares of weights structure already created\n"
     ]
    }
   ],
   "source": [
    "xbins = 20\n",
    "xlow = -3\n",
    "xup = 3\n",
    "branch = 'lepton_eta'\n",
    "\n",
    "ptbins = [10, 13, 16, 20, 24, 28, 35, 45, 200]\n",
    "\n",
    "hist_dist1_DATA = ROOT.TH1D(\"\",\"\",xbins, xlow, xup)\n",
    "hist_dist2_DATA = ROOT.TH1D(\"\",\"\",xbins, xlow, xup)\n",
    "\n",
    "# hist_dist1_DATA = ROOT.TH1D(\"\",\"\",8, array('d',ptbins))\n",
    "# hist_dist2_DATA = ROOT.TH1D(\"\",\"\",8, array('d',ptbins))\n",
    "\n",
    "hist_dist1_DATA.Sumw2()\n",
    "hist_dist2_DATA.Sumw2()\n",
    "\n",
    "file_list = [\n",
    "    '/eos/user/s/sdeng/WZG_analysis/fake_lepton_template/2018/DoubleMuon_Run2018A_0000.root',\n",
    "    '/eos/user/s/sdeng/WZG_analysis/fake_lepton_template/2018/DoubleMuon_Run2018B_0000.root',\n",
    "    '/eos/user/s/sdeng/WZG_analysis/fake_lepton_template/2018/DoubleMuon_Run2018C_0000.root',\n",
    "    '/eos/user/s/sdeng/WZG_analysis/fake_lepton_template/2018/DoubleMuon_Run2018D_0000.root',\n",
    "    '/eos/user/s/sdeng/WZG_analysis/fake_lepton_template/2018/DoubleMuon_Run2018D_0001.root',\n",
    "#     '/eos/user/s/sdeng/WZG_analysis/fake_lepton_template/2018/EGamma_Run2018A_0000.root',\n",
    "#     '/eos/user/s/sdeng/WZG_analysis/fake_lepton_template/2018/EGamma_Run2018B_0000.root',\n",
    "#     '/eos/user/s/sdeng/WZG_analysis/fake_lepton_template/2018/EGamma_Run2018C_0000.root',\n",
    "#     '/eos/user/s/sdeng/WZG_analysis/fake_lepton_template/2018/EGamma_Run2018D_0000.root',\n",
    "#     '/eos/user/s/sdeng/WZG_analysis/fake_lepton_template/2018/EGamma_Run2018D_0001.root',\n",
    "#     '/eos/user/s/sdeng/WZG_analysis/fake_lepton_template/EGamma_Run2018D_part1.root',\n",
    "#     '/eos/user/s/sdeng/WZG_analysis/fake_lepton_template/EGamma_Run2018D_part2.root',\n",
    "#     '/eos/user/s/sdeng/WZG_analysis/fake_lepton_template/EGamma_Run2018D_part3.root',\n",
    "]\n",
    "\n",
    "# file_paths = [\n",
    "#     '/eos/user/s/sdeng/WZG_analysis/fake_lepton_template/data/2018/DoubleMuon/DoubleMuon_Run2018A/211121_114946/0000/',\n",
    "#     '/eos/user/s/sdeng/WZG_analysis/fake_lepton_template/data/2018/',\n",
    "#     '/eos/user/s/sdeng/WZG_analysis/fake_lepton_template/data/2018/',\n",
    "#     '/eos/user/s/sdeng/WZG_analysis/fake_lepton_template/data/2018/',\n",
    "# ]\n",
    "\n",
    "# file_list =[]\n",
    "# for file_path in file_paths:\n",
    "#     for file in os.listdir(file_path):\n",
    "#         file_list.append(file_path+file)\n",
    "\n",
    "for file in file_list:\n",
    "    AddHist_FTdist(file, branch, hist_dist1_DATA, hist_dist2_DATA, 1, 1)\n",
    "\n",
    "hist_dist1_WJets = ROOT.TH1D(\"\",\"\",xbins, xlow, xup)\n",
    "hist_dist2_WJets = ROOT.TH1D(\"\",\"\",xbins, xlow, xup)\n",
    "hist_dist1_ZJets = ROOT.TH1D(\"\",\"\",xbins, xlow, xup)\n",
    "hist_dist2_ZJets = ROOT.TH1D(\"\",\"\",xbins, xlow, xup)\n",
    "\n",
    "# hist_dist1_WJets = ROOT.TH1D(\"\",\"\",8, array('d',ptbins))\n",
    "# hist_dist2_WJets = ROOT.TH1D(\"\",\"\",8, array('d',ptbins))\n",
    "# hist_dist1_ZJets = ROOT.TH1D(\"\",\"\",8, array('d',ptbins))\n",
    "# hist_dist2_ZJets = ROOT.TH1D(\"\",\"\",8, array('d',ptbins))\n",
    "\n",
    "hist_dist1_WJets.Sumw2()\n",
    "hist_dist1_WJets.Sumw2()\n",
    "hist_dist1_ZJets.Sumw2()\n",
    "hist_dist1_ZJets.Sumw2()\n",
    "\n",
    "file_WJets = '/eos/user/s/sdeng/WZG_analysis/fake_lepton_template/2018/WJetsToLNu_TuneCP5_13TeV-madgraphMLM-pythia8_2018_0000.root'\n",
    "file_ZJets = '/eos/user/s/sdeng/WZG_analysis/fake_lepton_template/2018/DYJetsToLL_M-50_TuneCP5_13TeV-madgraphMLM-pythia8_2018_0000.root'\n",
    "file_ZJets2 = '/eos/user/s/sdeng/WZG_analysis/fake_lepton_template/2018/DYJetsToLL_M-10to50_TuneCP5_13TeV-madgraphMLM-pythia8_2018_0000.root'\n",
    "\n",
    "AddHist_FTdist(file_WJets, branch, hist_dist1_WJets, hist_dist2_WJets, 0, 61526.7)\n",
    "AddHist_FTdist(file_ZJets, branch, hist_dist1_ZJets, hist_dist2_ZJets, 0, 6077.22)\n",
    "AddHist_FTdist(file_ZJets2, branch, hist_dist1_ZJets, hist_dist2_ZJets, 0, 18610)\n",
    "\n",
    "hist_dist1_ttbar = ROOT.TH1D(\"\",\"\",xbins, xlow, xup)\n",
    "hist_dist2_ttbar = ROOT.TH1D(\"\",\"\",xbins, xlow, xup)\n",
    "# hist_dist1_ttbar = ROOT.TH1D(\"\",\"\",8, array('d',ptbins))\n",
    "# hist_dist2_ttbar = ROOT.TH1D(\"\",\"\",8, array('d',ptbins))\n",
    "\n",
    "hist_dist1_ttbar.Sumw2()\n",
    "hist_dist1_ttbar.Sumw2()\n",
    "\n",
    "# file_ttbar = '/eos/user/s/sdeng/WZG_analysis/fake_lepton_template/TTbar_13TeV_TuneCP5_Pythia8_2018.root'\n",
    "# AddHist_FTdist(file_ttbar, hist_dist1_ttbar, hist_dist2_ttbar, 0, 831.76)\n",
    "\n",
    "file_list_QCD = [\n",
    "    \"/eos/user/s/sdeng/WZG_analysis/fake_lepton_template/2018/QCD_Pt-15to20_MuEnrichedPt5_TuneCP5_13TeV_pythia8_2018_0000.root\",\n",
    "    \"/eos/user/s/sdeng/WZG_analysis/fake_lepton_template/2018/QCD_Pt-20to30_MuEnrichedPt5_TuneCP5_13TeV_pythia8_2018_0000.root\",\n",
    "    \"/eos/user/s/sdeng/WZG_analysis/fake_lepton_template/2018/QCD_Pt-30to50_MuEnrichedPt5_TuneCP5_13TeV_pythia8_2018_0000.root\",\n",
    "    \"/eos/user/s/sdeng/WZG_analysis/fake_lepton_template/2018/QCD_Pt-50to80_MuEnrichedPt5_TuneCP5_13TeV_pythia8_2018_0000.root\",\n",
    "    \"/eos/user/s/sdeng/WZG_analysis/fake_lepton_template/2018/QCD_Pt-80to120_MuEnrichedPt5_TuneCP5_13TeV_pythia8_2018_0000.root\",\n",
    "    \"/eos/user/s/sdeng/WZG_analysis/fake_lepton_template/2018/QCD_Pt-120to170_MuEnrichedPt5_TuneCP5_13TeV_pythia8_2018_0000.root\",\n",
    "    \"/eos/user/s/sdeng/WZG_analysis/fake_lepton_template/2018/QCD_Pt-170to300_MuEnrichedPt5_TuneCP5_13TeV_pythia8_2018_0000.root\",\n",
    "    \"/eos/user/s/sdeng/WZG_analysis/fake_lepton_template/2018/QCD_Pt-300to470_MuEnrichedPt5_TuneCP5_13TeV_pythia8_2018_0000.root\",\n",
    "    \"/eos/user/s/sdeng/WZG_analysis/fake_lepton_template/2018/QCD_Pt-470to600_MuEnrichedPt5_TuneCP5_13TeV_pythia8_2018_0000.root\",\n",
    "    \"/eos/user/s/sdeng/WZG_analysis/fake_lepton_template/2018/QCD_Pt-600to800_MuEnrichedPt5_TuneCP5_13TeV_pythia8_2018_0000.root\",\n",
    "    \"/eos/user/s/sdeng/WZG_analysis/fake_lepton_template/2018/QCD_Pt-800to1000_MuEnrichedPt5_TuneCP5_13TeV_pythia8_2018_0000.root\",\n",
    "    \"/eos/user/s/sdeng/WZG_analysis/fake_lepton_template/2018/QCD_Pt-1000toInf_MuEnrichedPt5_TuneCP5_13TeV_pythia8_2018_0000.root\"\n",
    "]\n",
    "\n",
    "xsec_list_QCD = [\n",
    "    2799000,\n",
    "    2526000,\n",
    "    1362000,\n",
    "    376600,\n",
    "    88930,\n",
    "    21230,\n",
    "    7055,\n",
    "    619.3,\n",
    "    59.24,\n",
    "    18.21,\n",
    "    3.275,\n",
    "    1.078\n",
    "]\n",
    "\n",
    "\n",
    "# file_list_QCD = [\n",
    "#    \"/eos/user/s/sdeng/WZG_analysis/fake_lepton_template/2018/QCD_Pt-15to20_EMEnriched_TuneCP5_13TeV_pythia8_2018.root\",\n",
    "#    \"/eos/user/s/sdeng/WZG_analysis/fake_lepton_template/2018/QCD_Pt-20to30_EMEnriched_TuneCP5_13TeV_pythia8_2018.root\",\n",
    "#    \"/eos/user/s/sdeng/WZG_analysis/fake_lepton_template/2018/QCD_Pt-30to50_EMEnriched_TuneCP5_13TeV_pythia8_2018.root\",\n",
    "#    \"/eos/user/s/sdeng/WZG_analysis/fake_lepton_template/2018/QCD_Pt-50to80_EMEnriched_TuneCP5_13TeV_pythia8_2018.root\",\n",
    "#    \"/eos/user/s/sdeng/WZG_analysis/fake_lepton_template/2018/QCD_Pt-80to120_EMEnriched_TuneCP5_13TeV_pythia8_2018.root\",\n",
    "#    \"/eos/user/s/sdeng/WZG_analysis/fake_lepton_template/2018/QCD_Pt-120to170_EMEnriched_TuneCP5_13TeV_pythia8_2018.root\",\n",
    "#    \"/eos/user/s/sdeng/WZG_analysis/fake_lepton_template/2018/QCD_Pt-170to300_EMEnriched_TuneCP5_13TeV_pythia8_2018.root\",\n",
    "#    \"/eos/user/s/sdeng/WZG_analysis/fake_lepton_template/2018/QCD_Pt-300toInf_EMEnriched_TuneCP5_13TeV_pythia8_2018.root\",\n",
    "# ]\n",
    "\n",
    "# xsec_list_QCD = [\n",
    "#     1327000,\n",
    "#     4908000,\n",
    "#     6396000,\n",
    "#     1989000,\n",
    "#     366500,\n",
    "#     66490,\n",
    "#     16480,\n",
    "#     1097\n",
    "# ]\n",
    "for i in range(len(file_list_QCD)):\n",
    "    AddHist_FTdist(file_list_QCD[i], branch, hist_dist1_ttbar, hist_dist2_ttbar, 0, xsec_list_QCD[i])\n",
    "    "
   ]
  },
  {
   "cell_type": "code",
   "execution_count": 244,
   "id": "isolated-trash",
   "metadata": {
    "tags": []
   },
   "outputs": [
    {
     "name": "stdout",
     "output_type": "stream",
     "text": [
      "59.7 fb^{-1} (13 TeV)\n"
     ]
    },
    {
     "name": "stderr",
     "output_type": "stream",
     "text": [
      "Warning in <TH1D::Sumw2>: Sum of squares of weights structure already created\n",
      "Warning in <TH1D::Sumw2>: Sum of squares of weights structure already created\n"
     ]
    },
    {
     "data": {
      "image/png": "[encoded data removed]",
      "text/plain": [
       "<IPython.core.display.Image object>"
      ]
     },
     "metadata": {},
     "output_type": "display_data"
    }
   ],
   "source": [
    "c1 = ROOT.TCanvas(\"\",\"\",1000,800)\n",
    "\n",
    "def SetHistStyle_dist(hist, color, isData):\n",
    "    if isData:\n",
    "        hist.SetMarkerStyle(20)\n",
    "        hist.SetMarkerColor(color)\n",
    "    else:\n",
    "        hist.SetFillColor(color)\n",
    "        hist.SetFillStyle(4100)\n",
    "        hist.SetLineColor(color)\n",
    "        hist.SetLineStyle(0)\n",
    "        hist.SetLineWidth(0)\n",
    "    hist.SetYTitle('events/bin')\n",
    "    hist.SetXTitle('|#eta_{#mu}| [GeV]')\n",
    "    # Adjust y-axis settings\n",
    "    # hist.GetYaxis().SetNdivisions(105)\n",
    "    hist.GetYaxis().SetTitleSize(25)\n",
    "    hist.GetYaxis().SetTitleFont(43)\n",
    "    hist.GetYaxis().SetTitleOffset(1.40)\n",
    "    hist.GetYaxis().SetLabelFont(43)\n",
    "    hist.GetYaxis().SetLabelSize(25)\n",
    "\n",
    "    # Adjust x-axis settings\n",
    "    hist.GetXaxis().SetTitleSize(25)\n",
    "    hist.GetXaxis().SetTitleFont(43)\n",
    "    hist.GetXaxis().SetTitleOffset(5.0)\n",
    "    hist.GetXaxis().SetLabelFont(43)\n",
    "    hist.GetXaxis().SetLabelSize(25)\n",
    "    hist.SetStats(0)\n",
    "\n",
    "\n",
    "SetHistStyle_dist(hist_dist1_WJets, 22, 0)\n",
    "SetHistStyle_dist(hist_dist2_WJets, 22, 0)\n",
    "SetHistStyle_dist(hist_dist1_ZJets, 27, 0)\n",
    "SetHistStyle_dist(hist_dist2_ZJets, 27, 0)\n",
    "SetHistStyle_dist(hist_dist1_ttbar, 32, 0)\n",
    "SetHistStyle_dist(hist_dist2_ttbar, 32, 0)\n",
    "SetHistStyle_dist(hist_dist1_DATA, 1, 1)\n",
    "SetHistStyle_dist(hist_dist2_DATA, 1, 1)\n",
    "\n",
    "hist_dist_WJets = hist_dist1_WJets.Clone()\n",
    "hist_dist_WJets.Add(hist_dist2_WJets)\n",
    "SetHistStyle_dist(hist_dist_WJets, 22, 0)\n",
    "hist_dist_ZJets = hist_dist1_ZJets.Clone()\n",
    "hist_dist_ZJets.Add(hist_dist2_ZJets)\n",
    "SetHistStyle_dist(hist_dist_ZJets, 27, 0)\n",
    "hist_dist_ttbar = hist_dist1_ttbar.Clone()\n",
    "hist_dist_ttbar.Add(hist_dist2_ttbar)\n",
    "SetHistStyle_dist(hist_dist_ttbar, 32, 0)\n",
    "\n",
    "hs_dist = ROOT.THStack(\"\",\";M_{T,e} [GeV];events/bin\")\n",
    "hs_dist.Add(hist_dist_ZJets)\n",
    "hs_dist.Add(hist_dist_WJets)\n",
    "hs_dist.Add(hist_dist_ttbar)\n",
    "\n",
    "MC_err = ROOT.TH1D(\"\",\"\",xbins,xlow,xup)\n",
    "# MC_err = ROOT.TH1D(\"\",\"\",8,array('d',ptbins))\n",
    "MC_err.Sumw2()\n",
    "MC_err.Add(hist_dist1_WJets)\n",
    "MC_err.Add(hist_dist2_WJets)\n",
    "MC_err.Add(hist_dist1_ZJets)\n",
    "MC_err.Add(hist_dist2_ZJets)\n",
    "MC_err.Add(hist_dist1_ttbar)\n",
    "MC_err.Add(hist_dist2_ttbar)\n",
    "MC_err.SetFillColor(ROOT.kGray+2)\n",
    "MC_err.SetFillStyle(3345)\n",
    "MC_err.SetMarkerSize(0.)\n",
    "MC_err.SetMarkerColor(ROOT.kGray+2)\n",
    "MC_err.SetLineWidth(2)\n",
    "MC_err.SetLineColor(0)\n",
    "MC_err.SetStats(0)\n",
    "\n",
    "hs_data = ROOT.TH1D(\"\",\"\",xbins,xlow,xup)\n",
    "# hs_data = ROOT.TH1D(\"\",\"\",8,array('d',ptbins))\n",
    "hs_data.Add(hist_dist1_DATA)\n",
    "hs_data.Add(hist_dist2_DATA)\n",
    "SetHistStyle_dist(hs_data, 1, 1)\n",
    "\n",
    "legend = ROOT.TLegend(0.55, 0.45, 0.70, 0.75)\n",
    "legend.SetBorderSize(0)\n",
    "legend.SetFillColor(0)\n",
    "legend.SetTextSize(0.035)\n",
    "legend.SetLineWidth(1)\n",
    "legend.SetLineStyle(0)\n",
    "# legend.AddEntry(hist_dist1_DATA,'Double Muon 2018')\n",
    "legend.AddEntry(hist_dist1_DATA,f'DoubleMuon 2018: {format(hs_data.GetSumOfWeights(), \".2f\")}')\n",
    "legend.AddEntry(hist_dist1_WJets,f'WJetsToLNu: {format(hist_dist_WJets.GetSumOfWeights(), \".2f\")}','F')\n",
    "legend.AddEntry(hist_dist1_ZJets,f'DYToLNu: {format(hist_dist_ZJets.GetSumOfWeights(), \".2f\")}','F')\n",
    "legend.AddEntry(hist_dist1_ttbar,f'QCD-MuEnriched: {format(hist_dist_ttbar.GetSumOfWeights(), \".2f\")}','F')\n",
    "\n",
    "c1.Draw()\n",
    "pad1 = ROOT.TPad(\"pad1\", \"pad1\", 0, 0.3, 1, 1.0)\n",
    "pad1.SetBottomMargin(0.015)  # joins upper and lower plot\n",
    "# pad1.SetGridx()\n",
    "pad1.Draw()\n",
    "# Lower ratio plot is pad2\n",
    "c1.cd()  # returns to main canvas before defining pad2\n",
    "pad2 = ROOT.TPad(\"pad2\", \"pad2\", 0, 0.05, 1, 0.3)\n",
    "pad2.SetTopMargin(0)  # joins upper and lower plot\n",
    "pad2.SetBottomMargin(0.3)\n",
    "pad2.SetGridy()\n",
    "pad2.Draw()\n",
    "\n",
    "# draw everything\n",
    "pad1.cd()\n",
    "# hs_data.GetYaxis().SetMaxDigits(3)\n",
    "hs_dist.Draw(\"HIST\")\n",
    "hs_dist.SetMaximum(10000000)\n",
    "hs_dist.SetMinimum(10)\n",
    "# hs_dist.GetXaxis().SetRangeUser(10,60)\n",
    "hs_dist.GetXaxis().SetLabelSize(0)\n",
    "hs_data.Draw(\"ep SAME\")\n",
    "MC_err.Draw(\"e2 SAME\")\n",
    "legend.Draw(\"SAME\")\n",
    "ROOT.gPad.SetLogy()\n",
    "ROOT.gPad.RedrawAxis()\n",
    "\n",
    "\n",
    "# h1.GetXaxis().SetLabelSize(0)\n",
    "pad2.cd()\n",
    "h3 = createRatio(hs_data, MC_err)\n",
    "h4 = createRatio(MC_err, MC_err)\n",
    "h3.Draw(\"ep\")\n",
    "# h3.GetXaxis().SetRangeUser(10,60)\n",
    "h4.Draw(\"e2 SAME\")\n",
    "ROOT.gPad.RedrawAxis()\n",
    "\n",
    "CMS_lumi(pad1, 0, 0)\n",
    "# c1.SaveAs('Fake_Lepton/MET_TightMuon_dist_MR_2018_new.pdf')\n",
    "# c1.SaveAs('Fake_Lepton/MET_TightMuon_dist_MR_2018_new.png')\n",
    "# c1.SaveAs('Fake_Lepton/eta_FakeMuon_dist_MR_2018_new.pdf')\n",
    "# c1.SaveAs('Fake_Lepton/eta_FakeMuon_dist_MR_2018_new.png')"
   ]
  },
  {
   "cell_type": "markdown",
   "id": "genuine-jacksonville",
   "metadata": {},
   "source": [
    "#### SF\n",
    "Need to calculate mt distribution in EWK CR first before this part"
   ]
  },
  {
   "cell_type": "code",
   "execution_count": 107,
   "id": "expressed-indonesian",
   "metadata": {},
   "outputs": [
    {
     "name": "stdout",
     "output_type": "stream",
     "text": [
      "41 61\n",
      "WJets yields in EWK CR: 74504.56840629624\n",
      "ZJets yields in EWK CR: 2901.190794422255\n",
      "QCD yields in EWK CR: 4391.856033408049\n",
      "data yields in EWK CR: 87970.0\n",
      "SF = 87970.0 / 81797.61523412654  = 1.1364787440671915\n"
     ]
    }
   ],
   "source": [
    "bin_left = 41\n",
    "bin_right = 61\n",
    "\n",
    "WJets_yields = hist_dist1_WJets.Integral(bin_left,bin_right) + hist_dist2_WJets.Integral(bin_left,bin_right)\n",
    "ZJets_yields = hist_dist1_ZJets.Integral(bin_left,bin_right) + hist_dist2_ZJets.Integral(bin_left,bin_right)\n",
    "ttbar_yields = hist_dist1_ttbar.Integral(bin_left,bin_right) + hist_dist2_ttbar.Integral(bin_left,bin_right)\n",
    "data_yields = hist_dist1_DATA.Integral(bin_left,bin_right) + hist_dist2_DATA.Integral(bin_left,bin_right)\n",
    "\n",
    "print (hist_dist1_WJets.FindBin(80),hist_dist1_WJets.FindBin(120))\n",
    "print (f\"WJets yields in EWK CR: {WJets_yields}\")\n",
    "print (f\"ZJets yields in EWK CR: {ZJets_yields}\")\n",
    "print (f\"QCD yields in EWK CR: {ttbar_yields}\")\n",
    "print (f\"data yields in EWK CR: {data_yields}\")\n",
    "print (f\"SF = {data_yields} / {WJets_yields + ZJets_yields + ttbar_yields}  = {data_yields/(WJets_yields+ZJets_yields)}\")"
   ]
  },
  {
   "cell_type": "markdown",
   "id": "critical-acceptance",
   "metadata": {},
   "source": [
    "#### pt-binned SF\n",
    "Need to calculate pt-binned histogram in EWK CR first before calculating this part.\n",
    "For convenient, can just simply set the last bin as [45,200]"
   ]
  },
  {
   "cell_type": "code",
   "execution_count": 15,
   "id": "indie-positive",
   "metadata": {},
   "outputs": [
    {
     "name": "stdout",
     "output_type": "stream",
     "text": [
      "1.0064456029986655\n",
      "0.005266287511828886\n",
      "1.1394860752481015\n",
      "0.0076018056871837115\n"
     ]
    },
    {
     "data": {
      "image/png": "[encoded data removed]",
      "text/plain": [
       "<IPython.core.display.Image object>"
      ]
     },
     "metadata": {},
     "output_type": "display_data"
    }
   ],
   "source": [
    "c1 = ROOT.TCanvas(\"\",\"\",1000,800)\n",
    "c1.Draw()\n",
    "\n",
    "\n",
    "h3.Draw('ep')\n",
    "h3.SetXTitle('P_{T,#mu} [GeV]')\n",
    "h3.GetXaxis().SetTitleOffset(1.6)\n",
    "h3.GetXaxis().SetRangeUser(10,60)\n",
    "h3.SetMaximum(1.4)\n",
    "h3.SetMinimum(1.0)\n",
    "ROOT.gPad.SetGridy()\n",
    "ROOT.gPad.SetGridx()\n",
    "\n",
    "print(h3.GetBinContent(7))\n",
    "print(h3.GetBinError(7))\n",
    "print(h3.GetBinContent(8))\n",
    "print(h3.GetBinError(8))"
   ]
  },
  {
   "cell_type": "markdown",
   "id": "forbidden-suspect",
   "metadata": {
    "tags": []
   },
   "source": [
    "### <span id=\"Fake-Rate\">Calculating Fake Rate</span>"
   ]
  },
  {
   "cell_type": "markdown",
   "id": "blocked-niagara",
   "metadata": {
    "tags": []
   },
   "source": [
    "#### Muon"
   ]
  },
  {
   "cell_type": "code",
   "execution_count": 267,
   "id": "backed-tracker",
   "metadata": {},
   "outputs": [],
   "source": [
    "def AddHist_FR_Mu(file, h_nume_mu, h_deno_mu, isAdd, isData, lumi_Mu8, lumi_Mu17, xsec):\n",
    "    \n",
    "    if isData:\n",
    "        print('is Data')\n",
    "        branches = uproot.open(file+':Events').arrays(['jet_pt','mt','met','lepton_pt','lepton_eta','lepton_pdgid','lepton_pfRelIso04_all','HLT_IsoMu24','HLT_Mu8_TrkIsoVVL','HLT_Mu17_TrkIsoVVL','hlt'], library='pd')\n",
    "    else:\n",
    "        print('is MC')\n",
    "        branches = uproot.open(file+':Events').arrays(['jet_pt','mt','met','lepton_pt','lepton_eta','lepton_pdgid','lepton_pfRelIso04_all','lepton_gen_matching','HLT_IsoMu24','HLT_Mu8_TrkIsoVVL','HLT_Mu17_TrkIsoVVL','hlt','gen_weight'], library='pd')\n",
    "        true_events = uproot.open(file)['nEventsGenWeighted'].values()[0]\n",
    "        weight_lowpt = (1000*lumi_Mu8*xsec*isAdd) / true_events\n",
    "        weight_highpt = (1000*lumi_Mu17*xsec*isAdd) / true_events\n",
    "        lepton_gen_cut1 = branches.loc[:,'lepton_gen_matching'] == 1\n",
    "        lepton_gen_cut2 = branches.loc[:,'lepton_gen_matching'] == 15\n",
    "        \n",
    "    HLT_cut1 = branches.loc[:,'HLT_Mu8_TrkIsoVVL'] == True\n",
    "    HLT_cut2 = branches.loc[:,'HLT_Mu17_TrkIsoVVL'] == True\n",
    "#     HLT_cut1 = branches.loc[:,'HLT_IsoMu24'] == True\n",
    "    met_cut = branches.loc[:,'met'] < 20\n",
    "    mt_cut = branches.loc[:,'mt'] < 20\n",
    "    muon_cut = abs(branches.loc[:,'lepton_pdgid']) == 13\n",
    "    pf_cut = branches.loc[:,'lepton_pfRelIso04_all'] < 0.15\n",
    "    pt_edge = branches.loc[:,'lepton_pt'] < 25\n",
    "    jet_pt = branches.loc[:,'jet_pt'] >35\n",
    "\n",
    "#     deno_mu = branches.loc[(HLT_cut1 | HLT_cut2) & muon_cut,:]\n",
    "#     deno_mu = branches.loc[(HLT_cut1) & muon_cut,:]\n",
    "        \n",
    "#     deno_mu = branches.loc[((HLT_cut1 & pt_edge) | (HLT_cut2 & ~pt_edge)) & muon_cut,:]\n",
    "#     nume_mu_lowpt = deno_mu.loc[pf_cut,:]\n",
    "#     nume_mu_highpt = deno_mu.loc[pf_cut,:]\n",
    "    \n",
    "    overflow_Y = h_deno_mu.GetYaxis().GetBinUpEdge(h_deno_mu.GetNbinsY())\n",
    "    center_upper_Y = h_deno_mu.GetYaxis().GetBinCenter(h_deno_mu.GetNbinsY())\n",
    "    \n",
    "    if isData:\n",
    "        deno_mu_lowpt = branches.loc[HLT_cut1 & pt_edge & muon_cut & met_cut & mt_cut & jet_pt,:]\n",
    "        deno_mu_highpt = branches.loc[HLT_cut2 & ~pt_edge & muon_cut & met_cut & mt_cut & jet_pt,:]\n",
    "        \n",
    "        \n",
    "        for i in trange(0, len(deno_mu_lowpt['lepton_pt']), desc=f'fill pt < 25 GeV for {file}'):\n",
    "            if float(deno_mu_lowpt['lepton_pt'].values[i]) < overflow_Y:\n",
    "                h_deno_mu.Fill(abs(float(deno_mu_lowpt['lepton_eta'].values[i])), float(deno_mu_lowpt['lepton_pt'].values[i]))\n",
    "                if deno_mu_lowpt['lepton_pfRelIso04_all'].values[i] < 0.15:\n",
    "                    h_nume_mu.Fill(abs(float(deno_mu_lowpt['lepton_eta'].values[i])), float(deno_mu_lowpt['lepton_pt'].values[i]))\n",
    "            else:\n",
    "                h_deno_mu.Fill(abs(float(deno_mu_lowpt['lepton_eta'].values[i])), center_upper_Y)\n",
    "                if deno_mu_lowpt['lepton_pfRelIso04_all'].values[i] < 0.15:\n",
    "                    h_nume_mu.Fill(abs(float(deno_mu_lowpt['lepton_eta'].values[i])), center_upper_Y)\n",
    "                \n",
    "        for i in trange(0, len(deno_mu_highpt['lepton_pt']), desc=f'fill pt > 25 GeV for {file}'):\n",
    "            if float(deno_mu_highpt['lepton_pt'].values[i]) < overflow_Y:\n",
    "                h_deno_mu.Fill(abs(float(deno_mu_highpt['lepton_eta'].values[i])), float(deno_mu_highpt['lepton_pt'].values[i]))\n",
    "                if deno_mu_highpt['lepton_pfRelIso04_all'].values[i] < 0.15:\n",
    "                    h_nume_mu.Fill(abs(float(deno_mu_highpt['lepton_eta'].values[i])), float(deno_mu_highpt['lepton_pt'].values[i]))\n",
    "            else:\n",
    "                h_deno_mu.Fill(abs(float(deno_mu_highpt['lepton_eta'].values[i])), center_upper_Y)\n",
    "                if deno_mu_highpt['lepton_pfRelIso04_all'].values[i] < 0.15:\n",
    "                    h_nume_mu.Fill(abs(float(deno_mu_highpt['lepton_eta'].values[i])), center_upper_Y)\n",
    "                    \n",
    "                \n",
    "    else:\n",
    "        if isAdd == -1:\n",
    "            deno_mu_lowpt = branches.loc[HLT_cut1 & pt_edge & muon_cut & met_cut & mt_cut & (lepton_gen_cut1 | lepton_gen_cut2) & jet_pt,:].copy()\n",
    "            deno_mu_highpt = branches.loc[HLT_cut2 & ~pt_edge & muon_cut & met_cut & mt_cut & (lepton_gen_cut1 | lepton_gen_cut2) & jet_pt,:].copy()\n",
    "        else:\n",
    "#             for closure test\n",
    "            deno_mu_lowpt = branches.loc[HLT_cut1 & pt_edge & muon_cut & met_cut & mt_cut & jet_pt,:].copy()\n",
    "            deno_mu_highpt = branches.loc[HLT_cut2 & ~pt_edge & muon_cut & met_cut & mt_cut &  jet_pt,:].copy()\n",
    "        \n",
    "        # Add SF\n",
    "        if len(deno_mu_highpt) == 0:\n",
    "            return False\n",
    "        deno_mu_highpt.loc[:,'SF'] = 1\n",
    "#         deno_mu_highpt.loc[(deno_mu_highpt['lepton_pt'] >= 35) & (deno_mu_highpt['lepton_pt'] < 45), 'SF'] = 1\n",
    "#         deno_mu_highpt.loc[deno_mu_highpt['lepton_pt'] >= 45 , 'SF'] = 1\n",
    "        \n",
    "#         print(deno_mu_highpt)\n",
    "        \n",
    "        for i in trange(0, len(deno_mu_lowpt['lepton_pt']), desc=f'fill pt < 25 GeV for {file}'):\n",
    "            if float(deno_mu_lowpt['lepton_pt'].values[i]) < overflow_Y:\n",
    "                h_deno_mu.Fill(abs(float(deno_mu_lowpt['lepton_eta'].values[i])), float(deno_mu_lowpt['lepton_pt'].values[i]), weight_lowpt*sgn(deno_mu_lowpt['gen_weight'].values[i]))\n",
    "                if deno_mu_lowpt['lepton_pfRelIso04_all'].values[i] < 0.15:\n",
    "                    h_nume_mu.Fill(abs(float(deno_mu_lowpt['lepton_eta'].values[i])), float(deno_mu_lowpt['lepton_pt'].values[i]), weight_lowpt*sgn(deno_mu_lowpt['gen_weight'].values[i]))\n",
    "            else:\n",
    "                h_deno_mu.Fill(abs(float(deno_mu_lowpt['lepton_eta'].values[i])), center_upper_Y, weight_lowpt*sgn(deno_mu_lowpt['gen_weight'].values[i]))\n",
    "                if deno_mu_lowpt['lepton_pfRelIso04_all'].values[i] < 0.15:\n",
    "                    h_nume_mu.Fill(abs(float(deno_mu_lowpt['lepton_eta'].values[i])), center_upper_Y, weight_lowpt*sgn(deno_mu_lowpt['gen_weight'].values[i]))\n",
    "                \n",
    "        for i in trange(0, len(deno_mu_highpt['lepton_pt']), desc=f'fill pt > 25 GeV for {file}'):\n",
    "            if float(deno_mu_highpt['lepton_pt'].values[i]) < overflow_Y:\n",
    "                h_deno_mu.Fill(abs(float(deno_mu_highpt['lepton_eta'].values[i])), float(deno_mu_highpt['lepton_pt'].values[i]), deno_mu_highpt['SF'].values[i]*weight_highpt*sgn(deno_mu_highpt['gen_weight'].values[i]))\n",
    "                if deno_mu_highpt['lepton_pfRelIso04_all'].values[i] < 0.15:\n",
    "                    h_nume_mu.Fill(abs(float(deno_mu_highpt['lepton_eta'].values[i])), float(deno_mu_highpt['lepton_pt'].values[i]), deno_mu_highpt['SF'].values[i]*weight_highpt*sgn(deno_mu_highpt['gen_weight'].values[i]))\n",
    "            else:\n",
    "                h_deno_mu.Fill(abs(float(deno_mu_highpt['lepton_eta'].values[i])), center_upper_Y, deno_mu_highpt['SF'].values[i]*weight_highpt*sgn(deno_mu_highpt['gen_weight'].values[i]))\n",
    "                if deno_mu_highpt['lepton_pfRelIso04_all'].values[i] < 0.15:\n",
    "                    h_nume_mu.Fill(abs(float(deno_mu_highpt['lepton_eta'].values[i])), center_upper_Y, deno_mu_highpt['SF'].values[i]*weight_highpt*sgn(deno_mu_highpt['gen_weight'].values[i]))\n",
    "\n",
    "\n",
    "    deno_counts = 0\n",
    "    for i in range(h_deno_mu.GetNbinsX()):\n",
    "        for j in range(h_deno_mu.GetNbinsY()):\n",
    "            deno_counts += h_deno_mu.GetBinContent(i+1,j+1) \n",
    "\n",
    "    nume_counts = 0\n",
    "    for i in range(h_nume_mu.GetNbinsX()):\n",
    "        for j in range(h_nume_mu.GetNbinsY()):\n",
    "            nume_counts += h_nume_mu.GetBinContent(i+1,j+1) \n",
    "\n",
    "    print (f\"normalized deno :{deno_counts}\")\n",
    "    print (f\"normalized nume :{nume_counts}\")\n",
    "        "
   ]
  },
  {
   "cell_type": "code",
   "execution_count": 246,
   "id": "early-conflict",
   "metadata": {},
   "outputs": [
    {
     "name": "stdout",
     "output_type": "stream",
     "text": [
      "is Data\n"
     ]
    },
    {
     "name": "stderr",
     "output_type": "stream",
     "text": [
      "fill pt < 25 GeV for /eos/user/s/sdeng/WZG_analysis/fake_lepton_template/2018/DoubleMuon_Run2018A_0000.root: 100%|██████████| 4620/4620 [00:00<00:00, 41182.24it/s]\n",
      "fill pt > 25 GeV for /eos/user/s/sdeng/WZG_analysis/fake_lepton_template/2018/DoubleMuon_Run2018A_0000.root: 100%|██████████| 4749/4749 [00:00<00:00, 41487.54it/s]\n"
     ]
    },
    {
     "name": "stdout",
     "output_type": "stream",
     "text": [
      "normalized deno :9351.0\n",
      "normalized nume :3707.0\n",
      "is Data\n"
     ]
    },
    {
     "name": "stderr",
     "output_type": "stream",
     "text": [
      "fill pt < 25 GeV for /eos/user/s/sdeng/WZG_analysis/fake_lepton_template/2018/DoubleMuon_Run2018B_0000.root: 100%|██████████| 2453/2453 [00:00<00:00, 41886.69it/s]\n",
      "fill pt > 25 GeV for /eos/user/s/sdeng/WZG_analysis/fake_lepton_template/2018/DoubleMuon_Run2018B_0000.root: 100%|██████████| 2265/2265 [00:00<00:00, 41652.67it/s]\n"
     ]
    },
    {
     "name": "stdout",
     "output_type": "stream",
     "text": [
      "normalized deno :14050.0\n",
      "normalized nume :5485.0\n",
      "is Data\n"
     ]
    },
    {
     "name": "stderr",
     "output_type": "stream",
     "text": [
      "fill pt < 25 GeV for /eos/user/s/sdeng/WZG_analysis/fake_lepton_template/2018/DoubleMuon_Run2018C_0000.root: 100%|██████████| 5503/5503 [00:00<00:00, 41589.94it/s]\n",
      "fill pt > 25 GeV for /eos/user/s/sdeng/WZG_analysis/fake_lepton_template/2018/DoubleMuon_Run2018C_0000.root: 100%|██████████| 2073/2073 [00:00<00:00, 41995.91it/s]\n"
     ]
    },
    {
     "name": "stdout",
     "output_type": "stream",
     "text": [
      "normalized deno :21600.0\n",
      "normalized nume :8358.0\n",
      "is Data\n"
     ]
    },
    {
     "name": "stderr",
     "output_type": "stream",
     "text": [
      "fill pt < 25 GeV for /eos/user/s/sdeng/WZG_analysis/fake_lepton_template/2018/DoubleMuon_Run2018D_0000.root: 100%|██████████| 23008/23008 [00:00<00:00, 39726.32it/s]\n",
      "fill pt > 25 GeV for /eos/user/s/sdeng/WZG_analysis/fake_lepton_template/2018/DoubleMuon_Run2018D_0000.root: 100%|██████████| 6547/6547 [00:00<00:00, 40562.18it/s]\n"
     ]
    },
    {
     "name": "stdout",
     "output_type": "stream",
     "text": [
      "normalized deno :51028.0\n",
      "normalized nume :19574.0\n",
      "is Data\n"
     ]
    },
    {
     "name": "stderr",
     "output_type": "stream",
     "text": [
      "fill pt < 25 GeV for /eos/user/s/sdeng/WZG_analysis/fake_lepton_template/2018/DoubleMuon_Run2018D_0001.root: 100%|██████████| 13394/13394 [00:00<00:00, 41537.50it/s]\n",
      "fill pt > 25 GeV for /eos/user/s/sdeng/WZG_analysis/fake_lepton_template/2018/DoubleMuon_Run2018D_0001.root: 100%|██████████| 3830/3830 [00:00<00:00, 41502.23it/s]\n"
     ]
    },
    {
     "name": "stdout",
     "output_type": "stream",
     "text": [
      "normalized deno :68163.0\n",
      "normalized nume :26221.0\n",
      "is MC\n"
     ]
    },
    {
     "name": "stderr",
     "output_type": "stream",
     "text": [
      "fill pt < 25 GeV for /eos/user/s/sdeng/WZG_analysis/fake_lepton_template/2018/WJetsToLNu_TuneCP5_13TeV-madgraphMLM-pythia8_2018_0000.root: 100%|██████████| 18415/18415 [00:00<00:00, 26489.24it/s]\n",
      "fill pt > 25 GeV for /eos/user/s/sdeng/WZG_analysis/fake_lepton_template/2018/WJetsToLNu_TuneCP5_13TeV-madgraphMLM-pythia8_2018_0000.root: 100%|██████████| 44980/44980 [00:02<00:00, 17824.04it/s]\n"
     ]
    },
    {
     "name": "stdout",
     "output_type": "stream",
     "text": [
      "normalized deno :66476.00905154148\n",
      "normalized nume :24624.08478984972\n",
      "is MC\n"
     ]
    },
    {
     "name": "stderr",
     "output_type": "stream",
     "text": [
      "fill pt < 25 GeV for /eos/user/s/sdeng/WZG_analysis/fake_lepton_template/2018/DYJetsToLL_M-50_TuneCP5_13TeV-madgraphMLM-pythia8_2018_0000.root: 100%|██████████| 97253/97253 [00:03<00:00, 26577.76it/s]\n",
      "fill pt > 25 GeV for /eos/user/s/sdeng/WZG_analysis/fake_lepton_template/2018/DYJetsToLL_M-50_TuneCP5_13TeV-madgraphMLM-pythia8_2018_0000.root: 100%|██████████| 116265/116265 [00:06<00:00, 17469.58it/s]\n"
     ]
    },
    {
     "name": "stdout",
     "output_type": "stream",
     "text": [
      "normalized deno :66096.02393749867\n",
      "normalized nume :24269.054432150893\n",
      "is MC\n"
     ]
    },
    {
     "name": "stderr",
     "output_type": "stream",
     "text": [
      "fill pt < 25 GeV for /eos/user/s/sdeng/WZG_analysis/fake_lepton_template/2018/DYJetsToLL_M-10to50_TuneCP5_13TeV-madgraphMLM-pythia8_2018_0000.root: 100%|██████████| 16854/16854 [00:00<00:00, 26671.03it/s]\n",
      "fill pt > 25 GeV for /eos/user/s/sdeng/WZG_analysis/fake_lepton_template/2018/DYJetsToLL_M-10to50_TuneCP5_13TeV-madgraphMLM-pythia8_2018_0000.root: 100%|██████████| 7257/7257 [00:00<00:00, 17657.34it/s]\n"
     ]
    },
    {
     "name": "stdout",
     "output_type": "stream",
     "text": [
      "normalized deno :65962.94719246856\n",
      "normalized nume :24149.922820095344\n",
      "0.00856 0.04578 61526.7\n",
      "0.00856 0.04578 6077.22\n",
      "0.00856 0.04578 18610\n"
     ]
    }
   ],
   "source": [
    "# xbins = 5\n",
    "# xlow = 0\n",
    "# xup = 2.5\n",
    "\n",
    "# ybins = 3\n",
    "# ylow = 25\n",
    "# yup = 50\n",
    "\n",
    "ybins = [10, 13, 16, 20, 24, 28, 35, 45, 60]\n",
    "xbins = [.0, 0.5, 1.0, 1.5, 2.0, 2.5]\n",
    "\n",
    "from array import array\n",
    "h_deno_mu = ROOT.TH2D(\"\",\"\", 5, array('d',xbins), 8, array('d',ybins))\n",
    "h_deno_mu.StatOverflows(1)\n",
    "h_deno_mu.Sumw2()\n",
    "h_nume_mu = ROOT.TH2D(\"\",\"\", 5, array('d',xbins), 8, array('d',ybins))\n",
    "h_nume_mu.StatOverflows(1)\n",
    "h_nume_mu.Sumw2()\n",
    "\n",
    "# file_DATA = \"/eos/user/s/sdeng/ttx/fake_lepton_template/SingleMuon_Run2017B.root\"\n",
    "# file_DATA = \"/eos/user/s/sdeng/WZG_analysis/fake_lepton_template/SingleMuon_Run2018D.root\"\n",
    "# AddDATA(file_DATA, h_nume_mu, h_deno_mu)\n",
    "\n",
    "file_list_Mu = [\n",
    "    '/eos/user/s/sdeng/WZG_analysis/fake_lepton_template/2018/DoubleMuon_Run2018A_0000.root',\n",
    "    '/eos/user/s/sdeng/WZG_analysis/fake_lepton_template/2018/DoubleMuon_Run2018B_0000.root',\n",
    "    '/eos/user/s/sdeng/WZG_analysis/fake_lepton_template/2018/DoubleMuon_Run2018C_0000.root',\n",
    "    '/eos/user/s/sdeng/WZG_analysis/fake_lepton_template/2018/DoubleMuon_Run2018D_0000.root',\n",
    "    '/eos/user/s/sdeng/WZG_analysis/fake_lepton_template/2018/DoubleMuon_Run2018D_0001.root',\n",
    "]\n",
    "for file_DATA in file_list_Mu:\n",
    "    AddHist_FR_Mu(file_DATA, h_nume_mu, h_deno_mu, 1, 1, 0, 0, 0)\n",
    "\n",
    "# file_MC = \"/eos/user/s/sdeng/ttx/fake_lepton_template/WJetsToLNu_TuneCP5_13TeV-amcatnloFXFX-pythia8_2017.root\"\n",
    "file_WJets = \"/eos/user/s/sdeng/WZG_analysis/fake_lepton_template/2018/WJetsToLNu_TuneCP5_13TeV-madgraphMLM-pythia8_2018_0000.root\"\n",
    "file_ZJets = \"/eos/user/s/sdeng/WZG_analysis/fake_lepton_template/2018/DYJetsToLL_M-50_TuneCP5_13TeV-madgraphMLM-pythia8_2018_0000.root\"\n",
    "file_ZJets2 = \"/eos/user/s/sdeng/WZG_analysis/fake_lepton_template/2018/DYJetsToLL_M-10to50_TuneCP5_13TeV-madgraphMLM-pythia8_2018_0000.root\"\n",
    "xsec_WJets = 61526.7 \n",
    "xsec_ZJets = 6077.22 \n",
    "xsec_ZJets2 = 18610 \n",
    "\n",
    "# lumi = 14.003 # 2018A\n",
    "# lumi = 7.055 # 2018B\n",
    "# lumi = 6.890 # 2018C\n",
    "# lumi = 31.835 # 2018D\n",
    "\n",
    "lumi_Mu8 = 0.00856 # HLT_Mu8_TrkIsoVVL 2018 lumi\n",
    "lumi_Mu17 = 0.04578 # HLT_Mu17_TrkIsoVVL 2018 lumi\n",
    "\n",
    "\n",
    "AddHist_FR_Mu(file_WJets, h_nume_mu, h_deno_mu, -1, 0, lumi_Mu8, lumi_Mu17, xsec_WJets)\n",
    "AddHist_FR_Mu(file_ZJets, h_nume_mu, h_deno_mu, -1, 0, lumi_Mu8, lumi_Mu17, xsec_ZJets)\n",
    "AddHist_FR_Mu(file_ZJets2, h_nume_mu, h_deno_mu, -1, 0, lumi_Mu8, lumi_Mu17, xsec_ZJets2)\n",
    "print (lumi_Mu8, lumi_Mu17, xsec_WJets)\n",
    "print (lumi_Mu8, lumi_Mu17, xsec_ZJets)\n",
    "print (lumi_Mu8, lumi_Mu17, xsec_ZJets2)"
   ]
  },
  {
   "cell_type": "code",
   "execution_count": 251,
   "id": "wound-bishop",
   "metadata": {},
   "outputs": [
    {
     "name": "stdout",
     "output_type": "stream",
     "text": [
      "59.7 fb^{-1} (13 TeV)\n"
     ]
    },
    {
     "name": "stderr",
     "output_type": "stream",
     "text": [
      "Info in <TCanvas::Print>: pdf file Fake_Lepton/FR_Muon_data_2018_new.pdf has been created\n",
      "Info in <TCanvas::Print>: png file Fake_Lepton/FR_Muon_data_2018_new.png has been created\n"
     ]
    },
    {
     "data": {
      "image/png": "[encoded data removed]",
      "text/plain": [
       "<IPython.core.display.Image object>"
      ]
     },
     "metadata": {},
     "output_type": "display_data"
    }
   ],
   "source": [
    "fake_rate_mu = h_nume_mu.Clone(\"fake_rate_mu\")\n",
    "fake_rate_mu.Divide(h_deno_mu)\n",
    "\n",
    "fake_rate_mu.SetDirectory(0)\n",
    "c1 = ROOT.TCanvas(\"\",\"\",1200,800)\n",
    "fake_rate_mu.SetStats(0)\n",
    "fake_rate_mu.SetXTitle(\"|#eta|\")\n",
    "fake_rate_mu.SetYTitle(\"P_{T} [GeV]\")\n",
    "fake_rate_mu.SetMarkerSize(1.3)\n",
    "ROOT.gStyle.SetPaintTextFormat('4.2f')\n",
    "fake_rate_mu.Draw(\"TEXT COLZe\")\n",
    "c1.Draw()\n",
    "CMS_lumi(c1,0,0)\n",
    "c1.SaveAs('Fake_Lepton/FR_Muon_data_2018_new.pdf')\n",
    "c1.SaveAs('Fake_Lepton/FR_Muon_data_2018_new.png')"
   ]
  },
  {
   "cell_type": "code",
   "execution_count": 248,
   "id": "ongoing-transaction",
   "metadata": {},
   "outputs": [],
   "source": [
    "f = ROOT.TFile(\"Fake_Lepton/Mu_Fake_Rate_2D_2018.root\",\"RECREATE\")\n",
    "f.cd()\n",
    "fake_rate_mu.Write()\n",
    "f.Close()"
   ]
  },
  {
   "cell_type": "markdown",
   "id": "copyrighted-ranch",
   "metadata": {},
   "source": [
    "#### Electron "
   ]
  },
  {
   "cell_type": "code",
   "execution_count": 268,
   "id": "adjustable-shoulder",
   "metadata": {},
   "outputs": [],
   "source": [
    "def AddHist_FR_Ele(file, h_nume_e, h_deno_e, isAdd, isData, lumi_Ele8, lumi_Ele23, xsec):\n",
    "    \n",
    "    if isData:\n",
    "        print('is Data')\n",
    "        branches = uproot.open(file+':Events').arrays(['jet_pt','is_lepton_tight','mt','met','lepton_pt','lepton_eta','lepton_pdgid','HLT_Ele8_CaloIdL_TrackIdL_IsoVL_PFJet30','HLT_Ele23_CaloIdL_TrackIdL_IsoVL_PFJet30','hlt'], library='pd')\n",
    "    else:\n",
    "        print('is MC')\n",
    "        branches = uproot.open(file+':Events').arrays(['jet_pt','is_lepton_tight','mt','met','lepton_pt','lepton_eta','lepton_pdgid','lepton_gen_matching','HLT_Ele8_CaloIdL_TrackIdL_IsoVL_PFJet30','HLT_Ele23_CaloIdL_TrackIdL_IsoVL_PFJet30','hlt','gen_weight'], library='pd')\n",
    "        true_events = uproot.open(file)['nEventsGenWeighted'].values()[0]\n",
    "        weight_lowpt = (1000*lumi_Ele8*xsec*isAdd) / true_events\n",
    "        weight_highpt = (1000*lumi_Ele23*xsec*isAdd) / true_events\n",
    "        lepton_gen_cut1 = branches.loc[:,'lepton_gen_matching'] == 1\n",
    "        lepton_gen_cut2 = branches.loc[:,'lepton_gen_matching'] == 15\n",
    "        \n",
    "    HLT_cut1 = branches.loc[:,'HLT_Ele8_CaloIdL_TrackIdL_IsoVL_PFJet30'] == True\n",
    "    HLT_cut2 = branches.loc[:,'HLT_Ele23_CaloIdL_TrackIdL_IsoVL_PFJet30'] == True\n",
    "    met_cut = branches.loc[:,'met'] < 20\n",
    "    mt_cut = branches.loc[:,'mt'] < 20\n",
    "    Electron_cut = abs(branches.loc[:,'lepton_pdgid']) == 11\n",
    "    pt_edge = branches.loc[:,'lepton_pt'] < 25\n",
    "    jet_pt = branches.loc[:,'jet_pt'] >35\n",
    "\n",
    "#     deno_e = branches.loc[(HLT_cut1 | HLT_cut2) & muon_cut,:]\n",
    "#     deno_e = branches.loc[(HLT_cut1) & muon_cut,:]\n",
    "        \n",
    "#     deno_e = branches.loc[((HLT_cut1 & pt_edge) | (HLT_cut2 & ~pt_edge)) & muon_cut,:]\n",
    "#     nume_e_lowpt = deno_e.loc[pf_cut,:]\n",
    "#     nume_e_highpt = deno_e.loc[pf_cut,:]\n",
    "    \n",
    "    overflow_Y = h_deno_e.GetYaxis().GetBinUpEdge(h_deno_e.GetNbinsY())\n",
    "    center_upper_Y = h_deno_e.GetYaxis().GetBinCenter(h_deno_e.GetNbinsY())\n",
    "    \n",
    "    if isData:\n",
    "        deno_e_lowpt = branches.loc[HLT_cut1 & pt_edge & Electron_cut & met_cut & mt_cut & jet_pt,:]\n",
    "        deno_e_highpt = branches.loc[HLT_cut2 & ~pt_edge & Electron_cut & met_cut & mt_cut & jet_pt,:]\n",
    "        \n",
    "        \n",
    "        for i in trange(0, len(deno_e_lowpt['lepton_pt']), desc=f'fill pt < 25 GeV for {file}'):\n",
    "            if float(deno_e_lowpt['lepton_pt'].values[i]) < overflow_Y:\n",
    "                h_deno_e.Fill(abs(float(deno_e_lowpt['lepton_eta'].values[i])), float(deno_e_lowpt['lepton_pt'].values[i]))\n",
    "                if deno_e_lowpt['is_lepton_tight'].values[i] == 1:\n",
    "                    h_nume_e.Fill(abs(float(deno_e_lowpt['lepton_eta'].values[i])), float(deno_e_lowpt['lepton_pt'].values[i]))\n",
    "            else:\n",
    "                h_deno_e.Fill(abs(float(deno_e_lowpt['lepton_eta'].values[i])), center_upper_Y)\n",
    "                if deno_e_lowpt['is_lepton_tight'].values[i] == 1:\n",
    "                    h_nume_e.Fill(abs(float(deno_e_lowpt['lepton_eta'].values[i])), center_upper_Y)\n",
    "                \n",
    "        for i in trange(0, len(deno_e_highpt['lepton_pt']), desc=f'fill pt > 25 GeV for {file}'):\n",
    "            if float(deno_e_highpt['lepton_pt'].values[i]) < overflow_Y:\n",
    "                h_deno_e.Fill(abs(float(deno_e_highpt['lepton_eta'].values[i])), float(deno_e_highpt['lepton_pt'].values[i]))\n",
    "                if deno_e_highpt['is_lepton_tight'].values[i] == 1:\n",
    "                    h_nume_e.Fill(abs(float(deno_e_highpt['lepton_eta'].values[i])), float(deno_e_highpt['lepton_pt'].values[i]))\n",
    "            else:\n",
    "                h_deno_e.Fill(abs(float(deno_e_highpt['lepton_eta'].values[i])), center_upper_Y)\n",
    "                if deno_e_highpt['is_lepton_tight'].values[i] == 1:\n",
    "                    h_nume_e.Fill(abs(float(deno_e_highpt['lepton_eta'].values[i])), center_upper_Y)\n",
    "                    \n",
    "                \n",
    "    else:\n",
    "        if isAdd == -1:\n",
    "            deno_e_lowpt = branches.loc[HLT_cut1 & pt_edge & Electron_cut & met_cut & mt_cut & (lepton_gen_cut1 | lepton_gen_cut2) & jet_pt,:].copy()\n",
    "            deno_e_highpt = branches.loc[HLT_cut2 & ~pt_edge & Electron_cut & met_cut & mt_cut & (lepton_gen_cut1 | lepton_gen_cut2) & jet_pt,:].copy()\n",
    "        else:\n",
    "#             for closure test\n",
    "            deno_e_lowpt = branches.loc[HLT_cut1 & pt_edge & Electron_cut & met_cut & mt_cut & jet_pt,:].copy()\n",
    "            deno_e_highpt = branches.loc[HLT_cut2 & ~pt_edge & Electron_cut & met_cut & mt_cut & jet_pt,:].copy()\n",
    "        \n",
    "        # Add SF\n",
    "        if len(deno_e_highpt) == 0:\n",
    "            return False\n",
    "        deno_e_highpt.loc[:,'SF'] = 1\n",
    "#         deno_e_highpt.loc[(deno_e_highpt['lepton_pt'] >= 35) & (deno_e_highpt['lepton_pt'] < 45), 'SF'] = 1\n",
    "#         deno_e_highpt.loc[deno_e_highpt['lepton_pt'] >= 45 , 'SF'] = 1\n",
    "        \n",
    "#         print(deno_e_highpt)\n",
    "        \n",
    "        for i in trange(0, len(deno_e_lowpt['lepton_pt']), desc=f'fill pt < 25 GeV for {file}'):\n",
    "            if float(deno_e_lowpt['lepton_pt'].values[i]) < overflow_Y:\n",
    "                h_deno_e.Fill(abs(float(deno_e_lowpt['lepton_eta'].values[i])), float(deno_e_lowpt['lepton_pt'].values[i]), weight_lowpt*sgn(deno_e_lowpt['gen_weight'].values[i]))\n",
    "                if deno_e_lowpt['is_lepton_tight'].values[i] == 1:\n",
    "                    h_nume_e.Fill(abs(float(deno_e_lowpt['lepton_eta'].values[i])), float(deno_e_lowpt['lepton_pt'].values[i]), weight_lowpt*sgn(deno_e_lowpt['gen_weight'].values[i]))\n",
    "            else:\n",
    "                h_deno_e.Fill(abs(float(deno_e_lowpt['lepton_eta'].values[i])), center_upper_Y, weight_lowpt*sgn(deno_e_lowpt['gen_weight'].values[i]))\n",
    "                if deno_e_lowpt['is_lepton_tight'].values[i] == 1:\n",
    "                    h_nume_e.Fill(abs(float(deno_e_lowpt['lepton_eta'].values[i])), center_upper_Y, weight_lowpt*sgn(deno_e_lowpt['gen_weight'].values[i]))\n",
    "                \n",
    "        for i in trange(0, len(deno_e_highpt['lepton_pt']), desc=f'fill pt > 25 GeV for {file}'):\n",
    "            if float(deno_e_highpt['lepton_pt'].values[i]) < overflow_Y:\n",
    "                h_deno_e.Fill(abs(float(deno_e_highpt['lepton_eta'].values[i])), float(deno_e_highpt['lepton_pt'].values[i]), deno_e_highpt['SF'].values[i]*weight_highpt*sgn(deno_e_highpt['gen_weight'].values[i]))\n",
    "                if deno_e_highpt['is_lepton_tight'].values[i] == 1:\n",
    "                    h_nume_e.Fill(abs(float(deno_e_highpt['lepton_eta'].values[i])), float(deno_e_highpt['lepton_pt'].values[i]), deno_e_highpt['SF'].values[i]*weight_highpt*sgn(deno_e_highpt['gen_weight'].values[i]))\n",
    "            else:\n",
    "                h_deno_e.Fill(abs(float(deno_e_highpt['lepton_eta'].values[i])), center_upper_Y, deno_e_highpt['SF'].values[i]*weight_highpt*sgn(deno_e_highpt['gen_weight'].values[i]))\n",
    "                if deno_e_highpt['is_lepton_tight'].values[i] == 1:\n",
    "                    h_nume_e.Fill(abs(float(deno_e_highpt['lepton_eta'].values[i])), center_upper_Y, deno_e_highpt['SF'].values[i]*weight_highpt*sgn(deno_e_highpt['gen_weight'].values[i]))\n",
    "\n",
    "\n",
    "    deno_counts = 0\n",
    "    for i in range(h_deno_e.GetNbinsX()):\n",
    "        for j in range(h_deno_e.GetNbinsY()):\n",
    "            deno_counts += h_deno_e.GetBinContent(i+1,j+1) \n",
    "\n",
    "    nume_counts = 0\n",
    "    for i in range(h_nume_e.GetNbinsX()):\n",
    "        for j in range(h_nume_e.GetNbinsY()):\n",
    "            nume_counts += h_nume_e.GetBinContent(i+1,j+1) \n",
    "\n",
    "    print (f\"normalized deno :{deno_counts}\")\n",
    "    print (f\"normalized nume :{nume_counts}\")\n",
    "        "
   ]
  },
  {
   "cell_type": "code",
   "execution_count": 253,
   "id": "choice-mills",
   "metadata": {},
   "outputs": [
    {
     "name": "stdout",
     "output_type": "stream",
     "text": [
      "is Data\n"
     ]
    },
    {
     "name": "stderr",
     "output_type": "stream",
     "text": [
      "fill pt < 25 GeV for /eos/user/s/sdeng/WZG_analysis/fake_lepton_template/2018/EGamma_Run2018A_0000.root: 100%|██████████| 1574/1574 [00:00<00:00, 40049.23it/s]\n",
      "fill pt > 25 GeV for /eos/user/s/sdeng/WZG_analysis/fake_lepton_template/2018/EGamma_Run2018A_0000.root: 100%|██████████| 3492/3492 [00:00<00:00, 42135.13it/s]\n"
     ]
    },
    {
     "name": "stdout",
     "output_type": "stream",
     "text": [
      "normalized deno :5057.0\n",
      "normalized nume :1961.0\n",
      "is Data\n"
     ]
    },
    {
     "name": "stderr",
     "output_type": "stream",
     "text": [
      "fill pt < 25 GeV for /eos/user/s/sdeng/WZG_analysis/fake_lepton_template/2018/EGamma_Run2018B_0000.root: 100%|██████████| 3845/3845 [00:00<00:00, 41718.98it/s]\n",
      "fill pt > 25 GeV for /eos/user/s/sdeng/WZG_analysis/fake_lepton_template/2018/EGamma_Run2018B_0000.root: 100%|██████████| 3763/3763 [00:00<00:00, 42669.78it/s]\n"
     ]
    },
    {
     "name": "stdout",
     "output_type": "stream",
     "text": [
      "normalized deno :12657.0\n",
      "normalized nume :4867.0\n",
      "is Data\n"
     ]
    },
    {
     "name": "stderr",
     "output_type": "stream",
     "text": [
      "fill pt < 25 GeV for /eos/user/s/sdeng/WZG_analysis/fake_lepton_template/2018/EGamma_Run2018C_0000.root: 100%|██████████| 3619/3619 [00:00<00:00, 41692.47it/s]\n",
      "fill pt > 25 GeV for /eos/user/s/sdeng/WZG_analysis/fake_lepton_template/2018/EGamma_Run2018C_0000.root: 100%|██████████| 3771/3771 [00:00<00:00, 43357.83it/s]\n"
     ]
    },
    {
     "name": "stdout",
     "output_type": "stream",
     "text": [
      "normalized deno :20038.0\n",
      "normalized nume :7768.0\n",
      "is Data\n"
     ]
    },
    {
     "name": "stderr",
     "output_type": "stream",
     "text": [
      "fill pt < 25 GeV for /eos/user/s/sdeng/WZG_analysis/fake_lepton_template/2018/EGamma_Run2018D_0000.root: 100%|██████████| 11588/11588 [00:00<00:00, 38845.71it/s]\n",
      "fill pt > 25 GeV for /eos/user/s/sdeng/WZG_analysis/fake_lepton_template/2018/EGamma_Run2018D_0000.root: 100%|██████████| 11593/11593 [00:00<00:00, 42525.96it/s]\n"
     ]
    },
    {
     "name": "stdout",
     "output_type": "stream",
     "text": [
      "normalized deno :43184.0\n",
      "normalized nume :16768.0\n",
      "is Data\n"
     ]
    },
    {
     "name": "stderr",
     "output_type": "stream",
     "text": [
      "fill pt < 25 GeV for /eos/user/s/sdeng/WZG_analysis/fake_lepton_template/2018/EGamma_Run2018D_0001.root: 100%|██████████| 6446/6446 [00:00<00:00, 42086.42it/s]\n",
      "fill pt > 25 GeV for /eos/user/s/sdeng/WZG_analysis/fake_lepton_template/2018/EGamma_Run2018D_0001.root: 100%|██████████| 6844/6844 [00:00<00:00, 43068.52it/s]\n"
     ]
    },
    {
     "name": "stdout",
     "output_type": "stream",
     "text": [
      "normalized deno :56457.0\n",
      "normalized nume :21817.0\n"
     ]
    }
   ],
   "source": [
    "# xbins = 5\n",
    "# xlow = 0\n",
    "# xup = 2.5\n",
    "\n",
    "# ybins = 3\n",
    "# ylow = 25\n",
    "# yup = 50\n",
    "\n",
    "ybins = [10, 13, 16, 20, 24, 28, 35, 45, 60]\n",
    "xbins = [.0, 0.5, 1.0, 1.5, 2.0, 2.5]\n",
    "\n",
    "from array import array\n",
    "h_deno_e = ROOT.TH2D(\"\",\"\", 5, array('d',xbins), 8, array('d',ybins))\n",
    "h_deno_e.StatOverflows(1)\n",
    "h_deno_e.Sumw2()\n",
    "h_nume_e = ROOT.TH2D(\"\",\"\", 5, array('d',xbins), 8, array('d',ybins))\n",
    "h_nume_e.StatOverflows(1)\n",
    "h_nume_e.Sumw2()\n",
    "\n",
    "# file_DATA = \"/eos/user/s/sdeng/ttx/fake_lepton_template/SingleMuon_Run2017B.root\"\n",
    "# file_DATA = \"/eos/user/s/sdeng/WZG_analysis/fake_lepton_template/SingleMuon_Run2018D.root\"\n",
    "# AddDATA(file_DATA, h_nume_e, h_deno_e)\n",
    "\n",
    "file_list_E = [\n",
    "    '/eos/user/s/sdeng/WZG_analysis/fake_lepton_template/2018/EGamma_Run2018A_0000.root',\n",
    "    '/eos/user/s/sdeng/WZG_analysis/fake_lepton_template/2018/EGamma_Run2018B_0000.root',\n",
    "    '/eos/user/s/sdeng/WZG_analysis/fake_lepton_template/2018/EGamma_Run2018C_0000.root',\n",
    "    '/eos/user/s/sdeng/WZG_analysis/fake_lepton_template/2018/EGamma_Run2018D_0000.root',\n",
    "    '/eos/user/s/sdeng/WZG_analysis/fake_lepton_template/2018/EGamma_Run2018D_0001.root',\n",
    "]\n",
    "for file_DATA in file_list_E:\n",
    "    AddHist_FR_Ele(file_DATA, h_nume_e, h_deno_e, 1, 1, 0, 0, 0)\n",
    "\n"
   ]
  },
  {
   "cell_type": "code",
   "execution_count": 254,
   "id": "native-converter",
   "metadata": {},
   "outputs": [
    {
     "name": "stdout",
     "output_type": "stream",
     "text": [
      "is MC\n"
     ]
    },
    {
     "name": "stderr",
     "output_type": "stream",
     "text": [
      "fill pt < 25 GeV for /eos/user/s/sdeng/WZG_analysis/fake_lepton_template/2018/WJetsToLNu_TuneCP5_13TeV-madgraphMLM-pythia8_2018_0000.root: 100%|██████████| 9509/9509 [00:00<00:00, 26708.84it/s]\n",
      "fill pt > 25 GeV for /eos/user/s/sdeng/WZG_analysis/fake_lepton_template/2018/WJetsToLNu_TuneCP5_13TeV-madgraphMLM-pythia8_2018_0000.root: 100%|██████████| 32802/32802 [00:01<00:00, 17988.71it/s]\n"
     ]
    },
    {
     "name": "stdout",
     "output_type": "stream",
     "text": [
      "normalized deno :55452.86868059131\n",
      "normalized nume :20842.385599113797\n",
      "is MC\n"
     ]
    },
    {
     "name": "stderr",
     "output_type": "stream",
     "text": [
      "fill pt < 25 GeV for /eos/user/s/sdeng/WZG_analysis/fake_lepton_template/2018/DYJetsToLL_M-50_TuneCP5_13TeV-madgraphMLM-pythia8_2018_0000.root: 100%|██████████| 81214/81214 [00:03<00:00, 25714.91it/s]\n",
      "fill pt > 25 GeV for /eos/user/s/sdeng/WZG_analysis/fake_lepton_template/2018/DYJetsToLL_M-50_TuneCP5_13TeV-madgraphMLM-pythia8_2018_0000.root: 100%|██████████| 269664/269664 [00:15<00:00, 17553.43it/s]\n"
     ]
    },
    {
     "name": "stdout",
     "output_type": "stream",
     "text": [
      "normalized deno :54782.376960396614\n",
      "normalized nume :20194.75902321151\n",
      "is MC\n"
     ]
    },
    {
     "name": "stderr",
     "output_type": "stream",
     "text": [
      "fill pt < 25 GeV for /eos/user/s/sdeng/WZG_analysis/fake_lepton_template/2018/DYJetsToLL_M-10to50_TuneCP5_13TeV-madgraphMLM-pythia8_2018_0000.root: 100%|██████████| 9746/9746 [00:00<00:00, 26837.70it/s]\n",
      "fill pt > 25 GeV for /eos/user/s/sdeng/WZG_analysis/fake_lepton_template/2018/DYJetsToLL_M-10to50_TuneCP5_13TeV-madgraphMLM-pythia8_2018_0000.root: 100%|██████████| 5660/5660 [00:00<00:00, 17632.38it/s]\n"
     ]
    },
    {
     "name": "stdout",
     "output_type": "stream",
     "text": [
      "normalized deno :54758.212784235555\n",
      "normalized nume :20171.925403905712\n",
      "0.00461 0.03891 61526.7\n",
      "0.00461 0.03891 6077.22\n"
     ]
    }
   ],
   "source": [
    "# file_MC = \"/eos/user/s/sdeng/ttx/fake_lepton_template/WJetsToLNu_TuneCP5_13TeV-amcatnloFXFX-pythia8_2017.root\"\n",
    "file_WJets = \"/eos/user/s/sdeng/WZG_analysis/fake_lepton_template/2018/WJetsToLNu_TuneCP5_13TeV-madgraphMLM-pythia8_2018_0000.root\"\n",
    "file_ZJets = \"/eos/user/s/sdeng/WZG_analysis/fake_lepton_template/2018/DYJetsToLL_M-50_TuneCP5_13TeV-madgraphMLM-pythia8_2018_0000.root\"\n",
    "file_ZJets2 = \"/eos/user/s/sdeng/WZG_analysis/fake_lepton_template/2018/DYJetsToLL_M-10to50_TuneCP5_13TeV-madgraphMLM-pythia8_2018_0000.root\"\n",
    "xsec_WJets = 61526.7 \n",
    "xsec_ZJets = 6077.22 \n",
    "xsec_ZJets2 = 18610 \n",
    "\n",
    "\n",
    "lumi_Ele8 = 0.00461 # HLT_Ele8_CaloIdL_TrackIdL_IsoVL_PFJet30 2018 lumi\n",
    "lumi_Ele23 = 0.03891 # HLT_Ele23_CaloIdL_TrackIdL_IsoVL_PFJet30 2018 lumi\n",
    "\n",
    "\n",
    "AddHist_FR_Ele(file_WJets, h_nume_e, h_deno_e, -1, 0, lumi_Ele8, lumi_Ele23, xsec_WJets)\n",
    "AddHist_FR_Ele(file_ZJets, h_nume_e, h_deno_e, -1, 0, lumi_Ele8, lumi_Ele23, xsec_ZJets)\n",
    "AddHist_FR_Ele(file_ZJets2, h_nume_e, h_deno_e, -1, 0, lumi_Ele8, lumi_Ele23, xsec_ZJets)\n",
    "print (lumi_Ele8, lumi_Ele23, xsec_WJets)\n",
    "print (lumi_Ele8, lumi_Ele23, xsec_ZJets)"
   ]
  },
  {
   "cell_type": "code",
   "execution_count": 257,
   "id": "mature-matthew",
   "metadata": {},
   "outputs": [
    {
     "name": "stdout",
     "output_type": "stream",
     "text": [
      "59.7 fb^{-1} (13 TeV)\n"
     ]
    },
    {
     "data": {
      "image/png": "[encoded data removed]",
      "text/plain": [
       "<IPython.core.display.Image object>"
      ]
     },
     "metadata": {},
     "output_type": "display_data"
    }
   ],
   "source": [
    "fake_rate_e = h_nume_e.Clone(\"fake_rate_e\")\n",
    "fake_rate_e.Divide(h_deno_e)\n",
    "\n",
    "fake_rate_e.SetDirectory(0)\n",
    "c1 = ROOT.TCanvas(\"\",\"\",1200,800)\n",
    "fake_rate_e.SetStats(0)\n",
    "fake_rate_e.SetXTitle(\"|#eta|\")\n",
    "fake_rate_e.SetYTitle(\"P_{T} [GeV]\")\n",
    "fake_rate_e.SetMarkerSize(1.3)\n",
    "ROOT.gStyle.SetPaintTextFormat('4.2f')\n",
    "fake_rate_e.Draw(\"COLZe TEXT\")\n",
    "c1.Draw()\n",
    "CMS_lumi(c1,0,0)\n",
    "# c1.SaveAs('Fake_Lepton/FR_Electron_data_2018_new.pdf')\n",
    "# c1.SaveAs('Fake_Lepton/FR_Electron_data_2018_new.png')"
   ]
  },
  {
   "cell_type": "code",
   "execution_count": 258,
   "id": "conventional-symposium",
   "metadata": {},
   "outputs": [],
   "source": [
    "f = ROOT.TFile(\"Fake_Lepton/Ele_Fake_Rate_2D_2018.root\",\"RECREATE\")\n",
    "f.cd()\n",
    "fake_rate_e.Write()\n",
    "f.Close()"
   ]
  },
  {
   "cell_type": "markdown",
   "id": "divided-processing",
   "metadata": {},
   "source": [
    "#### test"
   ]
  },
  {
   "cell_type": "code",
   "execution_count": 69,
   "id": "covered-dubai",
   "metadata": {},
   "outputs": [],
   "source": [
    "h_deno_mu_1075 = h_deno_mu.Clone()\n",
    "h_nume_mu_1075 = h_nume_mu.Clone()"
   ]
  },
  {
   "cell_type": "code",
   "execution_count": 74,
   "id": "prompt-sierra",
   "metadata": {},
   "outputs": [],
   "source": [
    "h_deno_mu_diff = h_deno_mu.Clone()\n",
    "h_nume_mu_diff = h_nume_mu.Clone()"
   ]
  },
  {
   "cell_type": "code",
   "execution_count": 82,
   "id": "gorgeous-camel",
   "metadata": {},
   "outputs": [
    {
     "name": "stdout",
     "output_type": "stream",
     "text": [
      "59.7 fb^{-1} (13 TeV)\n"
     ]
    },
    {
     "name": "stderr",
     "output_type": "stream",
     "text": [
      "Warning in <TCanvas::Constructor>: Deleting canvas with same name: c1\n",
      "Warning in <TH1D::Sumw2>: Sum of squares of weights structure already created\n"
     ]
    },
    {
     "data": {
      "image/png": "[encoded data removed]",
      "text/plain": [
       "<IPython.core.display.Image object>"
      ]
     },
     "metadata": {},
     "output_type": "display_data"
    }
   ],
   "source": [
    "TH1D_data_deno = h_deno_mu_1075.ProjectionX(\"TH1D_data_deno\",1,8)\n",
    "TH1D_data = h_nume_mu_1075.ProjectionX(\"TH1D_data\",1,8)\n",
    "TH1D_data.Divide(TH1D_data_deno)\n",
    "\n",
    "TH1D_QCD_deno = h_deno_mu_valid.ProjectionX(\"TH1D_QCD_deno\",1,8)\n",
    "TH1D_QCD = h_nume_mu_valid.ProjectionX(\"TH1D_QCD\",1,8)\n",
    "TH1D_QCD.Divide(TH1D_QCD_deno)\n",
    "\n",
    "c1 = ROOT.TCanvas(\"c1\",\"\",1000,800)\n",
    "TH1D_data.SetStats(0)\n",
    "TH1D_data.SetMarkerStyle(20)\n",
    "TH1D_data.SetMarkerColor(1)\n",
    "TH1D_data.SetLineColor(1)\n",
    "TH1D_data.GetXaxis().SetTitle(\"|#eta|\")\n",
    "TH1D_data.GetYaxis().SetTitle(\"Muon Fake Rate\")\n",
    "\n",
    "TH1D_QCD.SetStats(0)\n",
    "TH1D_QCD.SetMarkerStyle(20)\n",
    "TH1D_QCD.SetMarkerColor(2)\n",
    "TH1D_QCD.SetLineColor(2)\n",
    "\n",
    "h1 = TH1D_data.Clone(\"h1\")\n",
    "h2 = TH1D_QCD.Clone(\"h2\")\n",
    "h3 = createRatio(h1, h2)\n",
    "\n",
    "c1.Draw()\n",
    "pad1 = ROOT.TPad(\"pad1\", \"pad1\", 0, 0.3, 1, 1.0)\n",
    "pad1.SetBottomMargin(0.015)  # joins upper and lower plot\n",
    "# pad1.SetGridx()\n",
    "pad1.Draw()\n",
    "# Lower ratio plot is pad2\n",
    "c1.cd()  # returns to main canvas before defining pad2\n",
    "pad2 = ROOT.TPad(\"pad2\", \"pad2\", 0, 0.05, 1, 0.3)\n",
    "pad2.SetTopMargin(0)  # joins upper and lower plot\n",
    "pad2.SetBottomMargin(0.3)\n",
    "pad2.SetGridy()\n",
    "pad2.Draw()\n",
    "\n",
    "h1.SetMaximum(1)\n",
    "h1.SetMinimum(0)\n",
    "# CMS_lumi(c1, 0, 0)\n",
    "\n",
    "\n",
    "# Upper histogram plot is pad1\n",
    "legend = ROOT.TLegend(0.65, 0.60, 0.90, 0.7)\n",
    "legend.SetBorderSize(0)\n",
    "legend.SetFillColor(0)\n",
    "legend.SetTextSize(0.035)\n",
    "legend.SetLineWidth(1)\n",
    "legend.SetLineStyle(2)\n",
    "legend.AddEntry(h1,'data')\n",
    "legend.AddEntry(h2,'QCD')\n",
    "\n",
    "# draw everything\n",
    "pad1.cd()\n",
    "h1.Draw(\"ep\")\n",
    "h2.Draw(\"ep same\")\n",
    "legend.Draw(\"same\")\n",
    "# to avoid clipping the bottom zero, redraw a small axis\n",
    "h1.GetXaxis().SetLabelSize(0)\n",
    "# axis = TGaxis(-5, 20, -5, 220, 20, 220, 510, \"\")\n",
    "# axis.SetLabelFont(43)\n",
    "# axis.SetLabelSize(15)\n",
    "# axis.Draw()\n",
    "pad2.cd()\n",
    "h3.Draw(\"ep\")\n",
    "\n",
    "CMS_lumi(pad1, 0, 0)\n",
    "\n",
    "# c1.SaveAs('Fake_Lepton/1d_FR_Muon_datavsQCD_pt_2018.pdf')\n",
    "# c1.SaveAs('Fake_Lepton/1d_FR_Muon_datavsQCD_pt_2018.png')"
   ]
  },
  {
   "cell_type": "markdown",
   "id": "commercial-boutique",
   "metadata": {},
   "source": [
    "### <span id=\"Apply-Weight\">Apply weight</span>"
   ]
  },
  {
   "cell_type": "markdown",
   "id": "engaged-holder",
   "metadata": {},
   "source": [
    "Has been abandoned, moved to NanoAOD-tools to interface with coffea framework"
   ]
  },
  {
   "cell_type": "raw",
   "id": "supreme-oliver",
   "metadata": {
    "tags": []
   },
   "source": [
    "def ApplyWeightDATA(file, fake_rate_mu, branch, nbins, xlow, xup, channel):\n",
    "    \n",
    "    branches = uproot.open(file+':Events').arrays(['channel_mark','MET','dilepton_mass','z_lepton1_pt','z_lepton1_eta','z_lepton1_type','z_lepton2_pt','z_lepton2_eta','z_lepton2_type','w_lepton_pt','w_lepton_eta','w_lepton_type','HLT_IsoMu24'], library='pd')\n",
    "    # type 1: tight, type 0: loose but not tight\n",
    "    \n",
    "    HLT_cut = branches.loc[:,'HLT_IsoMu24'] == True\n",
    "    channel_cut = branches.loc[:,'channel_mark'] == channel \n",
    "    \n",
    "    branches = branches.loc[HLT_cut & channel_cut, :]\n",
    "    \n",
    "    overflow_Y = fake_rate_mu.GetYaxis().GetBinUpEdge(fake_rate_mu.GetNbinsY())\n",
    "    overflow_X = fake_rate_mu.GetXaxis().GetBinUpEdge(fake_rate_mu.GetNbinsX())\n",
    "    \n",
    "    h_temp = ROOT.TH1D(\"\", \"\", nbins, xlow, xup)\n",
    "#             h_temp.SetFillColor(color)\n",
    "    h_temp.SetLineColor(1)\n",
    "    h_temp.SetLineWidth(1)\n",
    "    h_temp.SetStats(0)\n",
    "    h_temp.GetXaxis().SetTitle(branch)\n",
    "    h_temp.GetYaxis().SetTitle(f'events/bin')\n",
    "    h_temp.Sumw2()\n",
    "        \n",
    "    for i in trange(0, len(branches['z_lepton1_pt']), desc=f'Apply weight for {file}'):\n",
    "        weight = [1,1,1]\n",
    "        \n",
    "        if branches['z_lepton1_type'].values[i] == 0:\n",
    "            BinX = fake_rate_mu.GetXaxis().FindBin(abs(branches['z_lepton1_eta'].values[i]))\n",
    "            BinY = fake_rate_mu.GetYaxis().FindBin(abs(branches['z_lepton1_pt'].values[i]))\n",
    "            # handle overflow\n",
    "            if BinX > fake_rate_mu.GetNbinsX():\n",
    "                BinX = fake_rate_mu.GetNbinsX()\n",
    "            if BinY > fake_rate_mu.GetNbinsY():\n",
    "                BinY = fake_rate_mu.GetNbinsY()\n",
    "            weight[0] = fake_rate_mu.GetBinContent(BinX, BinY) \n",
    "    \n",
    "        if branches['z_lepton2_type'].values[i] == 0:\n",
    "            BinX = fake_rate_mu.GetXaxis().FindBin(abs(branches['z_lepton2_eta'].values[i]))\n",
    "            BinY = fake_rate_mu.GetYaxis().FindBin(abs(branches['z_lepton2_pt'].values[i]))\n",
    "            # handle overflow\n",
    "            if BinX > fake_rate_mu.GetNbinsX():\n",
    "                BinX = fake_rate_mu.GetNbinsX()\n",
    "            if BinY > fake_rate_mu.GetNbinsY():\n",
    "                BinY = fake_rate_mu.GetNbinsY()\n",
    "            weight[1] = fake_rate_mu.GetBinContent(BinX, BinY) \n",
    "    \n",
    "        if branches['w_lepton_type'].values[i] == 0:\n",
    "            BinX = fake_rate_mu.GetXaxis().FindBin(abs(branches['w_lepton_eta'].values[i]))\n",
    "            BinY = fake_rate_mu.GetYaxis().FindBin(abs(branches['z_lepton1_pt'].values[i]))\n",
    "            # handle overflow\n",
    "            if BinX > fake_rate_mu.GetNbinsX():\n",
    "                BinX = fake_rate_mu.GetNbinsX()\n",
    "            if BinY > fake_rate_mu.GetNbinsY():\n",
    "                BinY = fake_rate_mu.GetNbinsY()\n",
    "            weight[2] = fake_rate_mu.GetBinContent(BinX, BinY) \n",
    "        \n",
    "        final_weight = 1\n",
    "        for j in range(3):\n",
    "            final_weight = final_weight*weight[j]\n",
    "        \n",
    "        if branches['z_lepton1_type'].values[i] + branches['z_lepton2_type'].values[i] + branches['w_lepton_type'].values[i] == 1:\n",
    "            final_weight = -final_weight\n",
    "            h_temp.Fill(branches[branch].values[i], final_weight)\n",
    "    \n",
    "    return h_temp"
   ]
  },
  {
   "cell_type": "raw",
   "id": "handed-essence",
   "metadata": {},
   "source": [
    "def GetFakeLepton_MC(file, lumi, xsec, branch, channel):\n",
    "    \n",
    "    print('is MC')\n",
    "    branches = uproot.open(file+':Events').arrays(['Generator_weight','channel_mark','MET','dilepton_mass','z_lepton1_pt','z_lepton1_eta','z_lepton1_genPartFlav','z_lepton2_pt','z_lepton2_eta','z_lepton2_genPartFlav','w_lepton_pt','w_lepton_eta','w_lepton_genPartFlav','HLT_IsoMu24'], library='pd')\n",
    "    true_events = uproot.open(file)['nEventsGenWeighted'].values()[0]\n",
    "    weight = (1000*xsec*lumi) / true_events\n",
    "        \n",
    "    HLT_cut = branches.loc[:,'HLT_IsoMu24'] == True\n",
    "    channel_cut = branches.loc[:,'channel_mark'] == 4\n",
    "    gen_cut1 = branches.loc[:,'z_lepton1_genPartFlav'] == False\n",
    "    gen_cut2 = branches.loc[:,'z_lepton2_genPartFlav'] == False\n",
    "    gen_cut3 = branches.loc[:,'w_lepton_genPartFlav'] == False\n",
    "    \n",
    "    \n",
    "    arrays_branch = branches.loc[HLT_cut & channel_cut & (gen_cut2 | gen_cut2 | gen_cut3),:]\n",
    "    \n",
    "    h_temp = ROOT.TH1D(\"\", \"\", nbins, xlow, xup)\n",
    "    \n",
    "    for i in trange(0, len(arrays_branch[branch]), desc=f'fill {branch} for {file}'):\n",
    "        h_temp.Fill(float(arrays_branch[branch].values[i]), weight*sgn(arrays_branch['Generator_weight'].values[i]))\n",
    "        \n",
    "    print(\"DONE\")\n",
    "    return h_temp\n",
    "    "
   ]
  },
  {
   "cell_type": "raw",
   "id": "unable-victim",
   "metadata": {},
   "source": [
    "AR_data = [\n",
    "            \"/eos/user/s/sdeng/WZG_analysis/fake_lepton_template/AR/SingleMuon_Run2018A.root\",\n",
    "            \"/eos/user/s/sdeng/WZG_analysis/fake_lepton_template/AR/SingleMuon_Run2018B.root\",\n",
    "            \"/eos/user/s/sdeng/WZG_analysis/fake_lepton_template/AR/SingleMuon_Run2018C.root\",\n",
    "            \"/eos/user/s/sdeng/WZG_analysis/fake_lepton_template/AR/SingleMuon_Run2018D.root\",\n",
    "]\n",
    "FakeLepton_MC = [\n",
    "            \"/eos/user/s/sdeng/WZG_analysis/final_skim/2018/TTGJets_TuneCP5_13TeV-amcatnloFXFX-madspin-pythia8_2018.root\",\n",
    "            \"/eos/user/s/sdeng/WZG_analysis/final_skim/2018/ZGToLLG_01J_5f_TuneCP5_13TeV-amcatnloFXFX-pythia8_2018.root\",\n",
    "]\n",
    "xsec_FakeLepton_MC =[\n",
    "    4.078,\n",
    "    55.48\n",
    "] \n",
    "color_list = [\n",
    "    3,\n",
    "    4\n",
    "]\n",
    "\n",
    "\n",
    "branch_list = [\n",
    "            \"dilepton_mass\",\n",
    "            \"MET\",\n",
    "#             \"photon_pt\",\n",
    "            \"z_lepton1_pt\",\n",
    "            \"z_lepton2_pt\",\n",
    "            \"w_lepton_pt\",\n",
    "#             \"z_lepton1_eta\",\n",
    "#             \"z_lepton2_eta\",\n",
    "#             \"w_lepton_eta\"\n",
    "]\n",
    "\n",
    "nbins = 20\n",
    "xlow = 0\n",
    "xup = 200\n",
    "\n",
    "# xlow = -2.5\n",
    "# xup = 2.5\n",
    "\n",
    "lumi = 59.6\n",
    "\n",
    "channel = 4\n",
    "\n",
    "hist_DATA = ROOT.TH1D(\"\", \"\", nbins, xlow, xup)\n",
    "hist_MC = ROOT.TH1D(\"\", \"\", nbins, xlow, xup)\n",
    "\n",
    "branch = 'dilepton_mass'\n",
    "\n",
    "for file in AR_data:\n",
    "    hist_DATA.Add(ApplyWeightDATA(file, fake_rate_mu, branch, nbins, xlow, xup, channel))\n",
    "for i in range(len(FakeLepton_MC)):\n",
    "    hist_MC.Add(GetFakeLepton_MC(FakeLepton_MC[i], lumi, xsec_FakeLepton_MC[i], branch, channel))"
   ]
  },
  {
   "cell_type": "raw",
   "id": "polyphonic-eagle",
   "metadata": {},
   "source": [
    "i = 0\n",
    "\n",
    "# ROOT.gROOT.SetStyle(\"tdrStyle\")\n",
    "\n",
    "h1 = hist_DATA.Clone(\"h1\")\n",
    "h2 = hist_MC.Clone(\"h2\")\n",
    "h1.GetYaxis().SetTitle(f'events/10 GeV')\n",
    "h1.GetXaxis().SetTitle('M_{ll} [GeV]')\n",
    "\n",
    "h3 = createRatio(h1, h2)\n",
    "\n",
    "c = TCanvas(\"c\", \"canvas\", 1000, 800)\n",
    "c.Draw()\n",
    "# Upper histogram plot is pad1\n",
    "pad1 = TPad(\"pad1\", \"pad1\", 0, 0.3, 1, 1.0)\n",
    "pad1.SetBottomMargin(0.015)  # joins upper and lower plot\n",
    "# pad1.SetGridx()\n",
    "pad1.Draw()\n",
    "# Lower ratio plot is pad2\n",
    "c.cd()  # returns to main canvas before defining pad2\n",
    "pad2 = TPad(\"pad2\", \"pad2\", 0, 0.05, 1, 0.3)\n",
    "pad2.SetTopMargin(0)  # joins upper and lower plot\n",
    "pad2.SetBottomMargin(0.2)\n",
    "pad2.SetGridy()\n",
    "pad2.Draw()\n",
    "\n",
    "legend = ROOT.TLegend(0.65, 0.60, 0.90, 0.7)\n",
    "legend.SetBorderSize(0)\n",
    "legend.SetFillColor(0)\n",
    "legend.SetTextSize(0.035)\n",
    "legend.SetLineWidth(1)\n",
    "legend.SetLineStyle(2)\n",
    "legend.AddEntry(h1,'data driven')\n",
    "legend.AddEntry(h2,'TTGJets + ZGToLLG_01J')\n",
    "\n",
    "# draw everything\n",
    "pad1.cd()\n",
    "h1.Draw(\"ep\")\n",
    "h2.Draw(\"HIST e same\")\n",
    "legend.Draw(\"same\")\n",
    "# to avoid clipping the bottom zero, redraw a small axis\n",
    "h1.GetXaxis().SetLabelSize(0)\n",
    "# axis = TGaxis(-5, 20, -5, 220, 20, 220, 510, \"\")\n",
    "# axis.SetLabelFont(43)\n",
    "# axis.SetLabelSize(15)\n",
    "# axis.Draw()\n",
    "pad2.cd()\n",
    "h3.Draw(\"ep\")\n",
    "\n",
    "CMS_lumi(pad1, 0, 0)"
   ]
  },
  {
   "cell_type": "raw",
   "id": "selected-hudson",
   "metadata": {},
   "source": [
    "BinX = fake_rate_mu.GetXaxis().FindBin(2.6)\n",
    "if BinX > fake_rate_mu.GetNbinsX():\n",
    "    BinX = fake_rate_mu.GetNbinsX()\n",
    "print (BinX)\n",
    "print (fake_rate_mu.GetBinContent(5,1))"
   ]
  },
  {
   "cell_type": "raw",
   "id": "computational-taylor",
   "metadata": {},
   "source": [
    "# print(fake_rate_mu.GetBinContent(1,6))\n",
    "# print(h_deno_mu.GetBinContent(1,6))\n",
    "# print(h_nume_mu.GetBinContent(1,6))\n",
    "# print(h_deno_mu.GetBinContent(1,5))\n",
    "# print(h_nume_mu.GetBinContent(1,5))\n",
    "\n",
    "# # print((h_nume_mu.GetBinContent(1,5)-h_nume_mu.GetBinContent(1,6))/(h_deno_mu.GetBinContent(1,5)-h_deno_mu.GetBinContent(1,6)))\n",
    "# print(h_nume_mu.GetBinContent(1,5)/h_deno_mu.GetBinContent(1,5))\n",
    "\n",
    "# # print(h_deno_mu.Integral(1,1,5,6))\n",
    "c1 = ROOT.TCanvas(\"\",\"\",1200,800)\n",
    "h_deno_mu.Draw(\"TEXT COLZe\")\n",
    "h_deno_mu.SetStats(0)\n",
    "h_deno_mu.SetXTitle(\"|#eta|\")\n",
    "h_deno_mu.SetYTitle(\"P_{T} [GeV]\")\n",
    "h_deno_mu.SetMarkerSize(1.3)\n",
    "c1.Draw()"
   ]
  },
  {
   "cell_type": "raw",
   "id": "alleged-jesus",
   "metadata": {},
   "source": [
    "c1 = ROOT.TCanvas(\"\",\"\",1200,800)\n",
    "h_nume_mu.Draw(\"TEXT COLZe\")\n",
    "h_nume_mu.SetStats(0)\n",
    "h_nume_mu.SetXTitle(\"|#eta|\")\n",
    "h_nume_mu.SetYTitle(\"P_{T} [GeV]\")\n",
    "h_nume_mu.SetMarkerSize(1.3)\n",
    "c1.Draw()"
   ]
  },
  {
   "cell_type": "raw",
   "id": "arbitrary-opportunity",
   "metadata": {},
   "source": [
    "# h_deno_mu.GetYaxis().GetBinUpEdge(h_deno_mu.GetNbinsY())\n",
    "# h_nume_mu.GetYaxis().GetBinCenter(h_deno_mu.GetNbinsY())"
   ]
  },
  {
   "cell_type": "markdown",
   "id": "broken-egyptian",
   "metadata": {
    "tags": []
   },
   "source": [
    "### <span id=\"Closure-Test\">Closure test</span>\n",
    "\n",
    "Noticed that the ApplyWeightMC and AddHist_FR modules need to be changed before running this part"
   ]
  },
  {
   "cell_type": "markdown",
   "id": "f53ea3a0-5e58-492c-8dec-14acbfa0849f",
   "metadata": {},
   "source": [
    "#### Muon"
   ]
  },
  {
   "cell_type": "code",
   "execution_count": 269,
   "id": "fitting-chain",
   "metadata": {},
   "outputs": [
    {
     "name": "stdout",
     "output_type": "stream",
     "text": [
      "test 0\n",
      "is MC\n"
     ]
    },
    {
     "name": "stderr",
     "output_type": "stream",
     "text": [
      "fill pt < 25 GeV for /eos/user/s/sdeng/WZG_analysis/fake_lepton_template/2018/QCD_Pt-15to20_MuEnrichedPt5_TuneCP5_13TeV_pythia8_2018_0000.root: 100%|██████████| 328/328 [00:00<00:00, 28498.99it/s]\n",
      "fill pt > 25 GeV for /eos/user/s/sdeng/WZG_analysis/fake_lepton_template/2018/QCD_Pt-15to20_MuEnrichedPt5_TuneCP5_13TeV_pythia8_2018_0000.root: 100%|██████████| 1/1 [00:00<00:00, 2263.52it/s]\n"
     ]
    },
    {
     "name": "stdout",
     "output_type": "stream",
     "text": [
      "normalized deno :2017.5791385336047\n",
      "normalized nume :1104.2289711075734\n",
      "test 1\n",
      "is MC\n"
     ]
    },
    {
     "name": "stderr",
     "output_type": "stream",
     "text": [
      "fill pt < 25 GeV for /eos/user/s/sdeng/WZG_analysis/fake_lepton_template/2018/QCD_Pt-20to30_MuEnrichedPt5_TuneCP5_13TeV_pythia8_2018_0000.root: 100%|██████████| 15639/15639 [00:00<00:00, 31738.62it/s]\n",
      "fill pt > 25 GeV for /eos/user/s/sdeng/WZG_analysis/fake_lepton_template/2018/QCD_Pt-20to30_MuEnrichedPt5_TuneCP5_13TeV_pythia8_2018_0000.root: 100%|██████████| 84/84 [00:00<00:00, 20312.57it/s]\n"
     ]
    },
    {
     "name": "stdout",
     "output_type": "stream",
     "text": [
      "normalized deno :14692.231310518464\n",
      "normalized nume :6494.468780496549\n",
      "test 2\n",
      "is MC\n"
     ]
    },
    {
     "name": "stderr",
     "output_type": "stream",
     "text": [
      "fill pt < 25 GeV for /eos/user/s/sdeng/WZG_analysis/fake_lepton_template/2018/QCD_Pt-30to50_MuEnrichedPt5_TuneCP5_13TeV_pythia8_2018_0000.root: 100%|██████████| 75330/75330 [00:02<00:00, 31860.44it/s]\n",
      "fill pt > 25 GeV for /eos/user/s/sdeng/WZG_analysis/fake_lepton_template/2018/QCD_Pt-30to50_MuEnrichedPt5_TuneCP5_13TeV_pythia8_2018_0000.root: 100%|██████████| 4273/4273 [00:00<00:00, 23185.96it/s]\n"
     ]
    },
    {
     "name": "stdout",
     "output_type": "stream",
     "text": [
      "normalized deno :53998.708987603044\n",
      "normalized nume :20615.15940409874\n",
      "test 3\n",
      "is MC\n"
     ]
    },
    {
     "name": "stderr",
     "output_type": "stream",
     "text": [
      "fill pt < 25 GeV for /eos/user/s/sdeng/WZG_analysis/fake_lepton_template/2018/QCD_Pt-50to80_MuEnrichedPt5_TuneCP5_13TeV_pythia8_2018_0000.root: 100%|██████████| 59791/59791 [00:01<00:00, 32708.68it/s]\n",
      "fill pt > 25 GeV for /eos/user/s/sdeng/WZG_analysis/fake_lepton_template/2018/QCD_Pt-50to80_MuEnrichedPt5_TuneCP5_13TeV_pythia8_2018_0000.root: 100%|██████████| 15206/15206 [00:00<00:00, 23859.09it/s]\n"
     ]
    },
    {
     "name": "stdout",
     "output_type": "stream",
     "text": [
      "normalized deno :76623.73923544942\n",
      "normalized nume :27787.139484898133\n",
      "test 4\n",
      "is MC\n"
     ]
    },
    {
     "name": "stderr",
     "output_type": "stream",
     "text": [
      "fill pt < 25 GeV for /eos/user/s/sdeng/WZG_analysis/fake_lepton_template/2018/QCD_Pt-80to120_MuEnrichedPt5_TuneCP5_13TeV_pythia8_2018_0000.root: 100%|██████████| 44757/44757 [00:01<00:00, 31289.86it/s]\n",
      "fill pt > 25 GeV for /eos/user/s/sdeng/WZG_analysis/fake_lepton_template/2018/QCD_Pt-80to120_MuEnrichedPt5_TuneCP5_13TeV_pythia8_2018_0000.root: 100%|██████████| 19163/19163 [00:00<00:00, 21681.09it/s]\n"
     ]
    },
    {
     "name": "stdout",
     "output_type": "stream",
     "text": [
      "normalized deno :81020.03666462963\n",
      "normalized nume :29092.48005768404\n",
      "test 5\n",
      "is MC\n"
     ]
    },
    {
     "name": "stderr",
     "output_type": "stream",
     "text": [
      "fill pt < 25 GeV for /eos/user/s/sdeng/WZG_analysis/fake_lepton_template/2018/QCD_Pt-120to170_MuEnrichedPt5_TuneCP5_13TeV_pythia8_2018_0000.root: 100%|██████████| 22680/22680 [00:00<00:00, 32677.21it/s]\n",
      "fill pt > 25 GeV for /eos/user/s/sdeng/WZG_analysis/fake_lepton_template/2018/QCD_Pt-120to170_MuEnrichedPt5_TuneCP5_13TeV_pythia8_2018_0000.root: 100%|██████████| 10233/10233 [00:00<00:00, 25249.62it/s]\n"
     ]
    },
    {
     "name": "stdout",
     "output_type": "stream",
     "text": [
      "normalized deno :81685.23095564236\n",
      "normalized nume :29290.669705557815\n",
      "test 6\n",
      "is MC\n"
     ]
    },
    {
     "name": "stderr",
     "output_type": "stream",
     "text": [
      "fill pt < 25 GeV for /eos/user/s/sdeng/WZG_analysis/fake_lepton_template/2018/QCD_Pt-170to300_MuEnrichedPt5_TuneCP5_13TeV_pythia8_2018_0000.root: 100%|██████████| 25867/25867 [00:00<00:00, 27915.06it/s]\n",
      "fill pt > 25 GeV for /eos/user/s/sdeng/WZG_analysis/fake_lepton_template/2018/QCD_Pt-170to300_MuEnrichedPt5_TuneCP5_13TeV_pythia8_2018_0000.root: 100%|██████████| 10215/10215 [00:00<00:00, 25613.09it/s]\n"
     ]
    },
    {
     "name": "stdout",
     "output_type": "stream",
     "text": [
      "normalized deno :81817.34476964235\n",
      "normalized nume :29329.592690849266\n",
      "test 7\n",
      "is MC\n"
     ]
    },
    {
     "name": "stderr",
     "output_type": "stream",
     "text": [
      "fill pt < 25 GeV for /eos/user/s/sdeng/WZG_analysis/fake_lepton_template/2018/QCD_Pt-300to470_MuEnrichedPt5_TuneCP5_13TeV_pythia8_2018_0000.root: 100%|██████████| 13211/13211 [00:00<00:00, 32315.04it/s]\n",
      "fill pt > 25 GeV for /eos/user/s/sdeng/WZG_analysis/fake_lepton_template/2018/QCD_Pt-300to470_MuEnrichedPt5_TuneCP5_13TeV_pythia8_2018_0000.root: 100%|██████████| 4571/4571 [00:00<00:00, 25417.60it/s]\n"
     ]
    },
    {
     "name": "stdout",
     "output_type": "stream",
     "text": [
      "normalized deno :81823.41801314932\n",
      "normalized nume :29331.3737962733\n",
      "test 8\n",
      "is MC\n"
     ]
    },
    {
     "name": "stderr",
     "output_type": "stream",
     "text": [
      "fill pt < 25 GeV for /eos/user/s/sdeng/WZG_analysis/fake_lepton_template/2018/QCD_Pt-470to600_MuEnrichedPt5_TuneCP5_13TeV_pythia8_2018_0000.root: 100%|██████████| 5587/5587 [00:00<00:00, 32895.05it/s]\n",
      "fill pt > 25 GeV for /eos/user/s/sdeng/WZG_analysis/fake_lepton_template/2018/QCD_Pt-470to600_MuEnrichedPt5_TuneCP5_13TeV_pythia8_2018_0000.root: 100%|██████████| 1682/1682 [00:00<00:00, 25380.33it/s]\n"
     ]
    },
    {
     "name": "stdout",
     "output_type": "stream",
     "text": [
      "normalized deno :81823.77529539129\n",
      "normalized nume :29331.48401021875\n",
      "test 9\n",
      "is MC\n"
     ]
    },
    {
     "name": "stderr",
     "output_type": "stream",
     "text": [
      "fill pt < 25 GeV for /eos/user/s/sdeng/WZG_analysis/fake_lepton_template/2018/QCD_Pt-600to800_MuEnrichedPt5_TuneCP5_13TeV_pythia8_2018_0000.root: 100%|██████████| 3410/3410 [00:00<00:00, 32162.96it/s]\n",
      "fill pt > 25 GeV for /eos/user/s/sdeng/WZG_analysis/fake_lepton_template/2018/QCD_Pt-600to800_MuEnrichedPt5_TuneCP5_13TeV_pythia8_2018_0000.root: 100%|██████████| 1037/1037 [00:00<00:00, 24761.15it/s]\n"
     ]
    },
    {
     "name": "stdout",
     "output_type": "stream",
     "text": [
      "normalized deno :81823.85695824317\n",
      "normalized nume :29331.509510792435\n",
      "test 10\n",
      "is MC\n"
     ]
    },
    {
     "name": "stderr",
     "output_type": "stream",
     "text": [
      "fill pt < 25 GeV for /eos/user/s/sdeng/WZG_analysis/fake_lepton_template/2018/QCD_Pt-800to1000_MuEnrichedPt5_TuneCP5_13TeV_pythia8_2018_0000.root: 100%|██████████| 2561/2561 [00:00<00:00, 32516.05it/s]\n",
      "fill pt > 25 GeV for /eos/user/s/sdeng/WZG_analysis/fake_lepton_template/2018/QCD_Pt-800to1000_MuEnrichedPt5_TuneCP5_13TeV_pythia8_2018_0000.root: 100%|██████████| 757/757 [00:00<00:00, 23494.28it/s]\n"
     ]
    },
    {
     "name": "stdout",
     "output_type": "stream",
     "text": [
      "normalized deno :81823.8683278807\n",
      "normalized nume :29331.513457169327\n",
      "test 11\n",
      "is MC\n"
     ]
    },
    {
     "name": "stderr",
     "output_type": "stream",
     "text": [
      "fill pt < 25 GeV for /eos/user/s/sdeng/WZG_analysis/fake_lepton_template/2018/QCD_Pt-1000toInf_MuEnrichedPt5_TuneCP5_13TeV_pythia8_2018_0000.root: 100%|██████████| 1671/1671 [00:00<00:00, 30988.42it/s]\n",
      "fill pt > 25 GeV for /eos/user/s/sdeng/WZG_analysis/fake_lepton_template/2018/QCD_Pt-1000toInf_MuEnrichedPt5_TuneCP5_13TeV_pythia8_2018_0000.root: 100%|██████████| 416/416 [00:00<00:00, 21901.82it/s]"
     ]
    },
    {
     "name": "stdout",
     "output_type": "stream",
     "text": [
      "normalized deno :81823.87088030319\n",
      "normalized nume :29331.514298463313\n"
     ]
    },
    {
     "name": "stderr",
     "output_type": "stream",
     "text": [
      "\n"
     ]
    }
   ],
   "source": [
    "from array import array\n",
    "h_deno_mu_valid = ROOT.TH2D(\"\",\"\", 5, array('d',xbins), 8, array('d',ybins))\n",
    "h_deno_mu_valid.Sumw2()\n",
    "h_nume_mu_valid = ROOT.TH2D(\"\",\"\", 5, array('d',xbins), 8, array('d',ybins))\n",
    "h_nume_mu_valid.Sumw2()\n",
    "\n",
    "file_list_QCD = [\n",
    "    \"/eos/user/s/sdeng/WZG_analysis/fake_lepton_template/2018/QCD_Pt-15to20_MuEnrichedPt5_TuneCP5_13TeV_pythia8_2018_0000.root\",\n",
    "    \"/eos/user/s/sdeng/WZG_analysis/fake_lepton_template/2018/QCD_Pt-20to30_MuEnrichedPt5_TuneCP5_13TeV_pythia8_2018_0000.root\",\n",
    "    \"/eos/user/s/sdeng/WZG_analysis/fake_lepton_template/2018/QCD_Pt-30to50_MuEnrichedPt5_TuneCP5_13TeV_pythia8_2018_0000.root\",\n",
    "    \"/eos/user/s/sdeng/WZG_analysis/fake_lepton_template/2018/QCD_Pt-50to80_MuEnrichedPt5_TuneCP5_13TeV_pythia8_2018_0000.root\",\n",
    "    \"/eos/user/s/sdeng/WZG_analysis/fake_lepton_template/2018/QCD_Pt-80to120_MuEnrichedPt5_TuneCP5_13TeV_pythia8_2018_0000.root\",\n",
    "    \"/eos/user/s/sdeng/WZG_analysis/fake_lepton_template/2018/QCD_Pt-120to170_MuEnrichedPt5_TuneCP5_13TeV_pythia8_2018_0000.root\",\n",
    "    \"/eos/user/s/sdeng/WZG_analysis/fake_lepton_template/2018/QCD_Pt-170to300_MuEnrichedPt5_TuneCP5_13TeV_pythia8_2018_0000.root\",\n",
    "    \"/eos/user/s/sdeng/WZG_analysis/fake_lepton_template/2018/QCD_Pt-300to470_MuEnrichedPt5_TuneCP5_13TeV_pythia8_2018_0000.root\",\n",
    "    \"/eos/user/s/sdeng/WZG_analysis/fake_lepton_template/2018/QCD_Pt-470to600_MuEnrichedPt5_TuneCP5_13TeV_pythia8_2018_0000.root\",\n",
    "    \"/eos/user/s/sdeng/WZG_analysis/fake_lepton_template/2018/QCD_Pt-600to800_MuEnrichedPt5_TuneCP5_13TeV_pythia8_2018_0000.root\",\n",
    "    \"/eos/user/s/sdeng/WZG_analysis/fake_lepton_template/2018/QCD_Pt-800to1000_MuEnrichedPt5_TuneCP5_13TeV_pythia8_2018_0000.root\",\n",
    "    \"/eos/user/s/sdeng/WZG_analysis/fake_lepton_template/2018/QCD_Pt-1000toInf_MuEnrichedPt5_TuneCP5_13TeV_pythia8_2018_0000.root\"\n",
    "]\n",
    "\n",
    "xsec_list_QCD = [\n",
    "    2799000,\n",
    "    2526000,\n",
    "    1362000,\n",
    "    376600,\n",
    "    88930,\n",
    "    21230,\n",
    "    7055,\n",
    "    619.3,\n",
    "    59.24,\n",
    "    18.21,\n",
    "    3.275,\n",
    "    1.078\n",
    "]\n",
    "\n",
    "lumi_Mu8 = 0.00856 # HLT_Mu8_TrkIsoVVL 2018 lumi\n",
    "lumi_Mu17 = 0.04578 # HLT_Mu17_TrkIsoVVL 2018 lumi\n",
    "\n",
    "for i in range(0,len(file_list_QCD)):\n",
    "    print (\"test\",i)\n",
    "    AddHist_FR_Mu(file_list_QCD[i], h_nume_mu_valid, h_deno_mu_valid, 1, 0, lumi_Mu8, lumi_Mu17, xsec_list_QCD[i])\n",
    "#     AddMC(file_list_QCD[i], h_nume_mu_valid, h_deno_mu_valid, 59.783, xseclist_QCD[i], 1)\n"
   ]
  },
  {
   "cell_type": "code",
   "execution_count": 277,
   "id": "satisfied-dependence",
   "metadata": {},
   "outputs": [
    {
     "name": "stdout",
     "output_type": "stream",
     "text": [
      "59.7 fb^{-1} (13 TeV)\n"
     ]
    },
    {
     "name": "stderr",
     "output_type": "stream",
     "text": [
      "Warning in <TCanvas::Constructor>: Deleting canvas with same name: c1\n",
      "Info in <TCanvas::Print>: pdf file Fake_Lepton/2018/FR_Muon_QCD_2018.pdf has been created\n",
      "Info in <TCanvas::Print>: png file Fake_Lepton/2018/FR_Muon_QCD_2018.png has been created\n"
     ]
    },
    {
     "data": {
      "image/png": "[encoded data removed]",
      "text/plain": [
       "<IPython.core.display.Image object>"
      ]
     },
     "metadata": {},
     "output_type": "display_data"
    }
   ],
   "source": [
    "# default = ROOT.TStyle(\"Default\",\"Default Style\")\n",
    "# ROOT.gROOT.SetStyle('Default')\n",
    "\n",
    "fake_rate_mu_valid = h_nume_mu_valid.Clone(\"fake_rate_mu_valid\")\n",
    "fake_rate_mu_valid.Divide(h_deno_mu_valid)\n",
    "\n",
    "fake_rate_mu_valid.SetDirectory(0)\n",
    "c1 = ROOT.TCanvas(\"c1\",\"\",1200,800)\n",
    "fake_rate_mu_valid.SetStats(0)\n",
    "fake_rate_mu_valid.SetXTitle(\"|#eta|\")\n",
    "fake_rate_mu_valid.SetYTitle(\"P_{T} [GeV]\")\n",
    "fake_rate_mu_valid.SetMarkerSize(1.3)\n",
    "fake_rate_mu_valid.Draw(\"TEXT COLZe\")\n",
    "ROOT.gStyle.SetPaintTextFormat('4.2f')\n",
    "c1.Draw()\n",
    "CMS_lumi(c1, 0, 0)\n",
    "c1.SaveAs('Fake_Lepton/2018/FR_Muon_QCD_2018.pdf')\n",
    "c1.SaveAs('Fake_Lepton/2018/FR_Muon_QCD_2018.png')"
   ]
  },
  {
   "cell_type": "code",
   "execution_count": 278,
   "id": "2cf330a4-7d34-40ab-b8f4-2d932f5b352a",
   "metadata": {},
   "outputs": [],
   "source": [
    "f = ROOT.TFile(\"Fake_Lepton/Mu_Fake_Rate_2D_2018_Closure.root\",\"RECREATE\")\n",
    "f.cd()\n",
    "fake_rate_mu.Write()\n",
    "f.Close()"
   ]
  },
  {
   "cell_type": "markdown",
   "id": "1d698f0f-9135-49d0-ab9b-277c9b3d3757",
   "metadata": {},
   "source": [
    "#### Electron"
   ]
  },
  {
   "cell_type": "code",
   "execution_count": 273,
   "id": "92b202d7-1555-45c0-b0ef-b05482091edf",
   "metadata": {},
   "outputs": [
    {
     "name": "stdout",
     "output_type": "stream",
     "text": [
      "test 0\n",
      "is MC\n"
     ]
    },
    {
     "name": "stderr",
     "output_type": "stream",
     "text": [
      "fill pt < 25 GeV for /eos/user/s/sdeng/WZG_analysis/fake_lepton_template/2018/QCD_Pt-15to20_EMEnriched_TuneCP5_13TeV_pythia8_2018_0000.root: 100%|██████████| 130/130 [00:00<00:00, 28342.84it/s]\n",
      "fill pt > 25 GeV for /eos/user/s/sdeng/WZG_analysis/fake_lepton_template/2018/QCD_Pt-15to20_EMEnriched_TuneCP5_13TeV_pythia8_2018_0000.root: 100%|██████████| 5/5 [00:00<00:00, 8305.55it/s]\n"
     ]
    },
    {
     "name": "stdout",
     "output_type": "stream",
     "text": [
      "normalized deno :95.9135022767518\n",
      "normalized nume :48.53390248495538\n",
      "test 1\n",
      "is MC\n"
     ]
    },
    {
     "name": "stderr",
     "output_type": "stream",
     "text": [
      "fill pt < 25 GeV for /eos/user/s/sdeng/WZG_analysis/fake_lepton_template/2018/QCD_Pt-20to30_EMEnriched_TuneCP5_13TeV_pythia8_2018_0000.root: 100%|██████████| 640/640 [00:00<00:00, 30435.89it/s]\n",
      "fill pt > 25 GeV for /eos/user/s/sdeng/WZG_analysis/fake_lepton_template/2018/QCD_Pt-20to30_EMEnriched_TuneCP5_13TeV_pythia8_2018_0000.root: 100%|██████████| 57/57 [00:00<00:00, 17837.45it/s]\n"
     ]
    },
    {
     "name": "stdout",
     "output_type": "stream",
     "text": [
      "normalized deno :2268.4716492388766\n",
      "normalized nume :1018.2646793713723\n",
      "test 2\n",
      "is MC\n"
     ]
    },
    {
     "name": "stderr",
     "output_type": "stream",
     "text": [
      "fill pt < 25 GeV for /eos/user/s/sdeng/WZG_analysis/fake_lepton_template/2018/QCD_Pt-30to50_EMEnriched_TuneCP5_13TeV_pythia8_2018_0000.root: 100%|██████████| 1496/1496 [00:00<00:00, 32128.41it/s]\n",
      "fill pt > 25 GeV for /eos/user/s/sdeng/WZG_analysis/fake_lepton_template/2018/QCD_Pt-30to50_EMEnriched_TuneCP5_13TeV_pythia8_2018_0000.root: 100%|██████████| 692/692 [00:00<00:00, 22457.90it/s]\n"
     ]
    },
    {
     "name": "stdout",
     "output_type": "stream",
     "text": [
      "normalized deno :18534.244154933975\n",
      "normalized nume :6725.843369725362\n",
      "test 3\n",
      "is MC\n"
     ]
    },
    {
     "name": "stderr",
     "output_type": "stream",
     "text": [
      "fill pt < 25 GeV for /eos/user/s/sdeng/WZG_analysis/fake_lepton_template/2018/QCD_Pt-50to80_EMEnriched_TuneCP5_13TeV_pythia8_2018_0000.root: 100%|██████████| 949/949 [00:00<00:00, 31881.92it/s]\n",
      "fill pt > 25 GeV for /eos/user/s/sdeng/WZG_analysis/fake_lepton_template/2018/QCD_Pt-50to80_EMEnriched_TuneCP5_13TeV_pythia8_2018_0000.root: 100%|██████████| 1367/1367 [00:00<00:00, 23419.33it/s]\n"
     ]
    },
    {
     "name": "stdout",
     "output_type": "stream",
     "text": [
      "normalized deno :29641.029537262286\n",
      "normalized nume :10184.761549526382\n",
      "test 4\n",
      "is MC\n"
     ]
    },
    {
     "name": "stderr",
     "output_type": "stream",
     "text": [
      "fill pt < 25 GeV for /eos/user/s/sdeng/WZG_analysis/fake_lepton_template/2018/QCD_Pt-80to120_EMEnriched_TuneCP5_13TeV_pythia8_2018_0000.root: 100%|██████████| 530/530 [00:00<00:00, 32062.84it/s]\n",
      "fill pt > 25 GeV for /eos/user/s/sdeng/WZG_analysis/fake_lepton_template/2018/QCD_Pt-80to120_EMEnriched_TuneCP5_13TeV_pythia8_2018_0000.root: 100%|██████████| 1192/1192 [00:00<00:00, 25175.92it/s]\n"
     ]
    },
    {
     "name": "stdout",
     "output_type": "stream",
     "text": [
      "normalized deno :31823.965368531404\n",
      "normalized nume :10822.081001298955\n",
      "test 5\n",
      "is MC\n"
     ]
    },
    {
     "name": "stderr",
     "output_type": "stream",
     "text": [
      "fill pt < 25 GeV for /eos/user/s/sdeng/WZG_analysis/fake_lepton_template/2018/QCD_Pt-120to170_EMEnriched_TuneCP5_13TeV_pythia8_2018_0000.root: 100%|██████████| 615/615 [00:00<00:00, 32058.57it/s]\n",
      "fill pt > 25 GeV for /eos/user/s/sdeng/WZG_analysis/fake_lepton_template/2018/QCD_Pt-120to170_EMEnriched_TuneCP5_13TeV_pythia8_2018_0000.root: 100%|██████████| 1422/1422 [00:00<00:00, 25131.68it/s]\n"
     ]
    },
    {
     "name": "stdout",
     "output_type": "stream",
     "text": [
      "normalized deno :32230.489820642393\n",
      "normalized nume :10955.579923417841\n",
      "test 6\n",
      "is MC\n"
     ]
    },
    {
     "name": "stderr",
     "output_type": "stream",
     "text": [
      "fill pt < 25 GeV for /eos/user/s/sdeng/WZG_analysis/fake_lepton_template/2018/QCD_Pt-170to300_EMEnriched_TuneCP5_13TeV_pythia8_2018_0000.root: 100%|██████████| 188/188 [00:00<00:00, 28001.75it/s]\n",
      "fill pt > 25 GeV for /eos/user/s/sdeng/WZG_analysis/fake_lepton_template/2018/QCD_Pt-170to300_EMEnriched_TuneCP5_13TeV_pythia8_2018_0000.root: 100%|██████████| 506/506 [00:00<00:00, 21111.29it/s]\n"
     ]
    },
    {
     "name": "stdout",
     "output_type": "stream",
     "text": [
      "normalized deno :32323.646073511856\n",
      "normalized nume :10985.681014831625\n",
      "test 7\n",
      "is MC\n"
     ]
    },
    {
     "name": "stderr",
     "output_type": "stream",
     "text": [
      "fill pt < 25 GeV for /eos/user/s/sdeng/WZG_analysis/fake_lepton_template/2018/QCD_Pt-300toInf_EMEnriched_TuneCP5_13TeV_pythia8_2018_0000.root: 100%|██████████| 110/110 [00:00<00:00, 25658.94it/s]\n",
      "fill pt > 25 GeV for /eos/user/s/sdeng/WZG_analysis/fake_lepton_template/2018/QCD_Pt-300toInf_EMEnriched_TuneCP5_13TeV_pythia8_2018_0000.root: 100%|██████████| 338/338 [00:00<00:00, 22582.71it/s]"
     ]
    },
    {
     "name": "stdout",
     "output_type": "stream",
     "text": [
      "normalized deno :32329.120095192215\n",
      "normalized nume :10987.939518681611\n"
     ]
    },
    {
     "name": "stderr",
     "output_type": "stream",
     "text": [
      "\n"
     ]
    }
   ],
   "source": [
    "from array import array\n",
    "h_deno_e_valid = ROOT.TH2D(\"\",\"\", 5, array('d',xbins), 8, array('d',ybins))\n",
    "h_deno_e_valid.Sumw2()\n",
    "h_nume_e_valid = ROOT.TH2D(\"\",\"\", 5, array('d',xbins), 8, array('d',ybins))\n",
    "h_nume_e_valid.Sumw2()\n",
    "\n",
    "\n",
    "file_list_QCD = [\n",
    "   \"/eos/user/s/sdeng/WZG_analysis/fake_lepton_template/2018/QCD_Pt-15to20_EMEnriched_TuneCP5_13TeV_pythia8_2018_0000.root\",\n",
    "   \"/eos/user/s/sdeng/WZG_analysis/fake_lepton_template/2018/QCD_Pt-20to30_EMEnriched_TuneCP5_13TeV_pythia8_2018_0000.root\",\n",
    "   \"/eos/user/s/sdeng/WZG_analysis/fake_lepton_template/2018/QCD_Pt-30to50_EMEnriched_TuneCP5_13TeV_pythia8_2018_0000.root\",\n",
    "   \"/eos/user/s/sdeng/WZG_analysis/fake_lepton_template/2018/QCD_Pt-50to80_EMEnriched_TuneCP5_13TeV_pythia8_2018_0000.root\",\n",
    "   \"/eos/user/s/sdeng/WZG_analysis/fake_lepton_template/2018/QCD_Pt-80to120_EMEnriched_TuneCP5_13TeV_pythia8_2018_0000.root\",\n",
    "   \"/eos/user/s/sdeng/WZG_analysis/fake_lepton_template/2018/QCD_Pt-120to170_EMEnriched_TuneCP5_13TeV_pythia8_2018_0000.root\",\n",
    "   \"/eos/user/s/sdeng/WZG_analysis/fake_lepton_template/2018/QCD_Pt-170to300_EMEnriched_TuneCP5_13TeV_pythia8_2018_0000.root\",\n",
    "   \"/eos/user/s/sdeng/WZG_analysis/fake_lepton_template/2018/QCD_Pt-300toInf_EMEnriched_TuneCP5_13TeV_pythia8_2018_0000.root\",\n",
    "]\n",
    "\n",
    "xsec_list_QCD = [\n",
    "    1327000,\n",
    "    4908000,\n",
    "    6396000,\n",
    "    1989000,\n",
    "    366500,\n",
    "    66490,\n",
    "    16480,\n",
    "    1097\n",
    "]\n",
    "lumi_Ele8 = 0.00641 # HLT_Mu8_TrkIsoVVL 2018 lumi\n",
    "lumi_Ele23 = 0.03891 # HLT_Mu17_TrkIsoVVL 2018 lumi\n",
    "\n",
    "for i in range(0,len(file_list_QCD)):\n",
    "    print (\"test\",i)\n",
    "    AddHist_FR_Ele(file_list_QCD[i], h_nume_e_valid, h_deno_e_valid, 1, 0, lumi_Ele8, lumi_Ele23, xsec_list_QCD[i])\n",
    "#     AddMC(file_list_QCD[i], h_nume_mu_valid, h_deno_mu_valid, 59.783, xseclist_QCD[i], 1)\n"
   ]
  },
  {
   "cell_type": "code",
   "execution_count": 275,
   "id": "78047392-b258-49a6-9245-889c01d76e11",
   "metadata": {},
   "outputs": [
    {
     "name": "stdout",
     "output_type": "stream",
     "text": [
      "59.7 fb^{-1} (13 TeV)\n"
     ]
    },
    {
     "name": "stderr",
     "output_type": "stream",
     "text": [
      "Warning in <TCanvas::Constructor>: Deleting canvas with same name: c1\n",
      "Info in <TCanvas::Print>: pdf file Fake_Lepton/FR_Ele_QCD_2018.pdf has been created\n",
      "Info in <TCanvas::Print>: png file Fake_Lepton/FR_Ele_QCD_2018.png has been created\n"
     ]
    },
    {
     "data": {
      "image/png": "[encoded data removed]",
      "text/plain": [
       "<IPython.core.display.Image object>"
      ]
     },
     "metadata": {},
     "output_type": "display_data"
    }
   ],
   "source": [
    "# default = ROOT.TStyle(\"Default\",\"Default Style\")\n",
    "# ROOT.gROOT.SetStyle('Default')\n",
    "\n",
    "fake_rate_e_valid = h_nume_e_valid.Clone(\"fake_rate_e_valid\")\n",
    "fake_rate_e_valid.Divide(h_deno_e_valid)\n",
    "\n",
    "fake_rate_e_valid.SetDirectory(0)\n",
    "c1 = ROOT.TCanvas(\"c1\",\"\",1200,800)\n",
    "fake_rate_e_valid.SetStats(0)\n",
    "fake_rate_e_valid.SetXTitle(\"|#eta|\")\n",
    "fake_rate_e_valid.SetYTitle(\"P_{T} [GeV]\")\n",
    "fake_rate_e_valid.SetMarkerSize(1.3)\n",
    "fake_rate_e_valid.Draw(\"TEXT COLZe\")\n",
    "ROOT.gStyle.SetPaintTextFormat('4.2f')\n",
    "c1.Draw()\n",
    "CMS_lumi(c1, 0, 0)\n",
    "c1.SaveAs('Fake_Lepton/FR_Ele_QCD_2018.pdf')\n",
    "c1.SaveAs('Fake_Lepton/FR_Ele_QCD_2018.png')"
   ]
  },
  {
   "cell_type": "code",
   "execution_count": 276,
   "id": "15f7323a-354e-49d1-95d5-2b5456bb89ee",
   "metadata": {},
   "outputs": [],
   "source": [
    "f = ROOT.TFile(\"Fake_Lepton/Ele_Fake_Rate_2D_2018_Closure.root\",\"RECREATE\")\n",
    "f.cd()\n",
    "fake_rate_e_valid.Write()\n",
    "f.Close()"
   ]
  },
  {
   "cell_type": "markdown",
   "id": "boxed-share",
   "metadata": {},
   "source": [
    "#### FR 2D Data vs. QCD"
   ]
  },
  {
   "cell_type": "code",
   "execution_count": 279,
   "id": "silver-finance",
   "metadata": {},
   "outputs": [
    {
     "name": "stdout",
     "output_type": "stream",
     "text": [
      "59.7 fb^{-1} (13 TeV)\n"
     ]
    },
    {
     "name": "stderr",
     "output_type": "stream",
     "text": [
      "Warning in <TCanvas::Constructor>: Deleting canvas with same name: c1\n",
      "Info in <TCanvas::Print>: pdf file Fake_Lepton/2d_FR_Muon_datavsQCD_2018.pdf has been created\n",
      "Info in <TCanvas::Print>: png file Fake_Lepton/2d_FR_Muon_datavsQCD_2018.png has been created\n"
     ]
    },
    {
     "data": {
      "image/png": "[encoded data removed]",
      "text/plain": [
       "<IPython.core.display.Image object>"
      ]
     },
     "metadata": {},
     "output_type": "display_data"
    }
   ],
   "source": [
    "TH2D_ratio_mu_Data_QCD = fake_rate_mu.Clone(\"TH2D_ratio_mu_Data_QCD\")\n",
    "TH2D_ratio_mu_Data_QCD.Divide(fake_rate_mu_valid)\n",
    "\n",
    "c1 = ROOT.TCanvas(\"c1\",\"\",1200,800)\n",
    "TH2D_ratio_mu_Data_QCD.SetStats(0)\n",
    "TH2D_ratio_mu_Data_QCD.SetXTitle(\"|#eta|\")\n",
    "TH2D_ratio_mu_Data_QCD.SetYTitle(\"P_{T} [GeV]\")\n",
    "TH2D_ratio_mu_Data_QCD.SetMarkerSize(1.3)\n",
    "TH2D_ratio_mu_Data_QCD.Draw(\"TEXT COLZe\")\n",
    "ROOT.gStyle.SetPaintTextFormat('4.2f')\n",
    "c1.Draw()\n",
    "CMS_lumi(c1, 0, 0)\n",
    "c1.SaveAs('Fake_Lepton/2d_FR_Muon_datavsQCD_2018.pdf')\n",
    "c1.SaveAs('Fake_Lepton/2d_FR_Muon_datavsQCD_2018.png')"
   ]
  },
  {
   "cell_type": "markdown",
   "id": "bottom-honey",
   "metadata": {},
   "source": [
    "#### FR 1D Data vs. QCD"
   ]
  },
  {
   "cell_type": "code",
   "execution_count": 61,
   "id": "handmade-garbage",
   "metadata": {
    "collapsed": true,
    "jupyter": {
     "outputs_hidden": true
    },
    "tags": []
   },
   "outputs": [
    {
     "name": "stdout",
     "output_type": "stream",
     "text": [
      "59.7 fb^{-1} (13 TeV)\n"
     ]
    },
    {
     "name": "stderr",
     "output_type": "stream",
     "text": [
      "Warning in <TCanvas::Constructor>: Deleting canvas with same name: c1\n",
      "Warning in <TH1D::Sumw2>: Sum of squares of weights structure already created\n",
      "Info in <TCanvas::Print>: pdf file Fake_Lepton/1d_FR_Muon_datavsQCD_pt_2018.pdf has been created\n",
      "Info in <TCanvas::Print>: png file Fake_Lepton/1d_FR_Muon_datavsQCD_pt_2018.png has been created\n"
     ]
    },
    {
     "data": {
      "image/png": "[encoded data removed]",
      "text/plain": [
       "<IPython.core.display.Image object>"
      ]
     },
     "metadata": {},
     "output_type": "display_data"
    }
   ],
   "source": [
    "TH1D_data_deno = h_deno_mu.ProjectionY(\"TH1D_data_deno\",1,5)\n",
    "TH1D_data = h_nume_mu.ProjectionY(\"TH1D_data\",1,5)\n",
    "TH1D_data.Divide(TH1D_data_deno)\n",
    "\n",
    "TH1D_QCD_deno = h_deno_mu_valid.ProjectionY(\"TH1D_QCD_deno\",1,5)\n",
    "TH1D_QCD = h_nume_mu_valid.ProjectionY(\"TH1D_QCD\",1,5)\n",
    "TH1D_QCD.Divide(TH1D_QCD_deno)\n",
    "\n",
    "c1 = ROOT.TCanvas(\"c1\",\"\",1000,800)\n",
    "TH1D_data.SetStats(0)\n",
    "TH1D_data.SetMarkerStyle(20)\n",
    "TH1D_data.SetMarkerColor(1)\n",
    "TH1D_data.SetLineColor(1)\n",
    "TH1D_data.GetXaxis().SetTitle(\"P_{T} [GeV]\")\n",
    "TH1D_data.GetYaxis().SetTitle(\"Muon Fake Rate\")\n",
    "\n",
    "TH1D_QCD.SetStats(0)\n",
    "TH1D_QCD.SetMarkerStyle(20)\n",
    "TH1D_QCD.SetMarkerColor(2)\n",
    "TH1D_QCD.SetLineColor(2)\n",
    "\n",
    "h1 = TH1D_data.Clone(\"h1\")\n",
    "h2 = TH1D_QCD.Clone(\"h2\")\n",
    "h3 = createRatio(h1, h2)\n",
    "\n",
    "c1.Draw()\n",
    "pad1 = ROOT.TPad(\"pad1\", \"pad1\", 0, 0.3, 1, 1.0)\n",
    "pad1.SetBottomMargin(0.015)  # joins upper and lower plot\n",
    "# pad1.SetGridx()\n",
    "pad1.Draw()\n",
    "# Lower ratio plot is pad2\n",
    "c1.cd()  # returns to main canvas before defining pad2\n",
    "pad2 = ROOT.TPad(\"pad2\", \"pad2\", 0, 0.05, 1, 0.3)\n",
    "pad2.SetTopMargin(0)  # joins upper and lower plot\n",
    "pad2.SetBottomMargin(0.3)\n",
    "pad2.SetGridy()\n",
    "pad2.Draw()\n",
    "\n",
    "TH1D_data.SetMaximum(1)\n",
    "TH1D_data.SetMinimum(0)\n",
    "# CMS_lumi(c1, 0, 0)\n",
    "\n",
    "\n",
    "# Upper histogram plot is pad1\n",
    "legend = ROOT.TLegend(0.65, 0.60, 0.90, 0.7)\n",
    "legend.SetBorderSize(0)\n",
    "legend.SetFillColor(0)\n",
    "legend.SetTextSize(0.035)\n",
    "legend.SetLineWidth(1)\n",
    "legend.SetLineStyle(2)\n",
    "legend.AddEntry(h1,'data')\n",
    "legend.AddEntry(h2,'QCD')\n",
    "\n",
    "# draw everything\n",
    "pad1.cd()\n",
    "h1.Draw(\"ep\")\n",
    "h2.Draw(\"ep same\")\n",
    "legend.Draw(\"same\")\n",
    "# to avoid clipping the bottom zero, redraw a small axis\n",
    "h1.GetXaxis().SetLabelSize(0)\n",
    "# axis = TGaxis(-5, 20, -5, 220, 20, 220, 510, \"\")\n",
    "# axis.SetLabelFont(43)\n",
    "# axis.SetLabelSize(15)\n",
    "# axis.Draw()\n",
    "pad2.cd()\n",
    "h3.Draw(\"ep\")\n",
    "\n",
    "CMS_lumi(pad1, 0, 0)\n",
    "\n",
    "# c1.SaveAs('Fake_Lepton/1d_FR_Muon_datavsQCD_pt_2018.pdf')\n",
    "# c1.SaveAs('Fake_Lepton/1d_FR_Muon_datavsQCD_pt_2018.png')"
   ]
  },
  {
   "cell_type": "markdown",
   "id": "324bdfa6-cebd-4ef2-b0a0-f0716608e7fa",
   "metadata": {},
   "source": [
    "### test "
   ]
  },
  {
   "cell_type": "code",
   "execution_count": null,
   "id": "forty-angle",
   "metadata": {},
   "outputs": [],
   "source": [
    "# ntuple = uproot.open(\"/eos/cms/store/group/phys_top/efe/ntuples_a02ce4df_all/MC13TeV_2017_t_sch/Chunk_0_ext0.root:analysis\")\n",
    "# ntuple['data']"
   ]
  },
  {
   "cell_type": "code",
   "execution_count": null,
   "id": "corporate-modern",
   "metadata": {},
   "outputs": [],
   "source": [
    "# ttc_array = ntuple['data'].arrays(['l_id','l_isPromptFinalState'],library='pd')\n",
    "# ttc_array"
   ]
  },
  {
   "cell_type": "code",
   "execution_count": null,
   "id": "japanese-testimony",
   "metadata": {},
   "outputs": [],
   "source": [
    "# aktest = Events.arrays([\"lepton_pt\",\"lepton_eta\",\"lepton_pdgid\"],\"abs(lepton_pdgid) == 13\", library='ak')"
   ]
  },
  {
   "cell_type": "code",
   "execution_count": null,
   "id": "headed-institution",
   "metadata": {},
   "outputs": [],
   "source": [
    "# plt.style.use(hep.style.CMS)\n",
    "# plt.hist(branches['lepton_pt'], bins=10, range=(0,100))\n",
    "# plt.yscale('log')\n",
    "# plt.xlabel('test')\n",
    "# plt.show()"
   ]
  },
  {
   "cell_type": "code",
   "execution_count": null,
   "id": "useful-intellectual",
   "metadata": {},
   "outputs": [],
   "source": [
    "# plt.style.use(hep.style.CMS)\n",
    "# plt.hist(branches['lepton_pt'], bins=10, range=(0,100), histtype='step')\n",
    "# plt.yscale('log')\n",
    "# plt.show()"
   ]
  },
  {
   "cell_type": "code",
   "execution_count": null,
   "id": "alive-great",
   "metadata": {},
   "outputs": [],
   "source": [
    "# test_mu = uproot.open(\"/eos/user/s/sdeng/WZG_analysis/MC/2018/tZq_ll_4f_ckm_NLO_TuneCP5_13TeV-amcatnlo-pythia8/tZq_ll_4f_ckm_NLO_TuneCP5_13TeV-amcatnlo-pythia8_2018/210407_110631/0000/test.root:Events\").arrays(['event','Muon_pt','Muon_eta','Muon_phi'],library='pd')\n",
    "# test_mu[test_mu['event'].isin([12626214])]"
   ]
  },
  {
   "cell_type": "code",
   "execution_count": null,
   "id": "correct-watts",
   "metadata": {},
   "outputs": [],
   "source": [
    "# test_e = uproot.open(\"/eos/user/s/sdeng/WZG_analysis/MC/2018/tZq_ll_4f_ckm_NLO_TuneCP5_13TeV-amcatnlo-pythia8/tZq_ll_4f_ckm_NLO_TuneCP5_13TeV-amcatnlo-pythia8_2018/210407_110631/0000/test.root:Events\").arrays(['event','Electron_pt','Electron_eta','Electron_phi','Electron_mass','Electron_pdgId','Electron_cutBased','photon_pt','photon_eta','photon_phi','MET','dilepton_mass'],library='pd')\n",
    "# test_e[test_e['event'].isin([12626214])]"
   ]
  },
  {
   "cell_type": "code",
   "execution_count": null,
   "id": "manual-zoning",
   "metadata": {},
   "outputs": [],
   "source": [
    "# test_a = uproot.open(\"/eos/user/s/sdeng/WZG_analysis/final_skim/2018/tZq_ll_4f_ckm_NLO_TuneCP5_13TeV-amcatnlo-pythia8_2018.root:Events\").arrays(['event','Photon_pt','Photon_eta','Photon_phi','Photon_cutBased','Photon_isScEtaEE','Photon_isScEtaEB','Photon_pixelSeed'],library='pd')\n",
    "# test_a[test_a['event'].isin([12626214])]"
   ]
  },
  {
   "cell_type": "code",
   "execution_count": null,
   "id": "coral-magnitude",
   "metadata": {},
   "outputs": [],
   "source": [
    "# test_mu = uproot.open(\"/eos/user/s/sdeng/WZG_analysis/test2/FA193293-A05C-1449-AA78-1C234BEE98FA.root:Events\").arrays(['event','Muon_pt','Muon_eta','Muon_phi','Muon_tightId'],library='pd')\n",
    "# test_mu[test_mu['event'].isin([3288579])]"
   ]
  },
  {
   "cell_type": "code",
   "execution_count": null,
   "id": "beginning-demographic",
   "metadata": {},
   "outputs": [],
   "source": [
    "# test_e = uproot.open(\"/eos/user/s/sdeng/WZG_analysis/test2/FA193293-A05C-1449-AA78-1C234BEE98FA.root:Events\").arrays(['event','Electron_pt','Electron_eta','Electron_deltaEtaSC','Electron_phi','Electron_pdgId','Electron_charge','Electron_cutBased','Electron_dxy','Electron_dz','MET_pt','Electron_mass'],library='pd')\n",
    "# test_e[test_e['event'].isin([3288579])]"
   ]
  },
  {
   "cell_type": "code",
   "execution_count": null,
   "id": "expected-hotel",
   "metadata": {},
   "outputs": [],
   "source": [
    "# test_a = uproot.open(\"/eos/user/s/sdeng/WZG_analysis/test2/FA193293-A05C-1449-AA78-1C234BEE98FA.root:Events\").arrays(['event','Photon_pt','Photon_eta','Photon_phi','Photon_cutBased','Photon_isScEtaEE','Photon_isScEtaEB','Photon_pixelSeed'],library='pd')\n",
    "# test_a[test_a['event'].isin([3288579])]"
   ]
  },
  {
   "cell_type": "code",
   "execution_count": null,
   "id": "growing-canada",
   "metadata": {},
   "outputs": [],
   "source": [
    "# import math\n",
    "# def deltaR(eta1,eta2,phi1,phi2):\n",
    "#     return math.sqrt((eta1-eta2)*(eta1-eta2)+(phi1-phi2)*(phi1-phi2))\n",
    "\n",
    "\n",
    "# deltaR(1.394043,2.005371,2.279785,2.589355)\n",
    "\n",
    "# pt1 = 35.215302\n",
    "# eta1 = 0.629272\n",
    "# phi1 = -2.131348\n",
    "# M1 = 0.012650\n",
    "\n",
    "# pt2 = 32.196800 \n",
    "# eta2 = 1.826904 \n",
    "# phi2 = 1.805176\n",
    "# M2 = -0.021729 \n",
    "\n",
    "# a=ROOT.TLorentzVector()\n",
    "# a.SetPtEtaPhiM(pt1,eta1, phi1, M1)\n",
    "\n",
    "# b=ROOT.TLorentzVector()\n",
    "# b.SetPtEtaPhiM(pt2, eta2, phi2, M2)\n",
    "\n",
    "# (a+b).M()"
   ]
  },
  {
   "cell_type": "code",
   "execution_count": null,
   "id": "extended-terrain",
   "metadata": {},
   "outputs": [],
   "source": [
    "# test_a = uproot.open(\"/eos/user/s/sdeng/WZG_analysis/MC/2018/tZq_ll_4f_ckm_NLO_TuneCP5_13TeV-amcatnlo-pythia8/tZq_ll_4f_ckm_NLO_TuneCP5_13TeV-amcatnlo-pythia8_2018/210407_110631/0000/tree_10.root:Events\").arrays(['event','Photon_pt','Photon_eta','Photon_phi','Photon_cutBased','Photon_isScEtaEE','Photon_isScEtaEB','Photon_pixelSeed'],library='pd')\n",
    "# test_a[test_a['event'].isin([6092807])]"
   ]
  },
  {
   "cell_type": "code",
   "execution_count": null,
   "id": "equal-value",
   "metadata": {},
   "outputs": [],
   "source": [
    "# true_events = uproot.open(file_DATA)\n",
    "# true_events.keys()\n",
    "# true_events['nEventsGenWeighted'].values()[0]\n",
    "# true_events = uproot.open(file_DATA)['nEventsGenWeighted'].values()[0]\n",
    "# true_events"
   ]
  },
  {
   "cell_type": "code",
   "execution_count": 320,
   "id": "approximate-citizenship",
   "metadata": {},
   "outputs": [
    {
     "name": "stdout",
     "output_type": "stream",
     "text": [
      "2.0\n",
      "1.4142135623730951\n"
     ]
    },
    {
     "data": {
      "image/png": "[encoded data removed]",
      "text/plain": [
       "<IPython.core.display.Image object>"
      ]
     },
     "metadata": {},
     "output_type": "display_data"
    }
   ],
   "source": [
    "h_test = ROOT.TH2D(\"\",\"\",5,0,100, 5,0,100)\n",
    "\n",
    "# h_test.Fill(1,1,3)\n",
    "h_test.Fill(1,100,1)\n",
    "h_test.Fill(1,100,1)\n",
    "print(h_test.GetBinContent(1,6))\n",
    "print(h_test.GetBinError(1,6))\n",
    "# h_test.Fill(1,1,1)\n",
    "# h_test.Fill(1,1,1)\n",
    "\n",
    "c2 = ROOT.TCanvas(\"\",\"\",1000,800)\n",
    "c2.Draw()\n",
    "h_test.Draw(\"TEXT HIST e\")"
   ]
  },
  {
   "cell_type": "code",
   "execution_count": null,
   "id": "major-involvement",
   "metadata": {},
   "outputs": [],
   "source": [
    "h_test_2 = ROOT.TH2D(\"\",\"\",5,0,100, 5,0,100)\n",
    "h_test_3 = ROOT.TH2D(\"\",\"\",5,0,100, 5,0,100)\n",
    "\n",
    "h_test_2.Fill(1,1,2)\n",
    "# h_test_2.Fill(1,1,1)\n",
    "h_test_3.Fill(1,1,1)\n",
    "\n",
    "h_test_2.Add(h_test_3, -1)\n",
    "\n",
    "c2 = ROOT.TCanvas(\"\",\"\",1000,800)\n",
    "c2.Draw()\n",
    "h_test_2.Draw(\"TEXT e\")"
   ]
  },
  {
   "cell_type": "markdown",
   "id": "a9a61f03-7478-4549-8407-7750b0ca77e1",
   "metadata": {
    "tags": []
   },
   "source": [
    "### Final test"
   ]
  }
 ],
 "metadata": {
  "kernelspec": {
   "display_name": "Python 3",
   "language": "python",
   "name": "python3"
  },
  "language_info": {
   "codemirror_mode": {
    "name": "ipython",
    "version": 3
   },
   "file_extension": ".py",
   "mimetype": "text/x-python",
   "name": "python",
   "nbconvert_exporter": "python",
   "pygments_lexer": "ipython3",
   "version": "3.7.10"
  }
 },
 "nbformat": 4,
 "nbformat_minor": 5
}
