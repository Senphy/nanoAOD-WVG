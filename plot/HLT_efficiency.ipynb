{
 "cells": [
  {
   "cell_type": "code",
   "execution_count": 1,
   "id": "inner-owner",
   "metadata": {
    "ExecuteTime": {
     "end_time": "2021-02-04T15:26:43.418353Z",
     "start_time": "2021-02-04T15:26:43.260739Z"
    }
   },
   "outputs": [
    {
     "name": "stdout",
     "output_type": "stream",
     "text": [
      "Welcome to JupyROOT 6.22/06\n"
     ]
    }
   ],
   "source": [
    "import ROOT\n",
    "from tqdm import trange\n",
    "from array import array"
   ]
  },
  {
   "cell_type": "markdown",
   "id": "major-runner",
   "metadata": {},
   "source": [
    "## Lumi"
   ]
  },
  {
   "cell_type": "code",
   "execution_count": 2,
   "id": "after-xerox",
   "metadata": {},
   "outputs": [],
   "source": [
    "# CMS_lumi\n",
    "#   Initiated by: Gautier Hamel de Monchenault (Saclay)\n",
    "#   Translated in Python by: Joshua Hardenbrook (Princeton)\n",
    "#   Updated by:   Dinko Ferencek (Rutgers)\n",
    "#\n",
    "\n",
    "cmsText     = \"CMS\";\n",
    "cmsTextFont   = 62  \n",
    "\n",
    "writeExtraText = True\n",
    "extraText   = \"Preliminary\"\n",
    "extraTextFont = 52 \n",
    "\n",
    "lumiTextSize     = 0.8\n",
    "lumiTextOffset   = 0.2\n",
    "\n",
    "cmsTextSize      = 0.85\n",
    "cmsTextOffset    = 0.1\n",
    "\n",
    "relPosX    = 0.045\n",
    "relPosY    = 0.035\n",
    "relExtraDY = 1.2\n",
    "\n",
    "extraOverCmsTextSize  = 0.76\n",
    "\n",
    "lumi_13TeV = \"20.1 fb^{-1}\"\n",
    "lumi_8TeV  = \"19.7 fb^{-1}\" \n",
    "lumi_7TeV  = \"5.1 fb^{-1}\"\n",
    "lumi_sqrtS = \"59.7 fb^{-1} (13 TeV)\"\n",
    "\n",
    "drawLogo      = False\n",
    "\n",
    "def CMS_lumi(pad,  iPeriod,  iPosX ):\n",
    "    outOfFrame    = False\n",
    "    if(iPosX/10==0 ): outOfFrame = True\n",
    "\n",
    "    alignY_=3\n",
    "    alignX_=2\n",
    "    if( iPosX/10==0 ): alignX_=1\n",
    "    if( iPosX==0    ): alignY_=1\n",
    "    if( iPosX/10==1 ): alignX_=1\n",
    "    if( iPosX/10==2 ): alignX_=2\n",
    "    if( iPosX/10==3 ): alignX_=3\n",
    "    align_ = 10*alignX_ + alignY_\n",
    "\n",
    "    H = pad.GetWh()\n",
    "    W = pad.GetWw()\n",
    "    l = pad.GetLeftMargin()\n",
    "    t = pad.GetTopMargin()\n",
    "    r = pad.GetRightMargin()\n",
    "    b = pad.GetBottomMargin()\n",
    "    e = 0.025\n",
    "\n",
    "    pad.cd()\n",
    "\n",
    "    lumiText = \"\"\n",
    "    if( iPeriod==1 ):\n",
    "        lumiText += lumi_7TeV\n",
    "        lumiText += \" (7 TeV)\"\n",
    "    elif ( iPeriod==2 ):\n",
    "        lumiText += lumi_8TeV\n",
    "        lumiText += \" (8 TeV)\"\n",
    "\n",
    "    elif( iPeriod==3 ):      \n",
    "        lumiText = lumi_8TeV \n",
    "        lumiText += \" (8 TeV)\"\n",
    "        lumiText += \" + \"\n",
    "        lumiText += lumi_7TeV\n",
    "        lumiText += \" (7 TeV)\"\n",
    "    elif ( iPeriod==4 ):\n",
    "        lumiText += lumi_13TeV\n",
    "        lumiText += \" (13 TeV)\"\n",
    "    elif ( iPeriod==7 ):\n",
    "        if( outOfFrame ):lumiText += \"#scale[0.85]{\"\n",
    "        lumiText += lumi_13TeV \n",
    "        lumiText += \" (13 TeV)\"\n",
    "        lumiText += \" + \"\n",
    "        lumiText += lumi_8TeV \n",
    "        lumiText += \" (8 TeV)\"\n",
    "        lumiText += \" + \"\n",
    "        lumiText += lumi_7TeV\n",
    "        lumiText += \" (7 TeV)\"\n",
    "        if( outOfFrame): lumiText += \"}\"\n",
    "    elif ( iPeriod==12 ):\n",
    "        lumiText += \"8 TeV\"\n",
    "    elif ( iPeriod==0 ):\n",
    "        lumiText += lumi_sqrtS\n",
    "            \n",
    "    print (lumiText)\n",
    "\n",
    "    latex = ROOT.TLatex()\n",
    "    latex.SetNDC()\n",
    "    latex.SetTextAngle(0)\n",
    "    latex.SetTextColor(ROOT.kBlack)    \n",
    "    \n",
    "    extraTextSize = extraOverCmsTextSize*cmsTextSize\n",
    "    \n",
    "    latex.SetTextFont(42)\n",
    "    latex.SetTextAlign(31) \n",
    "    latex.SetTextSize(lumiTextSize*t)    \n",
    "\n",
    "    latex.DrawLatex(1-r,1-t+lumiTextOffset*t,lumiText)\n",
    "\n",
    "    if( outOfFrame ):\n",
    "        latex.SetTextFont(cmsTextFont)\n",
    "        latex.SetTextAlign(11) \n",
    "        latex.SetTextSize(cmsTextSize*t)    \n",
    "        latex.DrawLatex(l,1-t+lumiTextOffset*t,cmsText)\n",
    "  \n",
    "    pad.cd()\n",
    "\n",
    "    posX_ = 0\n",
    "    if( iPosX%10<=1 ):\n",
    "        posX_ =   l + relPosX*(1-l-r)\n",
    "    elif( iPosX%10==2 ):\n",
    "        posX_ =  l + 0.5*(1-l-r)\n",
    "    elif( iPosX%10==3 ):\n",
    "        posX_ =  1-r - relPosX*(1-l-r)\n",
    "\n",
    "    posY_ = 1-t - relPosY*(1-t-b)\n",
    "\n",
    "    if( not outOfFrame ):\n",
    "        if( drawLogo ):\n",
    "            posX_ =   l + 0.045*(1-l-r)*W/H\n",
    "            posY_ = 1-t - 0.045*(1-t-b)\n",
    "            xl_0 = posX_\n",
    "            yl_0 = posY_ - 0.15\n",
    "            xl_1 = posX_ + 0.15*H/W\n",
    "            yl_1 = posY_\n",
    "            CMS_logo = ROOT.TASImage(\"CMS-BW-label.png\")\n",
    "            pad_logo =  ROOT.TPad(\"logo\",\"logo\", xl_0, yl_0, xl_1, yl_1 )\n",
    "            pad_logo.Draw()\n",
    "            pad_logo.cd()\n",
    "            CMS_logo.Draw(\"X\")\n",
    "            pad_logo.Modified()\n",
    "            pad.cd()          \n",
    "        else:\n",
    "            latex.SetTextFont(cmsTextFont)\n",
    "            latex.SetTextSize(cmsTextSize*t)\n",
    "            latex.SetTextAlign(align_)\n",
    "            latex.DrawLatex(posX_, posY_, cmsText)\n",
    "            if( writeExtraText ) :\n",
    "                latex.SetTextFont(extraTextFont)\n",
    "                latex.SetTextAlign(align_)\n",
    "                latex.SetTextSize(extraTextSize*t)\n",
    "                latex.DrawLatex(posX_, posY_- relExtraDY*cmsTextSize*t, extraText)\n",
    "    elif( writeExtraText ):\n",
    "        if( iPosX==0):\n",
    "            posX_ =   l +  relPosX*(1-l-r)\n",
    "            posY_ =   1-t+lumiTextOffset*t\n",
    "\n",
    "        latex.SetTextFont(extraTextFont)\n",
    "        latex.SetTextSize(extraTextSize*t)\n",
    "        latex.SetTextAlign(align_)\n",
    "        latex.DrawLatex(posX_*1.20, posY_, extraText)      \n",
    "\n",
    "    pad.Update()"
   ]
  },
  {
   "cell_type": "markdown",
   "id": "weird-worthy",
   "metadata": {},
   "source": [
    "## tdrstyle"
   ]
  },
  {
   "cell_type": "code",
   "execution_count": 3,
   "id": "executive-pizza",
   "metadata": {
    "ExecuteTime": {
     "end_time": "2021-03-14T13:18:11.397209Z",
     "start_time": "2021-03-14T13:18:11.043090Z"
    }
   },
   "outputs": [],
   "source": [
    "tdrStyle =  ROOT.TStyle(\"\",\"\")\n",
    "\n",
    "#for the canvas:\n",
    "tdrStyle.SetCanvasBorderMode(0)\n",
    "tdrStyle.SetCanvasColor(ROOT.kWhite)\n",
    "tdrStyle.SetCanvasDefH(1000) #Height of canvas\n",
    "tdrStyle.SetCanvasDefW(800) #Width of canvas\n",
    "tdrStyle.SetCanvasDefX(0)   #POsition on screen\n",
    "tdrStyle.SetCanvasDefY(0)\n",
    "\n",
    "\n",
    "tdrStyle.SetPadBorderMode(0)\n",
    "#tdrStyle.SetPadBorderSize(Width_t size = 1)\n",
    "tdrStyle.SetPadColor(ROOT.kWhite)\n",
    "tdrStyle.SetPadGridX(False)\n",
    "tdrStyle.SetPadGridY(False)\n",
    "tdrStyle.SetGridColor(0)\n",
    "tdrStyle.SetGridStyle(3)\n",
    "tdrStyle.SetGridWidth(1)\n",
    "\n",
    "#For the frame:\n",
    "tdrStyle.SetFrameBorderMode(1)\n",
    "tdrStyle.SetFrameBorderSize(1)\n",
    "tdrStyle.SetFrameFillColor(0)\n",
    "tdrStyle.SetFrameFillStyle(0)\n",
    "tdrStyle.SetFrameLineColor(1)\n",
    "tdrStyle.SetFrameLineStyle(1)\n",
    "tdrStyle.SetFrameLineWidth(1)\n",
    "\n",
    "#For the histo:\n",
    "#tdrStyle.SetHistFillColor(1)\n",
    "#tdrStyle.SetHistFillStyle(0)\n",
    "tdrStyle.SetHistLineColor(1)\n",
    "tdrStyle.SetHistLineStyle(0)\n",
    "tdrStyle.SetHistLineWidth(1)\n",
    "#tdrStyle.SetLegoInnerR(Float_t rad = 0.5)\n",
    "#tdrStyle.SetNumberContours(Int_t number = 20)\n",
    "\n",
    "tdrStyle.SetEndErrorSize(2)\n",
    "#tdrStyle.SetErrorMarker(20)\n",
    "#tdrStyle.SetErrorX(0.)\n",
    "\n",
    "tdrStyle.SetMarkerStyle(20)\n",
    "\n",
    "#For the fit/function:\n",
    "tdrStyle.SetOptFit(1)\n",
    "tdrStyle.SetFitFormat(\"5.4g\")\n",
    "tdrStyle.SetFuncColor(2)\n",
    "tdrStyle.SetFuncStyle(1)\n",
    "tdrStyle.SetFuncWidth(1)\n",
    "\n",
    "#For the date:\n",
    "tdrStyle.SetOptDate(0)\n",
    "# tdrStyle.SetDateX(Float_t x = 0.01)\n",
    "# tdrStyle.SetDateY(Float_t y = 0.01)\n",
    "\n",
    "# For the statistics box:\n",
    "tdrStyle.SetOptFile(0)\n",
    "tdrStyle.SetOptStat(0) # To display the mean and RMS:   SetOptStat(\"mr\")\n",
    "tdrStyle.SetStatColor(ROOT.kWhite)\n",
    "tdrStyle.SetStatFont(42)\n",
    "tdrStyle.SetStatFontSize(0.025)\n",
    "tdrStyle.SetStatTextColor(1)\n",
    "tdrStyle.SetStatFormat(\"6.4g\")\n",
    "tdrStyle.SetStatBorderSize(1)\n",
    "tdrStyle.SetStatH(0.1)\n",
    "tdrStyle.SetStatW(0.15)\n",
    "# tdrStyle.SetStatStyle(Style_t style = 1001)\n",
    "# tdrStyle.SetStatX(Float_t x = 0)\n",
    "# tdrStyle.SetStatY(Float_t y = 0)\n",
    "\n",
    "# Margins:\n",
    "tdrStyle.SetPadTopMargin(0.05)\n",
    "tdrStyle.SetPadBottomMargin(0.13)\n",
    "tdrStyle.SetPadLeftMargin(0.13)\n",
    "tdrStyle.SetPadRightMargin(0.02)\n",
    "\n",
    "# For the Global title:\n",
    "\n",
    "tdrStyle.SetOptTitle(0)\n",
    "tdrStyle.SetTitleFont(42)\n",
    "tdrStyle.SetTitleColor(1)\n",
    "tdrStyle.SetTitleTextColor(1)\n",
    "tdrStyle.SetTitleFillColor(10)\n",
    "tdrStyle.SetTitleFontSize(0.05)\n",
    "# tdrStyle.SetTitleH(0) # Set the height of the title box\n",
    "# tdrStyle.SetTitleW(0) # Set the width of the title box\n",
    "# tdrStyle.SetTitleX(0) # Set the position of the title box\n",
    "# tdrStyle.SetTitleY(0.985) # Set the position of the title box\n",
    "# tdrStyle.SetTitleStyle(Style_t style = 1001)\n",
    "# tdrStyle.SetTitleBorderSize(2)\n",
    "\n",
    "# For the axis titles:\n",
    "\n",
    "tdrStyle.SetTitleColor(1, \"XYZ\")\n",
    "tdrStyle.SetTitleFont(42, \"XYZ\")\n",
    "tdrStyle.SetTitleSize(0.04, \"XYZ\")\n",
    "#   tdrStyle.SetTitleXSize(Float_t size = 0.02) # Another way to set the size?\n",
    "#   tdrStyle.SetTitleYSize(Float_t size = 0.02)\n",
    "tdrStyle.SetTitleXOffset(0.9)\n",
    "tdrStyle.SetTitleYOffset(1.25)\n",
    "# tdrStyle.SetTitleOffset(1.1, \"Y\") # Another way to set the Offset\n",
    "\n",
    "# For the axis labels:\n",
    "\n",
    "tdrStyle.SetLabelColor(1, \"XYZ\")\n",
    "tdrStyle.SetLabelFont(42, \"XYZ\")\n",
    "tdrStyle.SetLabelOffset(0.007, \"XYZ\")\n",
    "tdrStyle.SetLabelSize(0.03, \"XYZ\")\n",
    "\n",
    "# For the axis:\n",
    "\n",
    "tdrStyle.SetAxisColor(1, \"XYZ\")\n",
    "tdrStyle.SetStripDecimals(True)\n",
    "tdrStyle.SetTickLength(0.03, \"XYZ\")\n",
    "tdrStyle.SetNdivisions(510, \"XYZ\")\n",
    "tdrStyle.SetPadTickX(1)  # To get tick marks on the opposite side of the frame\n",
    "tdrStyle.SetPadTickY(1)\n",
    "\n",
    "# Change for log plots:\n",
    "tdrStyle.SetOptLogx(0)\n",
    "tdrStyle.SetOptLogy(0)\n",
    "tdrStyle.SetOptLogz(0)\n",
    "\n",
    "# Postscript options:\n",
    "# tdrStyle.SetPaperSize(20.,20.)\n",
    "# tdrStyle.SetLineScalePS(Float_t scale = 3)\n",
    "# tdrStyle.SetLineStyleString(Int_t i, const char* text)\n",
    "# tdrStyle.SetHeaderPS(const char* header)\n",
    "# tdrStyle.SetTitlePS(const char* pstitle)\n",
    "\n",
    "# tdrStyle.SetBarOffset(Float_t baroff = 0.5)\n",
    "# tdrStyle.SetBarWidth(Float_t barwidth = 0.5)\n",
    "# tdrStyle.SetPaintTextFormat(const char* format = \"g\")\n",
    "# tdrStyle.SetPalette(Int_t ncolors = 0, Int_t* colors = 0)\n",
    "# tdrStyle.SetTimeOffset(Double_t toffset)\n",
    "# tdrStyle.SetHistMinimumZero(kTRUE)\n",
    "\n",
    "tdrStyle.SetHatchesLineWidth(1)\n",
    "tdrStyle.SetHatchesSpacing(0.5)\n",
    "\n",
    "tdrStyle.cd()"
   ]
  },
  {
   "cell_type": "code",
   "execution_count": 4,
   "id": "incorporated-council",
   "metadata": {
    "ExecuteTime": {
     "end_time": "2021-02-04T15:26:43.544374Z",
     "start_time": "2021-02-04T15:26:43.419973Z"
    }
   },
   "outputs": [],
   "source": [
    "filelist_data = [\n",
    "#                  \"/eos/user/s/sdeng/WZG_analysis/HLT_template/SingleMuon_Run2018A.root\",\n",
    "#                  \"/eos/user/s/sdeng/WZG_analysis/HLT_template/SingleMuon_Run2018B.root\",\n",
    "#                  \"/eos/user/s/sdeng/WZG_analysis/HLT_template/SingleMuon_Run2018C.root\",\n",
    "#                  \"/eos/user/s/sdeng/WZG_analysis/HLT_template/SingleMuon_Run2018D.root\",\n",
    "#                  \"/eos/user/s/sdeng/WZG_analysis/HLT_template/DoubleMuon_Run2018A.root\",\n",
    "#                  \"/eos/user/s/sdeng/WZG_analysis/HLT_template/DoubleMuon_Run2018B.root\",\n",
    "#                  \"/eos/user/s/sdeng/WZG_analysis/HLT_template/DoubleMuon_Run2018C.root\",\n",
    "#                  \"/eos/user/s/sdeng/WZG_analysis/HLT_template/DoubleMuon_Run2018D.root\",\n",
    "#                  \"/eos/user/s/sdeng/WZG_analysis/HLT_template/EGamma_Run2018A.root\",\n",
    "#                  \"/eos/user/s/sdeng/WZG_analysis/HLT_template/EGamma_Run2018B.root\",\n",
    "#                  \"/eos/user/s/sdeng/WZG_analysis/HLT_template/EGamma_Run2018D.root\",\n",
    "#                  \"/eos/user/s/sdeng/WZG_analysis/HLT_template/MuonEG_Run2018A.root\",\n",
    "#                  \"/eos/user/s/sdeng/WZG_analysis/HLT_template/MuonEG_Run2018B.root\",\n",
    "#                  \"/eos/user/s/sdeng/WZG_analysis/HLT_template/MuonEG_Run2018C.root\",\n",
    "#                  \"/eos/user/s/sdeng/WZG_analysis/HLT_template/JetHT_Run2018A.root\",\n",
    "#                  \"/eos/user/s/sdeng/WZG_analysis/HLT_template/JetHT_Run2018B.root\",\n",
    "#                  \"/eos/user/s/sdeng/WZG_analysis/HLT_template/JetHT_Run2018C.root\",\n",
    "#                  \"/eos/user/s/sdeng/WZG_analysis/HLT_template/JetHT_Run2018D.root\",\n",
    "                 \"/eos/user/s/sdeng/WZG_analysis/HLT_template/MET_Run2018A.root\",\n",
    "                 \"/eos/user/s/sdeng/WZG_analysis/HLT_template/MET_Run2018B.root\",\n",
    "                 \"/eos/user/s/sdeng/WZG_analysis/HLT_template/MET_Run2018C.root\",\n",
    "                 \"/eos/user/s/sdeng/WZG_analysis/HLT_template/MET_Run2018D.root\",\n",
    "]\n",
    "filelist_MC = [\"/eos/user/s/sdeng/WZG_analysis/HLT_template//wza_UL18_sum_Skim.root\"\n",
    "              ]\n",
    "nbins = 20\n",
    "xleft = 0\n",
    "xright = 200\n",
    "xbins = [0,5,10,15,20,25,30,35,40,50,60,80,100,120,160,200]\n",
    "channel = 0\n",
    "branch_list = [\n",
    " \"w_lepton_pt\",\n",
    " \"z_lepton1_pt\",\n",
    " \"z_lepton2_pt\",\n",
    " \"MET_pt\"\n",
    "]\n",
    "\n",
    "#         channel mark\n",
    "#         all = 0\n",
    "#         emumu = 1\n",
    "#         muee = 2\n",
    "#         eee = 3\n",
    "#         mumumu = 4"
   ]
  },
  {
   "cell_type": "code",
   "execution_count": 5,
   "id": "prerequisite-drawing",
   "metadata": {
    "ExecuteTime": {
     "end_time": "2021-02-04T15:26:43.668339Z",
     "start_time": "2021-02-04T15:26:43.546640Z"
    }
   },
   "outputs": [],
   "source": [
    "def GetHist_HLT(filename, branch_list, channel, nbins, xleft, xright, xbins):\n",
    "    \n",
    "    h_HLT_list = []\n",
    "    h_total_list = []\n",
    "    \n",
    "    for i in range(len(branch_list)):\n",
    "        h_HLT = ROOT.TH1D(\"\",\"\",nbins,xleft,xright)\n",
    "        h_total = ROOT.TH1D(\"\",\"\",nbins,xleft,xright)\n",
    "#         h_HLT = ROOT.TH1D(\"\",\"\",len(xbins)-1, array('d',xbins))\n",
    "#         h_total = ROOT.TH1D(\"\",\"\",len(xbins)-1, array('d',xbins))\n",
    "        h_HLT.Sumw2()\n",
    "        h_total.Sumw2()\n",
    "        h_HLT_list.append(h_HLT)\n",
    "        h_total_list.append(h_total)\n",
    "        del h_HLT\n",
    "        del h_total\n",
    "    \n",
    "    file = ROOT.TFile(filename, \"READ\")\n",
    "    tree = file.Get(\"Events\")\n",
    "    \n",
    "    pass_HLT = 0\n",
    "    pass_total = 0\n",
    "    j=0\n",
    "        \n",
    "    for entryNum in trange(0, tree.GetEntries(),desc=f'processing data sample: {filename}'):\n",
    "        tree.GetEntry(entryNum)\n",
    "        \n",
    "        channel_mark = getattr(tree, \"channel_mark\")\n",
    "        HLT_Ele32_WPTight_Gsf = getattr(tree, \"HLT_Ele32_WPTight_Gsf\")\n",
    "        HLT_Ele23_Ele12_CaloIdL_TrackIdL_IsoVL = getattr(tree, \"HLT_Ele23_Ele12_CaloIdL_TrackIdL_IsoVL\")\n",
    "        HLT_IsoMu24 = getattr(tree, \"HLT_IsoMu24\")\n",
    "        HLT_Mu12 = getattr(tree, \"HLT_Mu12\")\n",
    "        HLT_Mu17_TrkIsoVVL_Mu8_TrkIsoVVL_DZ_Mass3p8 = getattr(tree, \"HLT_Mu17_TrkIsoVVL_Mu8_TrkIsoVVL_DZ_Mass3p8\")\n",
    "        HLT_Mu23_TrkIsoVVL_Ele12_CaloIdL_TrackIdL_IsoVL = getattr(tree, \"HLT_Mu23_TrkIsoVVL_Ele12_CaloIdL_TrackIdL_IsoVL\")\n",
    "        HLT_Mu8_TrkIsoVVL_Ele23_CaloIdL_TrackIdL_IsoVL_DZ = getattr(tree, \"HLT_Mu8_TrkIsoVVL_Ele23_CaloIdL_TrackIdL_IsoVL_DZ\")\n",
    "        HLT_PFMETNoMu110_PFMHTNoMu110_IDTight = getattr(tree, \"HLT_PFMETNoMu110_PFMHTNoMu110_IDTight\")\n",
    "        HLT_PFMETNoMu120_PFMHTNoMu120_IDTight = getattr(tree, \"HLT_PFMETNoMu120_PFMHTNoMu120_IDTight\")\n",
    "        \n",
    "        HLT_PFMET120_PFMHT120_IDTight = getattr(tree, \"HLT_PFMET120_PFMHT120_IDTight\")\n",
    "        HLT_PFHT700_PFMET85_PFMHT85_IDTight= getattr(tree, \"HLT_PFHT700_PFMET85_PFMHT85_IDTight\")\n",
    "        HLT_PFHT800_PFMET75_PFMHT75_IDTight= getattr(tree, \"HLT_PFHT800_PFMET75_PFMHT75_IDTight\")\n",
    "        HLT_PFMET250_HBHECleaned = getattr(tree, \"HLT_PFMET250_HBHECleaned\")\n",
    "        HLT_PFHT500_PFMET100_PFMHT100_IDTight = getattr(tree, \"HLT_PFHT500_PFMET100_PFMHT100_IDTight\")\n",
    "        \n",
    "#         HLT_MET = HLT_PFMET120_PFMHT120_IDTight or HLT_PFHT700_PFMET85_PFMHT85_IDTight or HLT_PFHT800_PFMET75_PFMHT75_IDTight or HLT_PFMET250_HBHECleaned or HLT_PFHT500_PFMET100_PFMHT100_IDTight\n",
    "        HLT_MET = HLT_PFMET120_PFMHT120_IDTight # or HLT_PFMETNoMu110_PFMHTNoMu110_IDTight or HLT_PFMETNoMu120_PFMHTNoMu120_IDTight\n",
    "        \n",
    "        if hasattr(tree, \"Generator_weight\"):\n",
    "            gen_weight = getattr(tree, \"Generator_weight\")\n",
    "            \n",
    "#         channel_mark = getattr(tree, \"channel_mark\")\n",
    "        if (channel != channel_mark) and (channel != 0):\n",
    "            j+=1\n",
    "            continue\n",
    "            \n",
    "        w_lepton_pt = getattr(tree, \"w_lepton_pt\")\n",
    "        z_lepton1_pt = getattr(tree, \"z_lepton1_pt\")\n",
    "        z_lepton2_pt = getattr(tree, \"z_lepton2_pt\")\n",
    "        \n",
    "#         if w_lepton_pt < 25:\n",
    "#             continue\n",
    "            \n",
    "        if z_lepton1_pt < 25:\n",
    "            continue\n",
    "        \n",
    "        if z_lepton2_pt > w_lepton_pt:\n",
    "            if z_lepton2_pt < 25:\n",
    "                continue\n",
    "        else:\n",
    "            if w_lepton_pt < 25:\n",
    "                continue\n",
    "                \n",
    "        if not (HLT_MET):\n",
    "            continue\n",
    "            \n",
    "        var = []\n",
    "        for branch in branch_list:\n",
    "            var.append(getattr(tree, branch))\n",
    "        \n",
    "#         pass_total += 1\n",
    "#         h_total.Fill(var)\n",
    "#         if not HLT_IsoMu24:\n",
    "#             continue\n",
    "            \n",
    "#         if 'SingleMuon' in filename:\n",
    "#             pass_total += 1\n",
    "#             for i in range(len(branch_list)):\n",
    "#                 h_total_list[i].Fill(var[i])\n",
    "#             if not HLT_IsoMu24:\n",
    "#                 continue\n",
    "                \n",
    "#         if 'DoubleMuon' in filename:\n",
    "#             if HLT_IsoMu24:\n",
    "#                 continue\n",
    "#             pass_total += 1\n",
    "#             for i in range(len(branch_list)):\n",
    "#                 h_total_list[i].Fill(var[i])\n",
    "#             if not HLT_Mu17_TrkIsoVVL_Mu8_TrkIsoVVL_DZ_Mass3p8:\n",
    "# #             if not (HLT_Mu17_TrkIsoVVL_Mu8_TrkIsoVVL_DZ_Mass3p8 or HLT_IsoMu24):\n",
    "#                 continue\n",
    "                \n",
    "#         if 'EGamma' in filename:\n",
    "#             if HLT_IsoMu24:\n",
    "#                 continue\n",
    "#             if HLT_Mu17_TrkIsoVVL_Mu8_TrkIsoVVL_DZ_Mass3p8:\n",
    "#                 continue\n",
    "#             pass_total += 1\n",
    "#             for i in range(len(branch_list)):\n",
    "#                 h_total_list[i].Fill(var[i])\n",
    "#             if not (HLT_Ele23_Ele12_CaloIdL_TrackIdL_IsoVL or HLT_Ele32_WPTight_Gsf):\n",
    "# #             if not HLT_Ele32_WPTight_Gsf:\n",
    "#                 continue\n",
    "        \n",
    "#         if 'MuonEG' in filename:\n",
    "#             if HLT_IsoMu24:\n",
    "#                 continue\n",
    "#             if HLT_Mu17_TrkIsoVVL_Mu8_TrkIsoVVL_DZ_Mass3p8:\n",
    "#                 continue\n",
    "#             if HLT_Ele23_Ele12_CaloIdL_TrackIdL_IsoVL or HLT_Ele32_WPTight_Gsf:\n",
    "#                 continue\n",
    "#             pass_total += 1\n",
    "#             for i in range(len(branch_list)):\n",
    "#                 h_total_list[i].Fill(var[i])\n",
    "#             if not(HLT_Mu23_TrkIsoVVL_Ele12_CaloIdL_TrackIdL_IsoVL or HLT_Mu8_TrkIsoVVL_Ele23_CaloIdL_TrackIdL_IsoVL_DZ):\n",
    "#                 continue\n",
    "\n",
    "#         if 'JetHT' in filename:\n",
    "#             pass_total += 1\n",
    "#             for i in range(len(branch_list)):\n",
    "#                 h_total_list[i].Fill(var[i])\n",
    "#             if not (HLT_IsoMu24 or HLT_Mu17_TrkIsoVVL_Mu8_TrkIsoVVL_DZ_Mass3p8 or HLT_Ele23_Ele12_CaloIdL_TrackIdL_IsoVL or HLT_Ele32_WPTight_Gsf or HLT_Mu23_TrkIsoVVL_Ele12_CaloIdL_TrackIdL_IsoVL or HLT_Mu8_TrkIsoVVL_Ele23_CaloIdL_TrackIdL_IsoVL_DZ):\n",
    "#                 continue\n",
    "                \n",
    "        if 'MET' in filename:\n",
    "            pass_total += 1\n",
    "            for i in range(len(branch_list)):\n",
    "                h_total_list[i].Fill(var[i])\n",
    "            if not (HLT_IsoMu24 or HLT_Mu17_TrkIsoVVL_Mu8_TrkIsoVVL_DZ_Mass3p8 or HLT_Ele23_Ele12_CaloIdL_TrackIdL_IsoVL or HLT_Ele32_WPTight_Gsf or HLT_Mu23_TrkIsoVVL_Ele12_CaloIdL_TrackIdL_IsoVL or HLT_Mu8_TrkIsoVVL_Ele23_CaloIdL_TrackIdL_IsoVL_DZ):\n",
    "                continue\n",
    "            \n",
    "                    \n",
    "        if 'wza_UL18_sum_Skim' in filename:\n",
    "            pass_total += 1\n",
    "            for i in range(len(branch_list)):\n",
    "                h_total_list[i].Fill(var[i],1)\n",
    "            if not (HLT_IsoMu24 or HLT_Mu17_TrkIsoVVL_Mu8_TrkIsoVVL_DZ_Mass3p8 or HLT_Ele23_Ele12_CaloIdL_TrackIdL_IsoVL or HLT_Ele32_WPTight_Gsf or HLT_Mu23_TrkIsoVVL_Ele12_CaloIdL_TrackIdL_IsoVL or HLT_Mu8_TrkIsoVVL_Ele23_CaloIdL_TrackIdL_IsoVL_DZ):\n",
    "                continue\n",
    "\n",
    "        for i in range(len(branch_list)):\n",
    "            if gen_weight != 0:\n",
    "                h_HLT_list[i].Fill(var[i],1)\n",
    "            else:\n",
    "                h_HLT_list[i].Fill(var[i])\n",
    "        pass_HLT += 1\n",
    "            \n",
    "\n",
    "    print(filename)\n",
    "    print(\"pass HLT: \", pass_HLT)\n",
    "    print(\"total without overlap: \", pass_total, \"\\n\")\n",
    "    \n",
    "    return    h_total_list,h_HLT_list\n",
    "\n",
    "def SetHist(hist, color, branch):\n",
    "    hist.SetLineColor(color)\n",
    "    hist.SetMarkerStyle(21)\n",
    "    hist.GetYaxis().SetTitle(\"#epsilon = #frac{N_{PASS HLT #cap ALL}}{N_{ALL}}\")\n",
    "    hist.GetYaxis().SetTitleOffset(1.3)\n",
    "    hist.GetXaxis().SetTitle(branch+\" [GeV]\")\n",
    "    hist.GetXaxis().SetTitleOffset(1.2)\n",
    "    hist.SetStats(0)"
   ]
  },
  {
   "cell_type": "code",
   "execution_count": 6,
   "id": "electronic-scene",
   "metadata": {
    "ExecuteTime": {
     "end_time": "2021-02-04T15:28:19.357752Z",
     "start_time": "2021-02-04T15:28:17.483623Z"
    },
    "tags": []
   },
   "outputs": [
    {
     "name": "stderr",
     "output_type": "stream",
     "text": [
      "processing data sample: /eos/user/s/sdeng/WZG_analysis/HLT_template/MET_Run2018A.root: 100%|██████████| 770/770 [00:09<00:00, 84.39it/s]\n",
      "processing data sample: /eos/user/s/sdeng/WZG_analysis/HLT_template/MET_Run2018B.root:   0%|          | 0/446 [00:00<?, ?it/s]"
     ]
    },
    {
     "name": "stdout",
     "output_type": "stream",
     "text": [
      "/eos/user/s/sdeng/WZG_analysis/HLT_template/MET_Run2018A.root\n",
      "pass HLT:  161\n",
      "total without overlap:  166 \n",
      "\n"
     ]
    },
    {
     "name": "stderr",
     "output_type": "stream",
     "text": [
      "processing data sample: /eos/user/s/sdeng/WZG_analysis/HLT_template/MET_Run2018B.root: 100%|██████████| 446/446 [00:04<00:00, 92.99it/s]\n",
      "processing data sample: /eos/user/s/sdeng/WZG_analysis/HLT_template/MET_Run2018C.root:   0%|          | 0/397 [00:00<?, ?it/s]"
     ]
    },
    {
     "name": "stdout",
     "output_type": "stream",
     "text": [
      "/eos/user/s/sdeng/WZG_analysis/HLT_template/MET_Run2018B.root\n",
      "pass HLT:  89\n",
      "total without overlap:  89 \n",
      "\n"
     ]
    },
    {
     "name": "stderr",
     "output_type": "stream",
     "text": [
      "processing data sample: /eos/user/s/sdeng/WZG_analysis/HLT_template/MET_Run2018C.root: 100%|██████████| 397/397 [00:04<00:00, 92.02it/s]\n",
      "processing data sample: /eos/user/s/sdeng/WZG_analysis/HLT_template/MET_Run2018D.root:   0%|          | 5/2005 [00:00<00:44, 45.32it/s]"
     ]
    },
    {
     "name": "stdout",
     "output_type": "stream",
     "text": [
      "/eos/user/s/sdeng/WZG_analysis/HLT_template/MET_Run2018C.root\n",
      "pass HLT:  83\n",
      "total without overlap:  84 \n",
      "\n"
     ]
    },
    {
     "name": "stderr",
     "output_type": "stream",
     "text": [
      "processing data sample: /eos/user/s/sdeng/WZG_analysis/HLT_template/MET_Run2018D.root: 100%|██████████| 2005/2005 [00:24<00:00, 80.32it/s]\n",
      "processing data sample: /eos/user/s/sdeng/WZG_analysis/HLT_template//wza_UL18_sum_Skim.root:   0%|          | 0/11042 [00:00<?, ?it/s]"
     ]
    },
    {
     "name": "stdout",
     "output_type": "stream",
     "text": [
      "/eos/user/s/sdeng/WZG_analysis/HLT_template/MET_Run2018D.root\n",
      "pass HLT:  444\n",
      "total without overlap:  448 \n",
      "\n"
     ]
    },
    {
     "name": "stderr",
     "output_type": "stream",
     "text": [
      "processing data sample: /eos/user/s/sdeng/WZG_analysis/HLT_template//wza_UL18_sum_Skim.root: 100%|██████████| 11042/11042 [02:10<00:00, 84.38it/s] "
     ]
    },
    {
     "name": "stdout",
     "output_type": "stream",
     "text": [
      "/eos/user/s/sdeng/WZG_analysis/HLT_template//wza_UL18_sum_Skim.root\n",
      "pass HLT:  517\n",
      "total without overlap:  523 \n",
      "\n"
     ]
    },
    {
     "name": "stderr",
     "output_type": "stream",
     "text": [
      "\n",
      "Warning in <TClass::Init>: no dictionary for class edm::Hash<1> is available\n",
      "Warning in <TClass::Init>: no dictionary for class edm::ParameterSetBlob is available\n",
      "Warning in <TClass::Init>: no dictionary for class edm::ProcessHistory is available\n",
      "Warning in <TClass::Init>: no dictionary for class edm::ProcessConfiguration is available\n",
      "Warning in <TClass::Init>: no dictionary for class pair<edm::Hash<1>,edm::ParameterSetBlob> is available\n"
     ]
    }
   ],
   "source": [
    "h_deno_list = []\n",
    "h_nume_list = []\n",
    "h_deno_list_MC = []\n",
    "h_nume_list_MC = []\n",
    "\n",
    "for i in range(len(branch_list)):\n",
    "    h_deno = ROOT.TH1D(\"\",\"\",nbins,xleft,xright)\n",
    "    h_nume = ROOT.TH1D(\"\",\"\",nbins,xleft,xright)\n",
    "    h_deno_MC = ROOT.TH1D(\"\",\"\",nbins,xleft,xright)\n",
    "    h_nume_MC = ROOT.TH1D(\"\",\"\",nbins,xleft,xright)\n",
    "#     h_nume = ROOT.TH1D(\"\",\"\",len(xbins)-1,array('d',xbins))\n",
    "#     h_deno = ROOT.TH1D(\"\",\"\",len(xbins)-1,array('d',xbins))\n",
    "#     h_nume_MC = ROOT.TH1D(\"\",\"\",len(xbins)-1,array('d',xbins))\n",
    "#     h_deno_MC = ROOT.TH1D(\"\",\"\",len(xbins)-1,array('d',xbins))\n",
    "    SetHist(h_nume, 1, branch_list[i])\n",
    "    SetHist(h_deno, 2, branch_list[i])\n",
    "    SetHist(h_nume_MC, 1, branch_list[i])\n",
    "    SetHist(h_deno_MC, 2, branch_list[i])\n",
    "    \n",
    "    h_deno_list.append(h_deno)\n",
    "    h_nume_list.append(h_nume)\n",
    "    h_deno_list_MC.append(h_deno_MC)\n",
    "    h_nume_list_MC.append(h_nume_MC)\n",
    "    del h_nume\n",
    "    del h_deno\n",
    "    del h_nume_MC\n",
    "    del h_deno_MC\n",
    "    \n",
    "for file in filelist_data:\n",
    "# for file in filelist_MC:\n",
    "\n",
    "    h_total_list, h_HLT_list = GetHist_HLT(file, branch_list, channel, nbins, xleft, xright, xbins)\n",
    "\n",
    "    for i in range(len(branch_list)):    \n",
    "        h_deno_list[i].Add(h_total_list[i])\n",
    "        h_nume_list[i].Add(h_HLT_list[i])\n",
    "\n",
    "for file in filelist_MC:\n",
    "    \n",
    "    h_total_list_MC, h_HLT_list_MC = GetHist_HLT(file, branch_list, channel, nbins, xleft, xright, xbins)\n",
    "    \n",
    "    for i in range(len(branch_list)):    \n",
    "        h_deno_list_MC[i].Add(h_total_list_MC[i])\n",
    "        h_nume_list_MC[i].Add(h_HLT_list_MC[i])"
   ]
  },
  {
   "cell_type": "raw",
   "id": "naughty-spirituality",
   "metadata": {
    "ExecuteTime": {
     "end_time": "2021-02-04T15:28:19.357752Z",
     "start_time": "2021-02-04T15:28:17.483623Z"
    }
   },
   "source": [
    "c1 = ROOT.TCanvas(\"c1\",\"\",50,50,1200,800)\n",
    "c1.Draw()\n",
    "h_deno_list_MC[0].Draw(\"HIST\")\n",
    "h_nume_list_MC[0].Draw(\"HIST SAME\")"
   ]
  },
  {
   "cell_type": "raw",
   "id": "seasonal-arnold",
   "metadata": {
    "ExecuteTime": {
     "end_time": "2021-02-04T15:28:19.357752Z",
     "start_time": "2021-02-04T15:28:17.483623Z"
    }
   },
   "source": [
    "c1 = ROOT.TCanvas(\"c1\",\"\",50,50,1200,800)\n",
    "c1.Draw()\n",
    "h_deno_list[1].Draw(\"HIST\")\n",
    "h_nume_list[1].Draw(\"HIST SAME\")"
   ]
  },
  {
   "cell_type": "raw",
   "id": "entire-instruction",
   "metadata": {
    "ExecuteTime": {
     "end_time": "2021-02-04T15:28:19.357752Z",
     "start_time": "2021-02-04T15:28:17.483623Z"
    },
    "tags": []
   },
   "source": [
    "c1 = ROOT.TCanvas(\"c1\",\"\",50,50,1200,800)\n",
    "c1.Draw()\n",
    "h_deno_list[2].Draw(\"HIST\")\n",
    "h_nume_list[2].Draw(\"HIST SAME\")"
   ]
  },
  {
   "cell_type": "code",
   "execution_count": 7,
   "id": "7fc2c71d-518c-4def-8465-29817db35f6d",
   "metadata": {
    "ExecuteTime": {
     "end_time": "2021-02-04T15:28:19.357752Z",
     "start_time": "2021-02-04T15:28:17.483623Z"
    },
    "tags": []
   },
   "outputs": [
    {
     "data": {
      "image/png": "[encoded data removed]",
      "text/plain": [
       "<IPython.core.display.Image object>"
      ]
     },
     "metadata": {},
     "output_type": "display_data"
    }
   ],
   "source": [
    "c1 = ROOT.TCanvas(\"c1\",\"\",50,50,1200,800)\n",
    "c1.Draw()\n",
    "h_deno_list[3].Draw(\"HIST\")\n",
    "h_nume_list[3].Draw(\"HIST SAME\")"
   ]
  },
  {
   "cell_type": "code",
   "execution_count": 174,
   "id": "played-validity",
   "metadata": {},
   "outputs": [
    {
     "data": {
      "text/plain": [
       "<cppyy.gbl.TLegendEntry object at 0x558383afec20>"
      ]
     },
     "execution_count": 174,
     "metadata": {},
     "output_type": "execute_result"
    }
   ],
   "source": [
    "legend = ROOT.TLegend(0.50, 0.35, 0.70, 0.55)\n",
    "legend.SetBorderSize(0)\n",
    "legend.SetFillColor(0)\n",
    "legend.SetTextSize(0.035)\n",
    "legend.SetLineWidth(1)\n",
    "legend.SetLineStyle(2)\n",
    "h_nume_list[0].SetMarkerStyle(20)\n",
    "legend.AddEntry(h_nume_list[0],'data')\n",
    "h_nume_list_MC[0].SetLineColor(2)\n",
    "h_nume_list_MC[0].SetMarkerStyle(0)\n",
    "legend.AddEntry(h_nume_list_MC[0],'MC')"
   ]
  },
  {
   "cell_type": "code",
   "execution_count": 197,
   "id": "forced-bahamas",
   "metadata": {
    "ExecuteTime": {
     "end_time": "2021-02-04T15:29:08.349300Z",
     "start_time": "2021-02-04T15:29:08.148531Z"
    },
    "tags": []
   },
   "outputs": [
    {
     "name": "stdout",
     "output_type": "stream",
     "text": [
      "59.7 fb^{-1} (13 TeV)\n"
     ]
    },
    {
     "name": "stderr",
     "output_type": "stream",
     "text": [
      "Warning in <TCanvas::Constructor>: Deleting canvas with same name: c1\n",
      "Info in <TCanvas::Print>: pdf file HLT_eff/HLT_eff_all_w_2018.pdf has been created\n",
      "Info in <TCanvas::Print>: png file HLT_eff/HLT_eff_all_w_2018.png has been created\n"
     ]
    },
    {
     "data": {
      "image/png": "[encoded data removed]",
      "text/plain": [
       "<IPython.core.display.Image object>"
      ]
     },
     "metadata": {},
     "output_type": "display_data"
    }
   ],
   "source": [
    "peff = ROOT.TEfficiency(h_nume_list[0], h_deno_list[0])\n",
    "# peff = ROOT.TEfficiency(h_deno_list[0], h_nume_list[0])\n",
    "peff.SetMarkerStyle(20)\n",
    "\n",
    "peff_MC = ROOT.TEfficiency(h_nume_list_MC[0], h_deno_list_MC[0])\n",
    "peff_MC.SetMarkerStyle(0)\n",
    "peff_MC.SetLineColor(2)\n",
    "\n",
    "# peff = h_HLT.Clone(\"h_eff\")\n",
    "# peff.SetMarkerStyle(21)\n",
    "# peff.Sumw2()\n",
    "# peff.Divide(h_total)\n",
    "# peff.GetYaxis().SetTitle(\"#epsilon = #frac{N_{PASS HLT #cap ALL}}{N_{ALL}}\")\n",
    "# peff.GetYaxis().SetTitleOffset(1.3)\n",
    "# peff.GetXaxis().SetTitle(branch+\" [GeV]\")\n",
    "# peff.GetXaxis().SetTitleOffset(1.2)\n",
    "# peff.SetStats(0)\n",
    "\n",
    "\n",
    "c1 = ROOT.TCanvas(\"c1\",\"\",50,50,1200,800)\n",
    "\n",
    "c1.Draw()\n",
    "frame = c1.DrawFrame(0,0,200,1.1)\n",
    "frame.GetXaxis().SetTitle(branch_list[0]+\" [GeV]\")\n",
    "frame.GetYaxis().SetTitle(\"#epsilon(HLT)\")\n",
    "peff.Draw(\"SAME\")\n",
    "peff_MC.Draw(\"SAME\")\n",
    "legend.Draw(\"SAME\")\n",
    "\n",
    "ROOT.gPad.SetGridy()\n",
    "ROOT.gPad.SetGridx()\n",
    "CMS_lumi(c1, 0, 0)\n",
    "c1.SaveAs('HLT_eff/HLT_eff_all_w_2018.pdf')\n",
    "c1.SaveAs('HLT_eff/HLT_eff_all_w_2018.png')\n",
    "# c1.SaveAs('HLT_eff/HLT_eff_emumu_w_2018.pdf')\n",
    "# c1.SaveAs('HLT_eff/HLT_eff_emumu_w_2018.png')\n",
    "# c1.SaveAs('HLT_eff/HLT_eff_muee_w_2018.pdf')\n",
    "# c1.SaveAs('HLT_eff/HLT_eff_muee_w_2018.png')\n",
    "# c1.SaveAs('HLT_eff/HLT_eff_eee_w_2018.pdf')\n",
    "# c1.SaveAs('HLT_eff/HLT_eff_eee_w_2018.png')\n",
    "# c1.SaveAs('HLT_eff/HLT_eff_mumumu_w_2018.pdf')\n",
    "# c1.SaveAs('HLT_eff/HLT_eff_mumumu_w_2018.png')"
   ]
  },
  {
   "cell_type": "code",
   "execution_count": 198,
   "id": "willing-invite",
   "metadata": {
    "ExecuteTime": {
     "end_time": "2021-02-04T15:29:08.349300Z",
     "start_time": "2021-02-04T15:29:08.148531Z"
    }
   },
   "outputs": [
    {
     "name": "stdout",
     "output_type": "stream",
     "text": [
      "59.7 fb^{-1} (13 TeV)\n"
     ]
    },
    {
     "name": "stderr",
     "output_type": "stream",
     "text": [
      "Warning in <TCanvas::Constructor>: Deleting canvas with same name: c1\n",
      "Info in <TCanvas::Print>: pdf file HLT_eff/HLT_eff_all_z1_2018.pdf has been created\n",
      "Info in <TCanvas::Print>: png file HLT_eff/HLT_eff_all_z1_2018.png has been created\n"
     ]
    },
    {
     "data": {
      "image/png": "[encoded data removed]",
      "text/plain": [
       "<IPython.core.display.Image object>"
      ]
     },
     "metadata": {},
     "output_type": "display_data"
    }
   ],
   "source": [
    "peff = ROOT.TEfficiency(h_nume_list[1], h_deno_list[1])\n",
    "peff.SetMarkerStyle(20)\n",
    "peff_MC = ROOT.TEfficiency(h_nume_list_MC[1], h_deno_list_MC[1])\n",
    "peff_MC.SetMarkerStyle(0)\n",
    "peff_MC.SetLineColor(2)\n",
    "\n",
    "\n",
    "c1 = ROOT.TCanvas(\"c1\",\"\",50,50,1200,800)\n",
    "\n",
    "c1.Draw()\n",
    "frame = c1.DrawFrame(0,0,200,1.1)\n",
    "frame.GetXaxis().SetTitle(branch_list[1]+\" [GeV]\")\n",
    "frame.GetYaxis().SetTitle(\"#epsilon(HLT)\")\n",
    "peff.Draw(\"SAME\")\n",
    "peff_MC.Draw(\"SAME\")\n",
    "legend.Draw(\"SAME\")\n",
    "\n",
    "ROOT.gPad.SetGridy()\n",
    "ROOT.gPad.SetGridx()\n",
    "CMS_lumi(c1, 0, 0)\n",
    "c1.SaveAs('HLT_eff/HLT_eff_all_z1_2018.pdf')\n",
    "c1.SaveAs('HLT_eff/HLT_eff_all_z1_2018.png')\n",
    "# c1.SaveAs('HLT_eff/HLT_eff_emumu_z1_2018.pdf')\n",
    "# c1.SaveAs('HLT_eff/HLT_eff_emumu_z1_2018.png')\n",
    "# c1.SaveAs('HLT_eff/HLT_eff_muee_z1_2018.pdf')\n",
    "# c1.SaveAs('HLT_eff/HLT_eff_muee_z1_2018.png')\n",
    "# c1.SaveAs('HLT_eff/HLT_eff_eee_z1_2018.pdf')\n",
    "# c1.SaveAs('HLT_eff/HLT_eff_eee_z1_2018.png')\n",
    "# c1.SaveAs('HLT_eff/HLT_eff_mumumu_z1_2018.pdf')\n",
    "# c1.SaveAs('HLT_eff/HLT_eff_mumumu_z1_2018.png')"
   ]
  },
  {
   "cell_type": "code",
   "execution_count": 199,
   "id": "thermal-style",
   "metadata": {
    "ExecuteTime": {
     "end_time": "2021-02-04T15:29:08.349300Z",
     "start_time": "2021-02-04T15:29:08.148531Z"
    }
   },
   "outputs": [
    {
     "name": "stdout",
     "output_type": "stream",
     "text": [
      "59.7 fb^{-1} (13 TeV)\n"
     ]
    },
    {
     "name": "stderr",
     "output_type": "stream",
     "text": [
      "Warning in <TCanvas::Constructor>: Deleting canvas with same name: c1\n",
      "Info in <TCanvas::Print>: pdf file HLT_eff/HLT_eff_all_z2_2018.pdf has been created\n",
      "Info in <TCanvas::Print>: png file HLT_eff/HLT_eff_all_z2_2018.png has been created\n"
     ]
    },
    {
     "data": {
      "image/png": "[encoded data removed]",
      "text/plain": [
       "<IPython.core.display.Image object>"
      ]
     },
     "metadata": {},
     "output_type": "display_data"
    }
   ],
   "source": [
    "peff = ROOT.TEfficiency(h_nume_list[2], h_deno_list[2])\n",
    "peff.SetMarkerStyle(20)\n",
    "peff_MC = ROOT.TEfficiency(h_nume_list_MC[2], h_deno_list_MC[2])\n",
    "peff_MC.SetMarkerStyle(0)\n",
    "peff_MC.SetLineColor(2)\n",
    "\n",
    "\n",
    "c1 = ROOT.TCanvas(\"c1\",\"\",50,50,1200,800)\n",
    "\n",
    "c1.Draw()\n",
    "frame = c1.DrawFrame(0,0,200,1.1)\n",
    "frame.GetXaxis().SetTitle(branch_list[2]+\" [GeV]\")\n",
    "frame.GetYaxis().SetTitle(\"#epsilon(HLT)\")\n",
    "peff.Draw(\"SAME\")\n",
    "peff_MC.Draw(\"SAME\")\n",
    "legend.Draw(\"SAME\")\n",
    "\n",
    "ROOT.gPad.SetGridy()\n",
    "ROOT.gPad.SetGridx()\n",
    "CMS_lumi(c1, 0, 0)\n",
    "c1.SaveAs('HLT_eff/HLT_eff_all_z2_2018.pdf')\n",
    "c1.SaveAs('HLT_eff/HLT_eff_all_z2_2018.png')\n",
    "# c1.SaveAs('HLT_eff/HLT_eff_emumu_z2_2018.pdf')\n",
    "# c1.SaveAs('HLT_eff/HLT_eff_emumu_z2_2018.png')\n",
    "# c1.SaveAs('HLT_eff/HLT_eff_eee_z2_2018.pdf')\n",
    "# c1.SaveAs('HLT_eff/HLT_eff_eee_z2_2018.png')\n",
    "# c1.SaveAs('HLT_eff/HLT_eff_mumumu_z2_2018.pdf')\n",
    "# c1.SaveAs('HLT_eff/HLT_eff_mumumu_z2_2018.png')"
   ]
  },
  {
   "cell_type": "code",
   "execution_count": 200,
   "id": "following-paradise",
   "metadata": {},
   "outputs": [
    {
     "name": "stderr",
     "output_type": "stream",
     "text": [
      "Warning in <TH1D::Sumw2>: Sum of squares of weights structure already created\n",
      "Warning in <TH1D::Sumw2>: Sum of squares of weights structure already created\n"
     ]
    },
    {
     "data": {
      "image/png": "[encoded data removed]",
      "text/plain": [
       "<IPython.core.display.Image object>"
      ]
     },
     "metadata": {},
     "output_type": "display_data"
    }
   ],
   "source": [
    "h_ratio1 = h_nume_list[0].Clone()\n",
    "h_ratio2 = h_nume_list_MC[0].Clone()\n",
    "h_ratio1.Sumw2()\n",
    "h_ratio2.Sumw2()\n",
    "h_ratio1.Divide(h_deno_list[0])\n",
    "h_ratio2.Divide(h_deno_list_MC[0])\n",
    "h_ratio = h_ratio1.Clone()\n",
    "h_ratio.Divide(h_ratio2)\n",
    "h_ratio.SetMaximum(1.50)\n",
    "h_ratio.SetMinimum(0.50)\n",
    "c1.Draw()\n",
    "h_ratio.Draw('pe')"
   ]
  },
  {
   "cell_type": "code",
   "execution_count": 201,
   "id": "broad-database",
   "metadata": {},
   "outputs": [
    {
     "name": "stdout",
     "output_type": "stream",
     "text": [
      "98.18%\n",
      "0.82%\n",
      "-1.22%\n"
     ]
    }
   ],
   "source": [
    "total = 150+99+89+430\n",
    "total_pass = 150+96+86+422\n",
    "level = 0.95\n",
    "\n",
    "print ('{:.2%}'.format(total_pass/total))\n",
    "print ('{:.2%}'.format(ROOT.TEfficiency.ClopperPearson(total,total_pass,0.95,1) - total_pass/total))\n",
    "print ('{:.2%}'.format(ROOT.TEfficiency.ClopperPearson(total,total_pass,0.95,0) - total_pass/total))"
   ]
  },
  {
   "cell_type": "code",
   "execution_count": null,
   "id": "advised-square",
   "metadata": {},
   "outputs": [],
   "source": []
  }
 ],
 "metadata": {
  "kernelspec": {
   "display_name": "Python 3",
   "language": "python",
   "name": "python3"
  },
  "language_info": {
   "codemirror_mode": {
    "name": "ipython",
    "version": 3
   },
   "file_extension": ".py",
   "mimetype": "text/x-python",
   "name": "python",
   "nbconvert_exporter": "python",
   "pygments_lexer": "ipython3",
   "version": "3.7.10"
  },
  "varInspector": {
   "cols": {
    "lenName": 16,
    "lenType": 16,
    "lenVar": 40
   },
   "kernels_config": {
    "python": {
     "delete_cmd_postfix": "",
     "delete_cmd_prefix": "del ",
     "library": "var_list.py",
     "varRefreshCmd": "print(var_dic_list())"
    },
    "r": {
     "delete_cmd_postfix": ") ",
     "delete_cmd_prefix": "rm(",
     "library": "var_list.r",
     "varRefreshCmd": "cat(var_dic_list()) "
    }
   },
   "types_to_exclude": [
    "module",
    "function",
    "builtin_function_or_method",
    "instance",
    "_Feature"
   ],
   "window_display": false
  }
 },
 "nbformat": 4,
 "nbformat_minor": 5
}
